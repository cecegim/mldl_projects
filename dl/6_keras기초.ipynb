{
  "nbformat": 4,
  "nbformat_minor": 0,
  "metadata": {
    "colab": {
      "name": "6.keras기초.ipynb",
      "provenance": [],
      "toc_visible": true
    },
    "kernelspec": {
      "name": "python3",
      "display_name": "Python 3"
    }
  },
  "cells": [
    {
      "cell_type": "markdown",
      "metadata": {
        "id": "fanC-K2fWj19",
        "colab_type": "text"
      },
      "source": [
        "# 개요\n",
        "\n",
        "- 케라스는 많은 사람들이 손쉽게 딥러닝을 할 수 있도록 다양한 엔진(플랫폼)위에서 딥러닝 모델을 구현할 수 있는 API이다\n",
        "- 어떤 엔진 사용하더라도 그 위에서 구현된 코드는 동일하다\n",
        "- 2017\n",
        "  - Tensorflow Dev SUMMIT 2017에서 케라스와 텐서플로우의 통합을 발표\n",
        "- tf.keras를 통해서 케라스를 사용\n",
        "- 텐서플로우 코어 레이어와 케라스 레이어는 동일\n",
        "- 순수 텐서플로우 기능과 케라스 기능이 쉽게 어울려서 사용할 수 있다\n",
        "- 모델 정의는 케라스의 고차원 API를 이용하여 구현"
      ]
    },
    {
      "cell_type": "code",
      "metadata": {
        "id": "WUb1-D6HYXyK",
        "colab_type": "code",
        "colab": {}
      },
      "source": [
        "import keras\n",
        "%tensorflow_version 1.x"
      ],
      "execution_count": 0,
      "outputs": []
    },
    {
      "cell_type": "markdown",
      "metadata": {
        "id": "O9w81ZeEYtwB",
        "colab_type": "text"
      },
      "source": [
        "# 간단한 데이터로 기본 루틴"
      ]
    },
    {
      "cell_type": "code",
      "metadata": {
        "id": "kKlTyr9gYb-P",
        "colab_type": "code",
        "colab": {}
      },
      "source": [
        "import numpy as np"
      ],
      "execution_count": 0,
      "outputs": []
    },
    {
      "cell_type": "code",
      "metadata": {
        "id": "2yHBOFGpY7GQ",
        "colab_type": "code",
        "outputId": "18cbce28-03d4-4d39-c962-faba07a1e87d",
        "colab": {
          "base_uri": "https://localhost:8080/",
          "height": 35
        }
      },
      "source": [
        "# 데이터 준비\n",
        "x=np.array([0,1,2,3,4])\n",
        "# 인공신경망:딥러닝의 알고리즘\n",
        "# W(가중치) -> 2\n",
        "# b(편향) -> 1\n",
        "y=x*2+1\n",
        "x,y"
      ],
      "execution_count": 0,
      "outputs": [
        {
          "output_type": "execute_result",
          "data": {
            "text/plain": [
              "(array([0, 1, 2, 3, 4]), array([1, 3, 5, 7, 9]))"
            ]
          },
          "metadata": {
            "tags": []
          },
          "execution_count": 13
        }
      ]
    },
    {
      "cell_type": "code",
      "metadata": {
        "id": "3u2zyX1mZkRq",
        "colab_type": "code",
        "colab": {}
      },
      "source": [
        "# 인공신경망 만들기 -> 층을 쌓는다\n",
        "# 1. 인공신경망 모델을 만들기 시작했음을 파이썬 프로세스에게 알린다\n",
        "model=keras.models.Sequential()"
      ],
      "execution_count": 0,
      "outputs": []
    },
    {
      "cell_type": "code",
      "metadata": {
        "id": "LNy8TDWNaaoh",
        "colab_type": "code",
        "outputId": "59250d8b-b6e8-4b6f-d9e5-c0841a4a6fc9",
        "colab": {
          "base_uri": "https://localhost:8080/",
          "height": 89
        }
      },
      "source": [
        "# 2. 레이어 추가 -> 층을 쌓는다\n",
        "# 입력 노드는 한개, 가중치도 한개인 선형 처리 계층\n",
        "model.add(keras.layers.Dense(1, input_shape=(1,)))"
      ],
      "execution_count": 0,
      "outputs": [
        {
          "output_type": "stream",
          "text": [
            "WARNING:tensorflow:From /usr/local/lib/python3.6/dist-packages/keras/backend/tensorflow_backend.py:541: The name tf.placeholder is deprecated. Please use tf.compat.v1.placeholder instead.\n",
            "\n",
            "WARNING:tensorflow:From /usr/local/lib/python3.6/dist-packages/keras/backend/tensorflow_backend.py:4432: The name tf.random_uniform is deprecated. Please use tf.random.uniform instead.\n",
            "\n"
          ],
          "name": "stdout"
        }
      ]
    },
    {
      "cell_type": "code",
      "metadata": {
        "id": "zGBDKkwEbPNh",
        "colab_type": "code",
        "colab": {}
      },
      "source": [
        "#3. 학습단계 설정\n",
        "model.compile('SGD','mse')"
      ],
      "execution_count": 0,
      "outputs": []
    },
    {
      "cell_type": "code",
      "metadata": {
        "id": "wd8nA4Ohbs5I",
        "colab_type": "code",
        "outputId": "1af3c3ae-a033-4a55-d2de-52a69bd273f3",
        "colab": {
          "base_uri": "https://localhost:8080/",
          "height": 323
        }
      },
      "source": [
        "# 훈련\n",
        "#훈련데이터, 답 삽입\n",
        "#epochs:인공신경망이 한번 학습을 수행할때 사용된 데이터\n",
        "#verbose:로그, 학습진행사항 표시. 0이면 미표시\n",
        "model.fit(x[:2], y[:2],epochs=1000,verbose=0)"
      ],
      "execution_count": 0,
      "outputs": [
        {
          "output_type": "stream",
          "text": [
            "WARNING:tensorflow:From /usr/local/lib/python3.6/dist-packages/keras/backend/tensorflow_backend.py:1033: The name tf.assign_add is deprecated. Please use tf.compat.v1.assign_add instead.\n",
            "\n",
            "WARNING:tensorflow:From /usr/local/lib/python3.6/dist-packages/keras/backend/tensorflow_backend.py:1020: The name tf.assign is deprecated. Please use tf.compat.v1.assign instead.\n",
            "\n",
            "WARNING:tensorflow:From /usr/local/lib/python3.6/dist-packages/keras/backend/tensorflow_backend.py:3005: The name tf.Session is deprecated. Please use tf.compat.v1.Session instead.\n",
            "\n",
            "WARNING:tensorflow:From /usr/local/lib/python3.6/dist-packages/keras/backend/tensorflow_backend.py:190: The name tf.get_default_session is deprecated. Please use tf.compat.v1.get_default_session instead.\n",
            "\n",
            "WARNING:tensorflow:From /usr/local/lib/python3.6/dist-packages/keras/backend/tensorflow_backend.py:197: The name tf.ConfigProto is deprecated. Please use tf.compat.v1.ConfigProto instead.\n",
            "\n",
            "WARNING:tensorflow:From /usr/local/lib/python3.6/dist-packages/keras/backend/tensorflow_backend.py:207: The name tf.global_variables is deprecated. Please use tf.compat.v1.global_variables instead.\n",
            "\n",
            "WARNING:tensorflow:From /usr/local/lib/python3.6/dist-packages/keras/backend/tensorflow_backend.py:216: The name tf.is_variable_initialized is deprecated. Please use tf.compat.v1.is_variable_initialized instead.\n",
            "\n",
            "WARNING:tensorflow:From /usr/local/lib/python3.6/dist-packages/keras/backend/tensorflow_backend.py:223: The name tf.variables_initializer is deprecated. Please use tf.compat.v1.variables_initializer instead.\n",
            "\n"
          ],
          "name": "stdout"
        },
        {
          "output_type": "execute_result",
          "data": {
            "text/plain": [
              "<keras.callbacks.History at 0x7f32c6eddeb8>"
            ]
          },
          "metadata": {
            "tags": []
          },
          "execution_count": 19
        }
      ]
    },
    {
      "cell_type": "code",
      "metadata": {
        "id": "6uzXc44IdWN-",
        "colab_type": "code",
        "outputId": "2a4c7ce1-ae88-4945-f1cc-07426a949ed3",
        "colab": {
          "base_uri": "https://localhost:8080/",
          "height": 35
        }
      },
      "source": [
        "#예측평가\n",
        "model.predict(x[2:]).flatten()"
      ],
      "execution_count": 0,
      "outputs": [
        {
          "output_type": "execute_result",
          "data": {
            "text/plain": [
              "array([5.0017376, 7.002995 , 9.004252 ], dtype=float32)"
            ]
          },
          "metadata": {
            "tags": []
          },
          "execution_count": 20
        }
      ]
    },
    {
      "cell_type": "code",
      "metadata": {
        "id": "T6jMwIqMdwmn",
        "colab_type": "code",
        "outputId": "b832a10e-b0c3-4d82-e100-3025d022f366",
        "colab": {
          "base_uri": "https://localhost:8080/",
          "height": 35
        }
      },
      "source": [
        "y[2:]"
      ],
      "execution_count": 0,
      "outputs": [
        {
          "output_type": "execute_result",
          "data": {
            "text/plain": [
              "array([5, 7, 9])"
            ]
          },
          "metadata": {
            "tags": []
          },
          "execution_count": 21
        }
      ]
    },
    {
      "cell_type": "code",
      "metadata": {
        "id": "NuzUPiemhNnE",
        "colab_type": "code",
        "colab": {}
      },
      "source": [
        ""
      ],
      "execution_count": 0,
      "outputs": []
    }
  ]
}