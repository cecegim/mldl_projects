{
  "nbformat": 4,
  "nbformat_minor": 0,
  "metadata": {
    "colab": {
      "name": "7.케라스를 이용한 CNN구현.ipynb",
      "provenance": [],
      "collapsed_sections": [],
      "toc_visible": true
    },
    "kernelspec": {
      "name": "python3",
      "display_name": "Python 3"
    }
  },
  "cells": [
    {
      "cell_type": "markdown",
      "metadata": {
        "id": "ED7PoSeNjghS",
        "colab_type": "text"
      },
      "source": [
        "# 절차\n",
        "\n",
        "- 시퀀스준비 -> add() -> compile() -> fit() -> 평가"
      ]
    },
    {
      "cell_type": "code",
      "metadata": {
        "id": "eN-Xb5TriSaZ",
        "colab_type": "code",
        "colab": {}
      },
      "source": [
        "import keras\n",
        "from keras import models, layers, backend\n",
        "from keras.datasets import mnist\n",
        "%tensorflow_version 1.x"
      ],
      "execution_count": 0,
      "outputs": []
    },
    {
      "cell_type": "markdown",
      "metadata": {
        "id": "nL4dCRTijAKr",
        "colab_type": "text"
      },
      "source": [
        "# 데이터 확보,준비"
      ]
    },
    {
      "cell_type": "code",
      "metadata": {
        "id": "Nfff1C7siqx9",
        "colab_type": "code",
        "colab": {}
      },
      "source": [
        "(x_train, y_train),(x_test,y_test)=mnist.load_data()\n"
      ],
      "execution_count": 0,
      "outputs": []
    },
    {
      "cell_type": "code",
      "metadata": {
        "id": "Cp2-qvV8j98q",
        "colab_type": "code",
        "outputId": "05c7cc31-efea-4820-9300-5a359d022696",
        "colab": {
          "base_uri": "https://localhost:8080/",
          "height": 35
        }
      },
      "source": [
        "x_train.shape, y_train.shape\n",
        "#y_train, y_test는 벡터화 처리해야 한다"
      ],
      "execution_count": 0,
      "outputs": [
        {
          "output_type": "execute_result",
          "data": {
            "text/plain": [
              "((60000, 28, 28), (60000,))"
            ]
          },
          "metadata": {
            "tags": []
          },
          "execution_count": 49
        }
      ]
    },
    {
      "cell_type": "code",
      "metadata": {
        "id": "rVZum8Vbk6Ly",
        "colab_type": "code",
        "colab": {}
      },
      "source": [
        "#이미지 크기\n",
        "img_rows, img_cols= x_train.shape[1:]"
      ],
      "execution_count": 0,
      "outputs": []
    },
    {
      "cell_type": "code",
      "metadata": {
        "id": "dcN_5M8zlksx",
        "colab_type": "code",
        "outputId": "df89cec2-a2c6-40d9-d270-df793c13c679",
        "colab": {
          "base_uri": "https://localhost:8080/",
          "height": 35
        }
      },
      "source": [
        "#채널을 설명하는 값에 의해 데이터에 채널값을 앞 혹은 뒤에 추가하여 dimension을 확장<-tensorflow에서는 안보였던 부분\n",
        "backend.image_data_format()"
      ],
      "execution_count": 0,
      "outputs": [
        {
          "output_type": "execute_result",
          "data": {
            "text/plain": [
              "'channels_last'"
            ]
          },
          "metadata": {
            "tags": []
          },
          "execution_count": 51
        }
      ]
    },
    {
      "cell_type": "code",
      "metadata": {
        "id": "0j87-0TglvYQ",
        "colab_type": "code",
        "colab": {}
      },
      "source": [
        "#입력데이터보정(reshape)\n",
        "if backend.image_data_format()=='channels_first':\n",
        "  #[60000,28,28]->[60000,1,28,28]\n",
        "  x_train=x_train.reshape(x_train.shape[0],1,img_rows,img_cols)\n",
        "  x_test=x_test.reshape(x_test.shape[0],1,img_rows,img_cols)\n",
        "  input_shape=(1,img_rows,img_cols)\n",
        "else:\n",
        "  #[60000,28,28]->[60000,28,28,1] <- 텐서플로우의 CNN예제의 x의 shape이었다\n",
        "  x_train=x_train.reshape(x_train.shape[0],img_rows,img_cols,1)\n",
        "  x_test=x_test.reshape(x_test.shape[0],img_rows,img_cols,1)\n",
        "  input_shape=(img_rows,img_cols,1)"
      ],
      "execution_count": 0,
      "outputs": []
    },
    {
      "cell_type": "code",
      "metadata": {
        "id": "a_BFyjY0oO1p",
        "colab_type": "code",
        "colab": {}
      },
      "source": [
        "#배열의 형변환\n",
        "x_train=x_train.astype('float32')\n",
        "x_test=x_test.astype('float32')"
      ],
      "execution_count": 0,
      "outputs": []
    },
    {
      "cell_type": "code",
      "metadata": {
        "id": "V_vMKGb-pDzh",
        "colab_type": "code",
        "colab": {}
      },
      "source": [
        "#데이터의 정규화, \n",
        "x_train/=255\n",
        "x_test /=255"
      ],
      "execution_count": 0,
      "outputs": []
    },
    {
      "cell_type": "code",
      "metadata": {
        "id": "72DFayV8pr7X",
        "colab_type": "code",
        "outputId": "5d347b26-fa55-4b77-ac4d-454717443b7c",
        "colab": {
          "base_uri": "https://localhost:8080/",
          "height": 35
        }
      },
      "source": [
        "#레이블 데이터 -> 벡터화\n",
        "y_train[:10]"
      ],
      "execution_count": 0,
      "outputs": [
        {
          "output_type": "execute_result",
          "data": {
            "text/plain": [
              "array([5, 0, 4, 1, 9, 2, 1, 3, 1, 4], dtype=uint8)"
            ]
          },
          "metadata": {
            "tags": []
          },
          "execution_count": 55
        }
      ]
    },
    {
      "cell_type": "code",
      "metadata": {
        "id": "pCU5sNfzpzwd",
        "colab_type": "code",
        "outputId": "47fc19bd-26d3-421f-d642-1dae841cb405",
        "colab": {
          "base_uri": "https://localhost:8080/",
          "height": 35
        }
      },
      "source": [
        "y_train=keras.utils.to_categorical(y_train, 10)\n",
        "y_test=keras.utils.to_categorical(y_test, 10) \n",
        "y_train.shape,y_train[0]"
      ],
      "execution_count": 0,
      "outputs": [
        {
          "output_type": "execute_result",
          "data": {
            "text/plain": [
              "((60000, 10), array([0., 0., 0., 0., 0., 1., 0., 0., 0., 0.], dtype=float32))"
            ]
          },
          "metadata": {
            "tags": []
          },
          "execution_count": 56
        }
      ]
    },
    {
      "cell_type": "markdown",
      "metadata": {
        "id": "bYqQU1PSuCaP",
        "colab_type": "text"
      },
      "source": [
        "# 레이어 설계\n",
        "\n",
        "- 시퀀스->add->compile->fit->평가"
      ]
    },
    {
      "cell_type": "code",
      "metadata": {
        "id": "Z7D6Gu2IqaUx",
        "colab_type": "code",
        "colab": {}
      },
      "source": [
        "#모델준비(시퀀스)\n",
        "model=models.Sequential()"
      ],
      "execution_count": 0,
      "outputs": []
    },
    {
      "cell_type": "code",
      "metadata": {
        "id": "hzDOCGBKuh5N",
        "colab_type": "code",
        "colab": {}
      },
      "source": [
        "#합성곱층 추가:채널수 증가, 특징 추출\n",
        "# input_shape:입력데이터의 shape\n",
        "model.add(layers.Conv2D(32,kernel_size=(3,3),strides=(1,1),padding='valid',activation='relu', input_shape=input_shape))"
      ],
      "execution_count": 0,
      "outputs": []
    },
    {
      "cell_type": "code",
      "metadata": {
        "id": "nXlMwWxAuiE0",
        "colab_type": "code",
        "colab": {}
      },
      "source": [
        "#풀링층 추가:이미지사이즈 감소, 특징강화\n",
        "model.add(layers.MaxPool2D(pool_size=(2,2),strides=None))"
      ],
      "execution_count": 0,
      "outputs": []
    },
    {
      "cell_type": "code",
      "metadata": {
        "id": "ilg5VDwQwAUT",
        "colab_type": "code",
        "outputId": "a9a9abaa-8c69-4d6c-addf-de29d01eed39",
        "colab": {
          "base_uri": "https://localhost:8080/",
          "height": 127
        }
      },
      "source": [
        "#과적합 방지:데이터에 적응되는것을 방지, 학습을 방해\n",
        "model.add(layers.Dropout(0.25))"
      ],
      "execution_count": 0,
      "outputs": [
        {
          "output_type": "stream",
          "text": [
            "WARNING:tensorflow:From /usr/local/lib/python3.6/dist-packages/keras/backend/tensorflow_backend.py:148: The name tf.placeholder_with_default is deprecated. Please use tf.compat.v1.placeholder_with_default instead.\n",
            "\n",
            "WARNING:tensorflow:From /usr/local/lib/python3.6/dist-packages/keras/backend/tensorflow_backend.py:3733: calling dropout (from tensorflow.python.ops.nn_ops) with keep_prob is deprecated and will be removed in a future version.\n",
            "Instructions for updating:\n",
            "Please use `rate` instead of `keep_prob`. Rate should be set to `rate = 1 - keep_prob`.\n"
          ],
          "name": "stdout"
        }
      ]
    },
    {
      "cell_type": "code",
      "metadata": {
        "id": "NA1F9aqSw-Nv",
        "colab_type": "code",
        "colab": {}
      },
      "source": [
        "#합성곱층 추가:채널수 증가, 특징 추출\n",
        "model.add(layers.Conv2D(64,(3,3),activation='relu'))"
      ],
      "execution_count": 0,
      "outputs": []
    },
    {
      "cell_type": "code",
      "metadata": {
        "id": "ITEuhT1DxAGb",
        "colab_type": "code",
        "colab": {}
      },
      "source": [
        "#풀링층 추가:이미지사이즈 감소, 특징강화\n",
        "model.add(layers.MaxPool2D(pool_size=(2,2)))"
      ],
      "execution_count": 0,
      "outputs": []
    },
    {
      "cell_type": "code",
      "metadata": {
        "id": "rMQix7OSwAXG",
        "colab_type": "code",
        "colab": {}
      },
      "source": [
        "#과적합 방지:데이터에 적응되는것을 방지, 학습을 방해\n",
        "model.add(layers.Dropout(0.25))"
      ],
      "execution_count": 0,
      "outputs": []
    },
    {
      "cell_type": "code",
      "metadata": {
        "id": "wmKPtttR1ZRh",
        "colab_type": "code",
        "colab": {}
      },
      "source": [
        "#데이터를 편다 -> flatten 처리\n",
        "model.add(layers.Flatten())"
      ],
      "execution_count": 0,
      "outputs": []
    },
    {
      "cell_type": "code",
      "metadata": {
        "id": "4EB8hqRewh_l",
        "colab_type": "code",
        "colab": {}
      },
      "source": [
        "#전결합층:데이터를 1차로 펴준다\n",
        "#7x7x64->flatten->128에수렴\n",
        "model.add(layers.Dense(128,activation='relu'))"
      ],
      "execution_count": 0,
      "outputs": []
    },
    {
      "cell_type": "code",
      "metadata": {
        "id": "BDTV4gL-1PJK",
        "colab_type": "code",
        "colab": {}
      },
      "source": [
        "#과적합 방지:데이터에 적응되는것을 방지, 학습을 방해\n",
        "model.add(layers.Dropout(0.5))"
      ],
      "execution_count": 0,
      "outputs": []
    },
    {
      "cell_type": "code",
      "metadata": {
        "id": "_MB2fMzuwAZ0",
        "colab_type": "code",
        "colab": {}
      },
      "source": [
        "#출력층:데이터10개로 수렴\n",
        "model.add(layers.Dense(10,activation='softmax'))"
      ],
      "execution_count": 0,
      "outputs": []
    },
    {
      "cell_type": "markdown",
      "metadata": {
        "id": "aFlftSZX2K4B",
        "colab_type": "text"
      },
      "source": [
        "# 학습 및 평가\n"
      ]
    },
    {
      "cell_type": "code",
      "metadata": {
        "id": "vOHOXYU42NH2",
        "colab_type": "code",
        "outputId": "471db115-5db3-4fb8-ab6d-4af4026af30f",
        "colab": {
          "base_uri": "https://localhost:8080/",
          "height": 89
        }
      },
      "source": [
        "model.compile(loss=keras.losses.categorical_crossentropy,optimizer='rmsprop',metrics=['accuracy'])"
      ],
      "execution_count": 0,
      "outputs": [
        {
          "output_type": "stream",
          "text": [
            "WARNING:tensorflow:From /usr/local/lib/python3.6/dist-packages/keras/optimizers.py:793: The name tf.train.Optimizer is deprecated. Please use tf.compat.v1.train.Optimizer instead.\n",
            "\n",
            "WARNING:tensorflow:From /usr/local/lib/python3.6/dist-packages/keras/backend/tensorflow_backend.py:3576: The name tf.log is deprecated. Please use tf.math.log instead.\n",
            "\n"
          ],
          "name": "stdout"
        }
      ]
    },
    {
      "cell_type": "code",
      "metadata": {
        "id": "eGGQV7Y82f7Q",
        "colab_type": "code",
        "colab": {}
      },
      "source": [
        "epochs=10\n",
        "batch_size=128"
      ],
      "execution_count": 0,
      "outputs": []
    },
    {
      "cell_type": "code",
      "metadata": {
        "id": "oixezqj-2XMT",
        "colab_type": "code",
        "outputId": "d7e11115-9300-44c8-c6d5-4dd64092d83d",
        "colab": {
          "base_uri": "https://localhost:8080/",
          "height": 755
        }
      },
      "source": [
        "model.fit(x_train,y_train,batch_size=batch_size,epochs=epochs,validation_split=0.25)"
      ],
      "execution_count": 0,
      "outputs": [
        {
          "output_type": "stream",
          "text": [
            "WARNING:tensorflow:From /usr/local/lib/python3.6/dist-packages/tensorflow_core/python/ops/math_grad.py:1424: where (from tensorflow.python.ops.array_ops) is deprecated and will be removed in a future version.\n",
            "Instructions for updating:\n",
            "Use tf.where in 2.0, which has the same broadcast rule as np.where\n",
            "WARNING:tensorflow:From /usr/local/lib/python3.6/dist-packages/keras/backend/tensorflow_backend.py:1033: The name tf.assign_add is deprecated. Please use tf.compat.v1.assign_add instead.\n",
            "\n",
            "WARNING:tensorflow:From /usr/local/lib/python3.6/dist-packages/keras/backend/tensorflow_backend.py:1020: The name tf.assign is deprecated. Please use tf.compat.v1.assign instead.\n",
            "\n",
            "WARNING:tensorflow:From /usr/local/lib/python3.6/dist-packages/keras/backend/tensorflow_backend.py:3005: The name tf.Session is deprecated. Please use tf.compat.v1.Session instead.\n",
            "\n",
            "Train on 45000 samples, validate on 15000 samples\n",
            "Epoch 1/10\n",
            "WARNING:tensorflow:From /usr/local/lib/python3.6/dist-packages/keras/backend/tensorflow_backend.py:190: The name tf.get_default_session is deprecated. Please use tf.compat.v1.get_default_session instead.\n",
            "\n",
            "WARNING:tensorflow:From /usr/local/lib/python3.6/dist-packages/keras/backend/tensorflow_backend.py:197: The name tf.ConfigProto is deprecated. Please use tf.compat.v1.ConfigProto instead.\n",
            "\n",
            "WARNING:tensorflow:From /usr/local/lib/python3.6/dist-packages/keras/backend/tensorflow_backend.py:207: The name tf.global_variables is deprecated. Please use tf.compat.v1.global_variables instead.\n",
            "\n",
            "WARNING:tensorflow:From /usr/local/lib/python3.6/dist-packages/keras/backend/tensorflow_backend.py:216: The name tf.is_variable_initialized is deprecated. Please use tf.compat.v1.is_variable_initialized instead.\n",
            "\n",
            "WARNING:tensorflow:From /usr/local/lib/python3.6/dist-packages/keras/backend/tensorflow_backend.py:223: The name tf.variables_initializer is deprecated. Please use tf.compat.v1.variables_initializer instead.\n",
            "\n",
            "45000/45000 [==============================] - 41s 904us/step - loss: 0.3970 - acc: 0.8744 - val_loss: 0.0941 - val_acc: 0.9707\n",
            "Epoch 2/10\n",
            "45000/45000 [==============================] - 40s 885us/step - loss: 0.1287 - acc: 0.9612 - val_loss: 0.0633 - val_acc: 0.9815\n",
            "Epoch 3/10\n",
            "45000/45000 [==============================] - 40s 885us/step - loss: 0.0967 - acc: 0.9710 - val_loss: 0.0602 - val_acc: 0.9807\n",
            "Epoch 4/10\n",
            "45000/45000 [==============================] - 40s 885us/step - loss: 0.0784 - acc: 0.9760 - val_loss: 0.0478 - val_acc: 0.9850\n",
            "Epoch 5/10\n",
            "45000/45000 [==============================] - 40s 890us/step - loss: 0.0687 - acc: 0.9798 - val_loss: 0.0437 - val_acc: 0.9869\n",
            "Epoch 6/10\n",
            "45000/45000 [==============================] - 40s 886us/step - loss: 0.0600 - acc: 0.9818 - val_loss: 0.0400 - val_acc: 0.9877\n",
            "Epoch 7/10\n",
            "45000/45000 [==============================] - 40s 887us/step - loss: 0.0572 - acc: 0.9834 - val_loss: 0.0391 - val_acc: 0.9882\n",
            "Epoch 8/10\n",
            "45000/45000 [==============================] - 40s 896us/step - loss: 0.0534 - acc: 0.9843 - val_loss: 0.0370 - val_acc: 0.9882\n",
            "Epoch 9/10\n",
            "45000/45000 [==============================] - 41s 906us/step - loss: 0.0507 - acc: 0.9849 - val_loss: 0.0348 - val_acc: 0.9897\n",
            "Epoch 10/10\n",
            "45000/45000 [==============================] - 40s 899us/step - loss: 0.0468 - acc: 0.9861 - val_loss: 0.0349 - val_acc: 0.9897\n"
          ],
          "name": "stdout"
        },
        {
          "output_type": "execute_result",
          "data": {
            "text/plain": [
              "<keras.callbacks.History at 0x7fc4cb304b70>"
            ]
          },
          "metadata": {
            "tags": []
          },
          "execution_count": 71
        }
      ]
    },
    {
      "cell_type": "code",
      "metadata": {
        "id": "aFYYEqSo4snU",
        "colab_type": "code",
        "outputId": "e7795e7d-748c-4429-e6c5-406e25112b7a",
        "colab": {
          "base_uri": "https://localhost:8080/",
          "height": 53
        }
      },
      "source": [
        "#점수\n",
        "score=model.evaluate(x_test,y_test)\n",
        "score"
      ],
      "execution_count": 0,
      "outputs": [
        {
          "output_type": "stream",
          "text": [
            "10000/10000 [==============================] - 3s 295us/step\n"
          ],
          "name": "stdout"
        },
        {
          "output_type": "execute_result",
          "data": {
            "text/plain": [
              "[0.026709363029536325, 0.991]"
            ]
          },
          "metadata": {
            "tags": []
          },
          "execution_count": 73
        }
      ]
    },
    {
      "cell_type": "code",
      "metadata": {
        "id": "Sgp-GPjc6QHX",
        "colab_type": "code",
        "colab": {}
      },
      "source": [
        ""
      ],
      "execution_count": 0,
      "outputs": []
    }
  ]
}