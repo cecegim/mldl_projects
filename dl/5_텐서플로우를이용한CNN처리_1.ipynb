{
  "nbformat": 4,
  "nbformat_minor": 0,
  "metadata": {
    "colab": {
      "name": "5.텐서플로우를이용한CNN처리.ipynb",
      "provenance": [],
      "collapsed_sections": []
    },
    "kernelspec": {
      "name": "python3",
      "display_name": "Python 3"
    }
  },
  "cells": [
    {
      "cell_type": "markdown",
      "metadata": {
        "id": "HUJZnXZ2zHds",
        "colab_type": "text"
      },
      "source": [
        "# 1. 연구목표\n",
        "\n",
        "- MNIST 손글씨 이미지 데이터를 사용\n",
        "- 손글씨 이미지를 분류!!\n",
        "- 알고리즘 목적\n",
        "  - 딥러닝의 CNN을 이용하여서 손글씨를 예측하는 모델을 구축하겟다\n",
        "  - 예측 모델나오고, 정확도를 평가하여 관찰\n",
        "- 딥러닝 엔진중 텐서플로우를 이용하여 구현한다"
      ]
    },
    {
      "cell_type": "markdown",
      "metadata": {
        "id": "MT7gufdpzHgQ",
        "colab_type": "text"
      },
      "source": [
        "# 2. 데이터 확보/수집"
      ]
    },
    {
      "cell_type": "code",
      "metadata": {
        "id": "p_AHVnOf2Lvj",
        "colab_type": "code",
        "colab": {}
      },
      "source": [
        "import tensorflow as tf\n",
        "%tensorflow_version 1.x"
      ],
      "execution_count": 0,
      "outputs": []
    },
    {
      "cell_type": "code",
      "metadata": {
        "id": "mxHVH6Np2Ynw",
        "colab_type": "code",
        "colab": {
          "base_uri": "https://localhost:8080/",
          "height": 52
        },
        "outputId": "22793328-fe07-4dde-de3b-b14723f6d2e7"
      },
      "source": [
        "mnist = tf.keras.datasets.mnist.load_data(path='mnist.npz')"
      ],
      "execution_count": 3,
      "outputs": [
        {
          "output_type": "stream",
          "text": [
            "Downloading data from https://storage.googleapis.com/tensorflow/tf-keras-datasets/mnist.npz\n",
            "11493376/11490434 [==============================] - 0s 0us/step\n"
          ],
          "name": "stdout"
        }
      ]
    },
    {
      "cell_type": "code",
      "metadata": {
        "id": "L9UmR-4G2YqZ",
        "colab_type": "code",
        "colab": {
          "base_uri": "https://localhost:8080/",
          "height": 106
        },
        "outputId": "39d31a56-b339-4a86-e874-3d0ea2d9caf6"
      },
      "source": [
        "type(mnist), len(mnist[0][0]), mnist[0][1], len(mnist[1][0]), mnist[1][1]\n",
        "# 훈련용데이터 : mnist[0][0]\n",
        "# 훈련용레이블 : mnist[0][1]\n",
        "# 테스트용데이터 : mnist[1][0]\n",
        "# 테스트용레이블 : mnist[1][1]\n",
        "# 레이블 데이터는 백터화가 않되 있고, 분류형으로 0~9까지 배치되어 있다"
      ],
      "execution_count": 7,
      "outputs": [
        {
          "output_type": "execute_result",
          "data": {
            "text/plain": [
              "(tuple,\n",
              " 60000,\n",
              " array([5, 0, 4, ..., 5, 6, 8], dtype=uint8),\n",
              " 10000,\n",
              " array([7, 2, 1, ..., 4, 5, 6], dtype=uint8))"
            ]
          },
          "metadata": {
            "tags": []
          },
          "execution_count": 7
        }
      ]
    },
    {
      "cell_type": "code",
      "metadata": {
        "id": "IXXU0JS12Ysw",
        "colab_type": "code",
        "colab": {
          "base_uri": "https://localhost:8080/",
          "height": 552
        },
        "outputId": "9908023e-f3df-49ff-b294-a52b6972c2f4"
      },
      "source": [
        "# 레이블이 이미 백터화 되어서 제공하는 tf의 데이터셋을 활용\n",
        "# 단, 1.x에서만 사용가능\n",
        "from tensorflow.examples.tutorials.mnist import input_data\n",
        "mnist = input_data.read_data_sets('./data/mnist/', one_hot=True)"
      ],
      "execution_count": 9,
      "outputs": [
        {
          "output_type": "stream",
          "text": [
            "WARNING:tensorflow:From <ipython-input-9-cdafdb58513a>:2: read_data_sets (from tensorflow.contrib.learn.python.learn.datasets.mnist) is deprecated and will be removed in a future version.\n",
            "Instructions for updating:\n",
            "Please use alternatives such as official/mnist/dataset.py from tensorflow/models.\n",
            "WARNING:tensorflow:From /usr/local/lib/python3.6/dist-packages/tensorflow_core/contrib/learn/python/learn/datasets/mnist.py:260: maybe_download (from tensorflow.contrib.learn.python.learn.datasets.base) is deprecated and will be removed in a future version.\n",
            "Instructions for updating:\n",
            "Please write your own downloading logic.\n",
            "WARNING:tensorflow:From /usr/local/lib/python3.6/dist-packages/tensorflow_core/contrib/learn/python/learn/datasets/base.py:252: _internal_retry.<locals>.wrap.<locals>.wrapped_fn (from tensorflow.contrib.learn.python.learn.datasets.base) is deprecated and will be removed in a future version.\n",
            "Instructions for updating:\n",
            "Please use urllib or similar directly.\n",
            "Successfully downloaded train-images-idx3-ubyte.gz 9912422 bytes.\n",
            "WARNING:tensorflow:From /usr/local/lib/python3.6/dist-packages/tensorflow_core/contrib/learn/python/learn/datasets/mnist.py:262: extract_images (from tensorflow.contrib.learn.python.learn.datasets.mnist) is deprecated and will be removed in a future version.\n",
            "Instructions for updating:\n",
            "Please use tf.data to implement this functionality.\n",
            "Extracting ./data/mnist/train-images-idx3-ubyte.gz\n",
            "Successfully downloaded train-labels-idx1-ubyte.gz 28881 bytes.\n",
            "WARNING:tensorflow:From /usr/local/lib/python3.6/dist-packages/tensorflow_core/contrib/learn/python/learn/datasets/mnist.py:267: extract_labels (from tensorflow.contrib.learn.python.learn.datasets.mnist) is deprecated and will be removed in a future version.\n",
            "Instructions for updating:\n",
            "Please use tf.data to implement this functionality.\n",
            "Extracting ./data/mnist/train-labels-idx1-ubyte.gz\n",
            "WARNING:tensorflow:From /usr/local/lib/python3.6/dist-packages/tensorflow_core/contrib/learn/python/learn/datasets/mnist.py:110: dense_to_one_hot (from tensorflow.contrib.learn.python.learn.datasets.mnist) is deprecated and will be removed in a future version.\n",
            "Instructions for updating:\n",
            "Please use tf.one_hot on tensors.\n",
            "Successfully downloaded t10k-images-idx3-ubyte.gz 1648877 bytes.\n",
            "Extracting ./data/mnist/t10k-images-idx3-ubyte.gz\n",
            "Successfully downloaded t10k-labels-idx1-ubyte.gz 4542 bytes.\n",
            "Extracting ./data/mnist/t10k-labels-idx1-ubyte.gz\n",
            "WARNING:tensorflow:From /usr/local/lib/python3.6/dist-packages/tensorflow_core/contrib/learn/python/learn/datasets/mnist.py:290: DataSet.__init__ (from tensorflow.contrib.learn.python.learn.datasets.mnist) is deprecated and will be removed in a future version.\n",
            "Instructions for updating:\n",
            "Please use alternatives such as official/mnist/dataset.py from tensorflow/models.\n"
          ],
          "name": "stdout"
        }
      ]
    },
    {
      "cell_type": "code",
      "metadata": {
        "id": "T_f5M1gk4Xb5",
        "colab_type": "code",
        "colab": {
          "base_uri": "https://localhost:8080/",
          "height": 34
        },
        "outputId": "625446b7-9336-4f27-e952-e1ceef539cc9"
      },
      "source": [
        "type(mnist)"
      ],
      "execution_count": 10,
      "outputs": [
        {
          "output_type": "execute_result",
          "data": {
            "text/plain": [
              "tensorflow.contrib.learn.python.learn.datasets.base.Datasets"
            ]
          },
          "metadata": {
            "tags": []
          },
          "execution_count": 10
        }
      ]
    },
    {
      "cell_type": "code",
      "metadata": {
        "id": "8hwKoOYC4Xem",
        "colab_type": "code",
        "colab": {
          "base_uri": "https://localhost:8080/",
          "height": 34
        },
        "outputId": "61a0a170-49be-4fe9-c4d3-478c41d3ae84"
      },
      "source": [
        "# 이미 데이터는 이미지 데이터는 28x28 픽셀로 처리되었고\n",
        "# 레이블은 0~9를 0과 1로 구성하는 백터화 처리(이진 데이터)로 구성되었다\n",
        "mnist.train.images.shape, mnist.train.labels.shape"
      ],
      "execution_count": 11,
      "outputs": [
        {
          "output_type": "execute_result",
          "data": {
            "text/plain": [
              "((55000, 784), (55000, 10))"
            ]
          },
          "metadata": {
            "tags": []
          },
          "execution_count": 11
        }
      ]
    },
    {
      "cell_type": "code",
      "metadata": {
        "id": "MO8065318UnH",
        "colab_type": "code",
        "colab": {
          "base_uri": "https://localhost:8080/",
          "height": 34
        },
        "outputId": "62814a5a-890c-4fe1-aa7e-06134ed12ba2"
      },
      "source": [
        "mnist.test.images.shape, mnist.test.labels.shape"
      ],
      "execution_count": 23,
      "outputs": [
        {
          "output_type": "execute_result",
          "data": {
            "text/plain": [
              "((10000, 784), (10000, 10))"
            ]
          },
          "metadata": {
            "tags": []
          },
          "execution_count": 23
        }
      ]
    },
    {
      "cell_type": "code",
      "metadata": {
        "id": "fMOrIT434Xg_",
        "colab_type": "code",
        "colab": {
          "base_uri": "https://localhost:8080/",
          "height": 52
        },
        "outputId": "946c5436-c919-47dd-fffb-bd538f80de28"
      },
      "source": [
        "mnist.train.labels[:2]"
      ],
      "execution_count": 12,
      "outputs": [
        {
          "output_type": "execute_result",
          "data": {
            "text/plain": [
              "array([[0., 0., 0., 0., 0., 0., 0., 1., 0., 0.],\n",
              "       [0., 0., 0., 1., 0., 0., 0., 0., 0., 0.]])"
            ]
          },
          "metadata": {
            "tags": []
          },
          "execution_count": 12
        }
      ]
    },
    {
      "cell_type": "code",
      "metadata": {
        "id": "57iUIqWELu8K",
        "colab_type": "code",
        "colab": {
          "base_uri": "https://localhost:8080/",
          "height": 141
        },
        "outputId": "e4a7e0a7-ad2f-4764-b031-9e6fd23e6677"
      },
      "source": [
        "# 이미지 데이터는 float이다\n",
        "mnist.train.images"
      ],
      "execution_count": 25,
      "outputs": [
        {
          "output_type": "execute_result",
          "data": {
            "text/plain": [
              "array([[0., 0., 0., ..., 0., 0., 0.],\n",
              "       [0., 0., 0., ..., 0., 0., 0.],\n",
              "       [0., 0., 0., ..., 0., 0., 0.],\n",
              "       ...,\n",
              "       [0., 0., 0., ..., 0., 0., 0.],\n",
              "       [0., 0., 0., ..., 0., 0., 0.],\n",
              "       [0., 0., 0., ..., 0., 0., 0.]], dtype=float32)"
            ]
          },
          "metadata": {
            "tags": []
          },
          "execution_count": 25
        }
      ]
    },
    {
      "cell_type": "markdown",
      "metadata": {
        "id": "5IeVe4wIzHi6",
        "colab_type": "text"
      },
      "source": [
        "# 3. 데이터 준비"
      ]
    },
    {
      "cell_type": "code",
      "metadata": {
        "id": "qw5Id4Tf5GQ4",
        "colab_type": "code",
        "colab": {
          "base_uri": "https://localhost:8080/",
          "height": 34
        },
        "outputId": "2f47812e-3481-4089-8588-480a6d734f3e"
      },
      "source": [
        "# 백터화된 레이블을 보고 원래값 0~9를 찾아내는 방법 확인\n",
        "# 힌트 => 배열 10칸중에서 1이 존재하는 인덱스값 => 실제 수치값\n",
        "import numpy as np\n",
        "np.where( mnist.train.labels[:1][0] )[0][0]"
      ],
      "execution_count": 17,
      "outputs": [
        {
          "output_type": "execute_result",
          "data": {
            "text/plain": [
              "7"
            ]
          },
          "metadata": {
            "tags": []
          },
          "execution_count": 17
        }
      ]
    },
    {
      "cell_type": "code",
      "metadata": {
        "id": "Vpv2a8nX5GT_",
        "colab_type": "code",
        "colab": {
          "base_uri": "https://localhost:8080/",
          "height": 34
        },
        "outputId": "e3684feb-327d-4005-a092-c11140481ed5"
      },
      "source": [
        "# 이미지 1개당 피쳐(feature)의 크기\n",
        "pixels = mnist.train.images.shape[1]\n",
        "pixels"
      ],
      "execution_count": 19,
      "outputs": [
        {
          "output_type": "execute_result",
          "data": {
            "text/plain": [
              "784"
            ]
          },
          "metadata": {
            "tags": []
          },
          "execution_count": 19
        }
      ]
    },
    {
      "cell_type": "code",
      "metadata": {
        "id": "8hRX8ubp5GXR",
        "colab_type": "code",
        "colab": {
          "base_uri": "https://localhost:8080/",
          "height": 34
        },
        "outputId": "823b560a-0bff-4dbe-d981-288beb08a18b"
      },
      "source": [
        "# 레이블 1개당 피쳐(feature)의 크기\n",
        "nums = mnist.train.labels.shape[1]\n",
        "nums"
      ],
      "execution_count": 20,
      "outputs": [
        {
          "output_type": "execute_result",
          "data": {
            "text/plain": [
              "10"
            ]
          },
          "metadata": {
            "tags": []
          },
          "execution_count": 20
        }
      ]
    },
    {
      "cell_type": "code",
      "metadata": {
        "id": "zWuKrz4B76GA",
        "colab_type": "code",
        "colab": {
          "base_uri": "https://localhost:8080/",
          "height": 34
        },
        "outputId": "d679195d-3a2b-4616-cb98-f903271ef426"
      },
      "source": [
        "# 이미지 가로크기 혹은 세로크기(정사각형이므로 동일)\n",
        "pixel_wh_size = int(np.sqrt( pixels ))\n",
        "pixel_wh_size"
      ],
      "execution_count": 22,
      "outputs": [
        {
          "output_type": "execute_result",
          "data": {
            "text/plain": [
              "28"
            ]
          },
          "metadata": {
            "tags": []
          },
          "execution_count": 22
        }
      ]
    },
    {
      "cell_type": "markdown",
      "metadata": {
        "id": "3nkbAaodzHla",
        "colab_type": "text"
      },
      "source": [
        "# 4. 데이터 분석(생략)"
      ]
    },
    {
      "cell_type": "markdown",
      "metadata": {
        "id": "bxoMEoM2zHoR",
        "colab_type": "text"
      },
      "source": [
        "# 5. 모델 구축, 모델링\n",
        "\n",
        "## 5-1. 데이터 플로우 그래프 구축\n",
        "- 상수, 변수, 플레이스홀더, 연산등의 요소를 레이어를 구축하면서 정의(Define)\n",
        "- Layer 구축 및 연결(원칙:앞단계의 출력이 뒷단계의 입력이다)\n",
        "  - 입력층\n",
        "  - 합성곱층1\n",
        "  - 풀링층1\n",
        "  - 합성곱층2\n",
        "  - 풀링층2\n",
        "  - 전결합층\n",
        "  - 드롭아웃층\n",
        "  - 출력층\n",
        "\n",
        "## 5-2. 실행(학습, 예측, 평가)\n",
        "- 데이터를 준비(batch사이즈,..)->학습->예측->평가(출력)"
      ]
    },
    {
      "cell_type": "markdown",
      "metadata": {
        "id": "AVnfS_OBJ1t6",
        "colab_type": "text"
      },
      "source": [
        "## 입력층"
      ]
    },
    {
      "cell_type": "code",
      "metadata": {
        "id": "ibMb8XSXKcZK",
        "colab_type": "code",
        "colab": {}
      },
      "source": [
        "# x\n",
        "# 손글씨 이미지 데이터가 들어오는 플레이스 홀더\n",
        "# 외부에서 학습시 데이터가 주입된다\n",
        "# 이미지 1개를 표현하는데 데이터가 784개의 feature가 필요\n",
        "# 이런 이미지가 여러개 주입될수 있다 => n개 \n",
        "# shape : ( n , 784 )\n",
        "x = tf.placeholder( tf.float32, shape=( None, pixels ), name='x' )"
      ],
      "execution_count": 0,
      "outputs": []
    },
    {
      "cell_type": "markdown",
      "metadata": {
        "id": "CPkjhUgXJ4Ja",
        "colab_type": "text"
      },
      "source": [
        "## 합성곱층1\n",
        "\n",
        "### W\n",
        "- 가중치를 파라미터로 가지는 필터값 필요\n",
        "- 행렬, 외부에서 주입(X), 내부적인 함수를 활용해서 생성한다 => 텐서의 타입중 Variable\n",
        "- 2개의 합성곱층에서 W가 각각 필요하다 => 2군데 이상 코드에서 W가 필요하다 => W를 만드는 함수가 필요하다"
      ]
    },
    {
      "cell_type": "code",
      "metadata": {
        "id": "rKWGqKvYNpKi",
        "colab_type": "code",
        "colab": {}
      },
      "source": [
        "# 가중치를 초기화 하고 W를 생성해서 리턴하는 함수를 구현\n",
        "# shape : 가중치를 공용파라미터로 가지는 필터(=커널)의 shape\n",
        "#         커널의 크기가 무조건 3x3은 아니다\n",
        "# name  : 각 구성원들의 이름을 구분하기위해서 자동생성이 아닌 직접 부여\n",
        "def makeWeightVariable( shape, name ):\n",
        "  # 변수의 초기값 -> 절단평규분포를 통한 난수를 발생하는 함수를 활용(설정)\n",
        "  # shape 이 크기에 맞춰서 배열을 만들고, 함수가 계산해서 난수를 배치\n",
        "  # stddev : 표준편차\n",
        "  # shape 크기대로 난수가 배치되었다(커널 크기만큼 행렬이 만들어지고, 난수가 설정되었다)\n",
        "  W_initValue = tf.truncated_normal( shape, stddev=0.1 )\n",
        "  # 변수 생성\n",
        "  W = tf.Variable( W_initValue, name='W_' + name ) \n",
        "  return W"
      ],
      "execution_count": 0,
      "outputs": []
    },
    {
      "cell_type": "code",
      "metadata": {
        "id": "1VNBcAYZQ-Pf",
        "colab_type": "code",
        "colab": {}
      },
      "source": [
        "# 바이어스(편향) 초기화 함수\n",
        "# 변수로 정의하고, 고정값(임계값으로 0.1)을 임시 부여\n",
        "def makeBiasVariable( shape, name ):\n",
        "  b_initValue = tf.constant( 0.1, shape=[shape] )\n",
        "  b = tf.Variable( b_initValue, name='b_'+name )\n",
        "  return b\n"
      ],
      "execution_count": 0,
      "outputs": []
    },
    {
      "cell_type": "code",
      "metadata": {
        "id": "_lTOe2NvSgbj",
        "colab_type": "code",
        "colab": {
          "base_uri": "https://localhost:8080/",
          "height": 54
        },
        "outputId": "3aa26c20-c807-4b05-ec0d-ca40da5d0820"
      },
      "source": [
        "# 합성곱 계층을 만드는 함수\n",
        "def makeConv2d( x, W ):\n",
        "  # 스트라이드는 고정해서 입력(설정)\n",
        "  conv2d = tf.nn.conv2d(x, W, strides=[1,1,1,1], padding='SAME')  \n",
        "  return conv2d\n",
        "'''\n",
        "tf.nn.conv2d(\n",
        "    input : x => [batch(1회 훈련하고자 이미지의 총개수), \n",
        "                  in_height(세로크기), in_width(가로크기), \n",
        "                  in_channels(칼라에따라 다름, 1or 3) ]\n",
        "    filters : 필터=커널, 필터의 공용파라미터:필터를 구성하는 구성원의 값 W\n",
        "              [filter_height, filter_width : 필터의 세로, 가로 크기 내맘대로 정한다(상황고려)\n",
        "              in_channels : 입력 채널수 -> 1\n",
        "              out_channels: 출력 채널수 -> 본인이 설정(몇개의 이미지를 생성할것이지)]\n",
        "    strides : 정수값, 정수값의 리스트로만 구성, length 1, 2 or 4\n",
        "              [batch , w , h, depth ]\n",
        "              통상적으로 batch, depth => 1을 사용\n",
        "              w와 h는 일반적으로 같은값 부여\n",
        "              [1,1,1,1] => \n",
        "    padding : 특성맵을 보정한다. 자르다보면 외곽선 부분에서 개수가 부족하게 나올수도 있다\n",
        "              이를 통상 0으로 테두리를 치면서 보정, \n",
        "              SAME이란 값을 적용\n",
        "    data_format='NHWC',\n",
        "    dilations=None,\n",
        "    name=None\n",
        ")\n",
        "'''"
      ],
      "execution_count": 43,
      "outputs": [
        {
          "output_type": "execute_result",
          "data": {
            "text/plain": [
              "\"\\ntf.nn.conv2d(\\n    input : x => [batch(1회 훈련하고자 이미지의 총개수), \\n                  in_height(세로크기), in_width(가로크기), \\n                  in_channels(칼라에따라 다름, 1or 3) ]\\n    filters : 필터=커널, 필터의 공용파라미터:필터를 구성하는 구성원의 값 W\\n              [filter_height, filter_width : 필터의 세로, 가로 크기 내맘대로 정한다(상황고려)\\n              in_channels : 입력 채널수 -> 1\\n              out_channels: 출력 채널수 -> 본인이 설정(몇개의 이미지를 생성할것이지)]\\n    strides : 정수값, 정수값의 리스트로만 구성, length 1, 2 or 4\\n              [batch , w , h, depth ]\\n              통상적으로 batch, depth => 1을 사용\\n              w와 h는 일반적으로 같은값 부여\\n              [1,1,1,1] => \\n    padding : 특성맵을 보정한다. 자르다보면 외곽선 부분에서 개수가 부족하게 나올수도 있다\\n              이를 통상 0으로 테두리를 치면서 보정, \\n              SAME이란 값을 적용\\n    data_format='NHWC',\\n    dilations=None,\\n    name=None\\n)\\n\""
            ]
          },
          "metadata": {
            "tags": []
          },
          "execution_count": 43
        }
      ]
    },
    {
      "cell_type": "code",
      "metadata": {
        "id": "tZm8t9RiQOEw",
        "colab_type": "code",
        "colab": {}
      },
      "source": [
        "# 합성곱층 1 생성 : 텐서보드상에 작업공간 잡을렬고\n",
        "with tf.name_scope('conv1') as scope:\n",
        "  # W\n",
        "  # shape= [필터세로크기,필터가로크기,입력채널수,출력채널수]\n",
        "  # 설정값 : 5, 5, 32 => 5x5 필터를 원본이미지에서 스트라이드해서 \n",
        "  # 나온 피쳐맵이 총 32개가된다\n",
        "  W_conv1 = makeWeightVariable( [ 5, 5, 1, 32 ], name='conv1' )\n",
        "  \n",
        "  # b\n",
        "  # 가중치 필터의 shape의 마지막값과 편향의 shape값은 동일하다\n",
        "  b_conv1 = makeBiasVariable( 32 , '' )\n",
        "\n",
        "  # x => [ batch , h , w, channels]\n",
        "  # x=[ None, 784 ] => [ batch , h , w, channels]\n",
        "  # pixel_wh_size => 28(세로, 가로)\n",
        "  x_image = tf.reshape( x, [ -1, pixel_wh_size, pixel_wh_size, 1] )\n",
        "\n",
        "  # 컨볼류션 레이어 생성\n",
        "  # 활성화 함수를 통과시켜서 레이어의 출력물(특성맵)을 비선형으로 보정처리한다\n",
        "  # 이렇게 되면 특성맵이 활성화맵으로 되었다라고 표현할수 있다\n",
        "  h_conv1 = tf.nn.relu( makeConv2d( x_image, W_conv1 ) + b_conv1 )\n",
        "  # h_conv1은 합성곱층1의 출력물, 활성화맵, 다른 풀링층1의 입력데이터가 된다"
      ],
      "execution_count": 0,
      "outputs": []
    },
    {
      "cell_type": "code",
      "metadata": {
        "id": "ua3bg8kBiKmL",
        "colab_type": "code",
        "colab": {
          "base_uri": "https://localhost:8080/",
          "height": 34
        },
        "outputId": "ddfbb968-0d3a-46ae-cc9a-9968e6eaada1"
      },
      "source": [
        "h_conv1\n",
        "# 합성곱층을 통과했을때 특성맵의 크기는 원본과 같을수도(SAME), 다를수도(VAILD) 있다\n",
        "# 크기를 결정하는 요인으로 => stride, padding\n",
        "# 합성곱의 핵심을 원본 이미지의 특성을 추출한 이미지가 출력채널수만큼 생성된다는 점\n",
        "# padding에 의해서 채워질때, 원본가 동일한 사이즈로 가는가? => 크기가 동일하다\n",
        "# padding을 SAME으로 하면 => (?, 28, 28, 32)\n",
        "# 유효한 부분만 가는가? 크기가 줄어든다\n",
        "# padding을 VALID로  하면 => (?, 24, 24, 32) "
      ],
      "execution_count": 45,
      "outputs": [
        {
          "output_type": "execute_result",
          "data": {
            "text/plain": [
              "<tf.Tensor 'conv1_4/Relu:0' shape=(?, 28, 28, 32) dtype=float32>"
            ]
          },
          "metadata": {
            "tags": []
          },
          "execution_count": 45
        }
      ]
    },
    {
      "cell_type": "code",
      "metadata": {
        "id": "yXy0DvOAnXvf",
        "colab_type": "code",
        "colab": {
          "base_uri": "https://localhost:8080/",
          "height": 34
        },
        "outputId": "8255548d-dad8-454b-8874-08c5c36625f6"
      },
      "source": [
        "h_conv1.shape"
      ],
      "execution_count": 46,
      "outputs": [
        {
          "output_type": "execute_result",
          "data": {
            "text/plain": [
              "TensorShape([Dimension(None), Dimension(28), Dimension(28), Dimension(32)])"
            ]
          },
          "metadata": {
            "tags": []
          },
          "execution_count": 46
        }
      ]
    },
    {
      "cell_type": "markdown",
      "metadata": {
        "id": "k0LJiI_WJ4L6",
        "colab_type": "text"
      },
      "source": [
        "## 풀링층1\n",
        "\n",
        "- 특성맵(or 활성화맵)의 특성을 강화\n",
        "- 최대풀링, 평균풀링, 최소풀링등등 여러개 값중 하나를 취해서 행렬을 새로 구성(축소)\n",
        "- 샘플링한다라고 표현\n",
        "- 크기에 관여 => 얼마큼 이동시키면서 처리할것인가? => stride, 커널에는 파라미터는 없고(최대, 평균, 최소등 의미)\n",
        "- 입력 : 이전 계층 합성곱층1의 결과물 => h_conv1"
      ]
    },
    {
      "cell_type": "code",
      "metadata": {
        "id": "NZrFp4kypGjZ",
        "colab_type": "code",
        "colab": {
          "base_uri": "https://localhost:8080/",
          "height": 54
        },
        "outputId": "38948b40-9680-49df-ae34-520b36ca03ad"
      },
      "source": [
        "def makeMaxPooling( x ):\n",
        "  return tf.nn.max_pool( x, ksize=[1 ,2 ,2 ,1 ],strides=[1,2,2,1], padding='SAME' )\n",
        "'''\n",
        "  tf.nn.max_pool(\n",
        "    value:이전 계층의 출력값, [batch , h, w, channels ]\n",
        "    ksize:최대값풀링을 수행하기 위한 슬라이딩 윈도우(= 커널, 필터)의 크기\n",
        "          [ , h, w, ]\n",
        "    strides: ksize의 이동 보폭, 몇칸씩 이동할 것인가\n",
        "          [ batch , w , h, depth  ]\n",
        "    padding: 보정, 크기가 않맞으면, SAME, ..\n",
        "        \n",
        "  )\n",
        "'''"
      ],
      "execution_count": 47,
      "outputs": [
        {
          "output_type": "execute_result",
          "data": {
            "text/plain": [
              "'\\n  tf.nn.max_pool(\\n    value:이전 계층의 출력값, [batch , h, w, channels ]\\n    ksize:최대값풀링을 수행하기 위한 슬라이딩 윈도우(= 커널, 필터)의 크기\\n          [ , h, w, ]\\n    strides: ksize의 이동 보폭, 몇칸씩 이동할 것인가\\n          [ batch , w , h, depth  ]\\n    padding: 보정, 크기가 않맞으면, SAME, ..\\n        \\n  )\\n'"
            ]
          },
          "metadata": {
            "tags": []
          },
          "execution_count": 47
        }
      ]
    },
    {
      "cell_type": "code",
      "metadata": {
        "id": "6K93W7GMtBBn",
        "colab_type": "code",
        "colab": {}
      },
      "source": [
        "# 풀링층 1 생성\n",
        "with tf.name_scope('pool1') as scope:\n",
        "  h_pool1 = makeMaxPooling( h_conv1 )"
      ],
      "execution_count": 0,
      "outputs": []
    },
    {
      "cell_type": "code",
      "metadata": {
        "id": "NfM2lACptUrt",
        "colab_type": "code",
        "colab": {
          "base_uri": "https://localhost:8080/",
          "height": 34
        },
        "outputId": "4b7aa6ac-52dd-463c-8f77-51bd85645198"
      },
      "source": [
        "h_pool1"
      ],
      "execution_count": 49,
      "outputs": [
        {
          "output_type": "execute_result",
          "data": {
            "text/plain": [
              "<tf.Tensor 'pool1/MaxPool:0' shape=(?, 14, 14, 32) dtype=float32>"
            ]
          },
          "metadata": {
            "tags": []
          },
          "execution_count": 49
        }
      ]
    },
    {
      "cell_type": "markdown",
      "metadata": {
        "colab_type": "text",
        "id": "HQJWfl6MKECU"
      },
      "source": [
        "## 합성곱층2"
      ]
    },
    {
      "cell_type": "markdown",
      "metadata": {
        "colab_type": "text",
        "id": "xbhPgxZUKHWT"
      },
      "source": [
        "## 풀링층2"
      ]
    },
    {
      "cell_type": "markdown",
      "metadata": {
        "id": "yVA4ZiapJ4OB",
        "colab_type": "text"
      },
      "source": [
        "## 전결합층"
      ]
    },
    {
      "cell_type": "markdown",
      "metadata": {
        "id": "pe6x5-qqJ4Qr",
        "colab_type": "text"
      },
      "source": [
        "## 드롭아웃층"
      ]
    },
    {
      "cell_type": "markdown",
      "metadata": {
        "id": "WmfuPgeZKQMb",
        "colab_type": "text"
      },
      "source": [
        "## 출력층"
      ]
    },
    {
      "cell_type": "code",
      "metadata": {
        "id": "JGQMSqlpJnO7",
        "colab_type": "code",
        "colab": {}
      },
      "source": [
        ""
      ],
      "execution_count": 0,
      "outputs": []
    },
    {
      "cell_type": "code",
      "metadata": {
        "id": "XMMdd2CtJ3pw",
        "colab_type": "code",
        "colab": {}
      },
      "source": [
        ""
      ],
      "execution_count": 0,
      "outputs": []
    },
    {
      "cell_type": "markdown",
      "metadata": {
        "id": "Aq9UxSSbzHuR",
        "colab_type": "text"
      },
      "source": [
        "# 6. 시스템 통합(생략)"
      ]
    },
    {
      "cell_type": "markdown",
      "metadata": {
        "id": "uzbUkb4mzIGB",
        "colab_type": "text"
      },
      "source": [
        ""
      ]
    }
  ]
}