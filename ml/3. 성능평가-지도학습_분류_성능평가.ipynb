{
 "cells": [
  {
   "cell_type": "markdown",
   "metadata": {},
   "source": [
    "### 성능평가\n",
    "\n",
    "- 평가항목 방식 케이스\n",
    "    - 지도학습의 분류\n",
    "        - 혼동행렬(정확도, f1-score, 정밀도, 재현율), AUC, ROC\n",
    "    - 지도학습의 회귀\n",
    "        - 손실\n",
    "    - 비지도학습\n",
    "    - 강화학습"
   ]
  },
  {
   "cell_type": "markdown",
   "metadata": {},
   "source": [
    "### 머신러닝>지도학습>분류>성능평가지표\n",
    "\n",
    "- 통계학의 혼동행렬이라는 항목을 이용하여 평가\n",
    "- 개요\n",
    "    - 예측값이 실제 관측값을 얼마나 정확하게 예측하였는가?\n",
    "    - 이 사항을 보여주는 행렬\n",
    "    - 예\n",
    "        - 암을 스스로 예측하였는데, 실제 양성인지 악성인지 예측하는 예\n",
    "        - 실제는 병이 있었는데, 없다고 예측, 있다고 예측\n",
    "        - 실제는 병이 없었는데, 있다고 예측, 없다고 예측\n",
    "        "
   ]
  },
  {
   "cell_type": "markdown",
   "metadata": {},
   "source": [
    "|구분|예측:True|예측:False|\n",
    "|:--:|:--:|:--:|\n",
    "|실제:예(Positive)|TP|EN|\n",
    "|실제:아니오(Negative)|FP|TN|"
   ]
  },
  {
   "cell_type": "markdown",
   "metadata": {},
   "source": [
    "- TP : 참긍정\n",
    "    - 병이 있다고 예측, 실제로 병이 있음\n",
    "    _ 긍정한 것이 참이 되었다\n",
    "- TN : 참부정\n",
    "    - 병이 없다고 예측, 실제로 병이 없음\n",
    "    - 부정한 것이 참\n",
    "- FP : 거짓긍정\n",
    "    - 병이 있다고 예측, 하지만 병이 없음\n",
    "    - 긍정한 것이 거짓\n",
    "    - 1형 오류\n",
    "_ FN : 거짓부정\n",
    "    - 병이 없다고 예측, 하지만 병이 있음\n",
    "    - 부정한 것이 거짓\n",
    "    - 2형 오류"
   ]
  },
  {
   "cell_type": "markdown",
   "metadata": {},
   "source": [
    "- 정밀도(P Precision)\n",
    "    - 병이 있다고 예측을 했는데, 실제로 병이 있는 비율, 정답율\n",
    "    - TP / (TP + FP)\n",
    "- 재현율(R Recall)\n",
    "    - 실제로 병이 있는 전체 데이터 중에 참긍정 비율\n",
    "    - TP / (TP + FN)\n",
    "- F1점수\n",
    "    - 정밀도와 재현율의 조화평균(Harmonic mean)\n",
    "    - F1=2 / (1/P + 1/R)\n",
    "- 특이성\n",
    "    - 실제 병이 없는 전체 사람들중에 예측이 TN의 비율\n",
    "    - TN / (TN + FP)\n",
    "- 곡선하 면적(ROC)\n",
    "    - 참 긍정률과 거짓 부정률 사이의 관계 표현\n",
    "    - 1-특이성\n",
    "    - AUC : ROC의 상세값, 수치"
   ]
  },
  {
   "cell_type": "markdown",
   "metadata": {},
   "source": [
    "#### 실제 데이터를 이용하여 성능평가를 수행\n",
    "\n",
    "- 데이터 : 아이리스 활용"
   ]
  },
  {
   "cell_type": "code",
   "execution_count": 1,
   "metadata": {},
   "outputs": [],
   "source": [
    "from matplotlib import pyplot as plt\n",
    "from sklearn.datasets import load_iris\n",
    "import pandas as pd"
   ]
  },
  {
   "cell_type": "code",
   "execution_count": 2,
   "metadata": {},
   "outputs": [
    {
     "data": {
      "text/plain": [
       "(150, 4)"
      ]
     },
     "execution_count": 2,
     "metadata": {},
     "output_type": "execute_result"
    }
   ],
   "source": [
    "ds=load_iris()\n",
    "ds.data.shape"
   ]
  },
  {
   "cell_type": "code",
   "execution_count": 3,
   "metadata": {},
   "outputs": [
    {
     "data": {
      "text/plain": [
       "(array([[5.1, 3.5, 1.4, 0.2]]),\n",
       " ['sepal length (cm)',\n",
       "  'sepal width (cm)',\n",
       "  'petal length (cm)',\n",
       "  'petal width (cm)'],\n",
       " array(['setosa', 'versicolor', 'virginica'], dtype='<U10'),\n",
       " array([0]))"
      ]
     },
     "execution_count": 3,
     "metadata": {},
     "output_type": "execute_result"
    }
   ],
   "source": [
    "#데이터 확인\n",
    "ds.data[:1], ds.feature_names, ds.target_names, ds.target[:1]"
   ]
  },
  {
   "cell_type": "code",
   "execution_count": 4,
   "metadata": {},
   "outputs": [
    {
     "data": {
      "text/plain": [
       "array(['setosa', 'versicolor', 'virginica'], dtype='<U10')"
      ]
     },
     "execution_count": 4,
     "metadata": {},
     "output_type": "execute_result"
    }
   ],
   "source": [
    "ds.target_names"
   ]
  },
  {
   "cell_type": "code",
   "execution_count": 5,
   "metadata": {},
   "outputs": [
    {
     "data": {
      "text/plain": [
       "array([0, 0, 0, 0, 0, 0, 0, 0, 0, 0, 0, 0, 0, 0, 0, 0, 0, 0, 0, 0, 0, 0,\n",
       "       0, 0, 0, 0, 0, 0, 0, 0, 0, 0, 0, 0, 0, 0, 0, 0, 0, 0, 0, 0, 0, 0,\n",
       "       0, 0, 0, 0, 0, 0, 1, 1, 1, 1, 1, 1, 1, 1, 1, 1, 1, 1, 1, 1, 1, 1,\n",
       "       1, 1, 1, 1, 1, 1, 1, 1, 1, 1, 1, 1, 1, 1, 1, 1, 1, 1, 1, 1, 1, 1,\n",
       "       1, 1, 1, 1, 1, 1, 1, 1, 1, 1, 1, 1, 2, 2, 2, 2, 2, 2, 2, 2, 2, 2,\n",
       "       2, 2, 2, 2, 2, 2, 2, 2, 2, 2, 2, 2, 2, 2, 2, 2, 2, 2, 2, 2, 2, 2,\n",
       "       2, 2, 2, 2, 2, 2, 2, 2, 2, 2, 2, 2, 2, 2, 2, 2, 2, 2])"
      ]
     },
     "execution_count": 5,
     "metadata": {},
     "output_type": "execute_result"
    }
   ],
   "source": [
    "ds.target"
   ]
  },
  {
   "cell_type": "code",
   "execution_count": 6,
   "metadata": {},
   "outputs": [
    {
     "data": {
      "text/plain": [
       "array(['setosa', 'setosa', 'setosa', 'setosa', 'setosa', 'setosa',\n",
       "       'setosa', 'setosa', 'setosa', 'setosa', 'setosa', 'setosa',\n",
       "       'setosa', 'setosa', 'setosa', 'setosa', 'setosa', 'setosa',\n",
       "       'setosa', 'setosa', 'setosa', 'setosa', 'setosa', 'setosa',\n",
       "       'setosa', 'setosa', 'setosa', 'setosa', 'setosa', 'setosa',\n",
       "       'setosa', 'setosa', 'setosa', 'setosa', 'setosa', 'setosa',\n",
       "       'setosa', 'setosa', 'setosa', 'setosa', 'setosa', 'setosa',\n",
       "       'setosa', 'setosa', 'setosa', 'setosa', 'setosa', 'setosa',\n",
       "       'setosa', 'setosa', 'versicolor', 'versicolor', 'versicolor',\n",
       "       'versicolor', 'versicolor', 'versicolor', 'versicolor',\n",
       "       'versicolor', 'versicolor', 'versicolor', 'versicolor',\n",
       "       'versicolor', 'versicolor', 'versicolor', 'versicolor',\n",
       "       'versicolor', 'versicolor', 'versicolor', 'versicolor',\n",
       "       'versicolor', 'versicolor', 'versicolor', 'versicolor',\n",
       "       'versicolor', 'versicolor', 'versicolor', 'versicolor',\n",
       "       'versicolor', 'versicolor', 'versicolor', 'versicolor',\n",
       "       'versicolor', 'versicolor', 'versicolor', 'versicolor',\n",
       "       'versicolor', 'versicolor', 'versicolor', 'versicolor',\n",
       "       'versicolor', 'versicolor', 'versicolor', 'versicolor',\n",
       "       'versicolor', 'versicolor', 'versicolor', 'versicolor',\n",
       "       'versicolor', 'versicolor', 'versicolor', 'virginica', 'virginica',\n",
       "       'virginica', 'virginica', 'virginica', 'virginica', 'virginica',\n",
       "       'virginica', 'virginica', 'virginica', 'virginica', 'virginica',\n",
       "       'virginica', 'virginica', 'virginica', 'virginica', 'virginica',\n",
       "       'virginica', 'virginica', 'virginica', 'virginica', 'virginica',\n",
       "       'virginica', 'virginica', 'virginica', 'virginica', 'virginica',\n",
       "       'virginica', 'virginica', 'virginica', 'virginica', 'virginica',\n",
       "       'virginica', 'virginica', 'virginica', 'virginica', 'virginica',\n",
       "       'virginica', 'virginica', 'virginica', 'virginica', 'virginica',\n",
       "       'virginica', 'virginica', 'virginica', 'virginica', 'virginica',\n",
       "       'virginica', 'virginica', 'virginica'], dtype='<U10')"
      ]
     },
     "execution_count": 6,
     "metadata": {},
     "output_type": "execute_result"
    }
   ],
   "source": [
    "ds.target_names[ds.target]"
   ]
  },
  {
   "cell_type": "code",
   "execution_count": 7,
   "metadata": {},
   "outputs": [],
   "source": [
    "#아이리스 데이터 로드\n",
    "def attach_iris():\n",
    "    ds=load_iris()\n",
    "    df=pd.DataFrame(ds.data, columns=ds.feature_names)\n",
    "    #species라는 컬럼을 추가한다 -> 값은 setosa, versicolor, virginica 중 하나로 결정\n",
    "    df['species']=ds.target\n",
    "    df['species']=ds.target_names[ds.target]\n",
    "    return df #DataFrame\n",
    "\n",
    "df=attach_iris()"
   ]
  },
  {
   "cell_type": "markdown",
   "metadata": {},
   "source": [
    "### 분류 알고리즘을 다양하게 사용하여 교차 성능평가 수행\n",
    "\n",
    "- 하이퍼파라미터 튜닝 + 파이프 라인?\n",
    "- 각각 알고리즘별로 적용하여 시각화 및 수치 비교?(사용)"
   ]
  },
  {
   "cell_type": "code",
   "execution_count": 8,
   "metadata": {},
   "outputs": [],
   "source": [
    "import sklearn\n",
    "from sklearn.metrics import roc_curve, auc\n",
    "from sklearn.model_selection import train_test_split"
   ]
  },
  {
   "cell_type": "code",
   "execution_count": 9,
   "metadata": {},
   "outputs": [],
   "source": [
    "#알고리즘\n",
    "#향후 알고리즘에 대한 이해와 데이터에 대한 적합성 식견이 보완된다면 적절한 알고리즘 후보 추출가능\n",
    "from sklearn.linear_model import LogisticRegression\n",
    "from sklearn.tree import DecisionTreeClassifier\n",
    "from sklearn.ensemble import RandomForestClassifier\n",
    "from sklearn.naive_bayes import GaussianNB"
   ]
  },
  {
   "cell_type": "code",
   "execution_count": 10,
   "metadata": {},
   "outputs": [],
   "source": [
    "#알고리즘 시각화를 위해 사전 설정\n",
    "#선형 그래프의 모양을 지정\n",
    "#파라미터값은 임의 부여\n",
    "class_map = {\n",
    "    'LogisticRegression':('-', LogisticRegression()),\n",
    "    'DecisionTreeClassifier':('--', DecisionTreeClassifier(max_depth=5)),\n",
    "    'RandomForestClassifier':('.-', RandomForestClassifier(max_depth=5,n_estimators=10,max_features=1)),\n",
    "    'GaussianNB':(':', GaussianNB()),\n",
    "}"
   ]
  },
  {
   "cell_type": "code",
   "execution_count": 11,
   "metadata": {},
   "outputs": [
    {
     "name": "stdout",
     "output_type": "stream",
     "text": [
      "LogisticRegression ('-', LogisticRegression(C=1.0, class_weight=None, dual=False, fit_intercept=True,\n",
      "                   intercept_scaling=1, l1_ratio=None, max_iter=100,\n",
      "                   multi_class='warn', n_jobs=None, penalty='l2',\n",
      "                   random_state=None, solver='warn', tol=0.0001, verbose=0,\n",
      "                   warm_start=False))\n",
      "DecisionTreeClassifier ('--', DecisionTreeClassifier(class_weight=None, criterion='gini', max_depth=5,\n",
      "                       max_features=None, max_leaf_nodes=None,\n",
      "                       min_impurity_decrease=0.0, min_impurity_split=None,\n",
      "                       min_samples_leaf=1, min_samples_split=2,\n",
      "                       min_weight_fraction_leaf=0.0, presort=False,\n",
      "                       random_state=None, splitter='best'))\n",
      "RandomForestClassifier ('.-', RandomForestClassifier(bootstrap=True, class_weight=None, criterion='gini',\n",
      "                       max_depth=5, max_features=1, max_leaf_nodes=None,\n",
      "                       min_impurity_decrease=0.0, min_impurity_split=None,\n",
      "                       min_samples_leaf=1, min_samples_split=2,\n",
      "                       min_weight_fraction_leaf=0.0, n_estimators=10,\n",
      "                       n_jobs=None, oob_score=False, random_state=None,\n",
      "                       verbose=0, warm_start=False))\n",
      "GaussianNB (':', GaussianNB(priors=None, var_smoothing=1e-09))\n"
     ]
    }
   ],
   "source": [
    "for key, value in class_map.items():\n",
    "    print(key, value)"
   ]
  },
  {
   "cell_type": "code",
   "execution_count": 12,
   "metadata": {},
   "outputs": [
    {
     "data": {
      "text/plain": [
       "(150, 4)"
      ]
     },
     "execution_count": 12,
     "metadata": {},
     "output_type": "execute_result"
    }
   ],
   "source": [
    "#데이터정리\n",
    "X= df[df.columns[:4]]\n",
    "X.shape"
   ]
  },
  {
   "cell_type": "code",
   "execution_count": 13,
   "metadata": {},
   "outputs": [
    {
     "data": {
      "text/plain": [
       "(pandas.core.series.Series, 0    False\n",
       " 1    False\n",
       " Name: species, dtype: bool, 150)"
      ]
     },
     "execution_count": 13,
     "metadata": {},
     "output_type": "execute_result"
    }
   ],
   "source": [
    "#특정 종에 대해 정답을 구축\n",
    "Y = df['species']== 'versicolor'\n",
    "type(Y), Y[:2], len(Y)"
   ]
  },
  {
   "cell_type": "code",
   "execution_count": 14,
   "metadata": {},
   "outputs": [],
   "source": [
    "# 훈련용, 테스트용 데이터 분류\n",
    "# 데이터가 작아서 결과물의 변별력을 높이고자 임의로 80%로 테스트 데이터를 높였다.\n",
    "X_train, X_test, Y_train, Y_test = train_test_split(X, Y, test_size=0.8)"
   ]
  },
  {
   "cell_type": "code",
   "execution_count": 15,
   "metadata": {},
   "outputs": [
    {
     "data": {
      "text/plain": [
       "((30, 4), (120, 4), (30,))"
      ]
     },
     "execution_count": 15,
     "metadata": {},
     "output_type": "execute_result"
    }
   ],
   "source": [
    "X_train.shape, X_test.shape, Y_train.shape"
   ]
  },
  {
   "cell_type": "code",
   "execution_count": 17,
   "metadata": {},
   "outputs": [
    {
     "name": "stdout",
     "output_type": "stream",
     "text": [
      "(120, 2) <class 'numpy.ndarray'> [0.64854809 0.35145191]\n",
      "(120, 2) <class 'numpy.ndarray'> [0. 1.]\n",
      "(120, 2) <class 'numpy.ndarray'> [0.4 0.6]\n",
      "(120, 2) <class 'numpy.ndarray'> [0.96013255 0.03986745]\n"
     ]
    },
    {
     "name": "stderr",
     "output_type": "stream",
     "text": [
      "C:\\Users\\admin\\Anaconda3\\lib\\site-packages\\sklearn\\linear_model\\logistic.py:432: FutureWarning: Default solver will be changed to 'lbfgs' in 0.22. Specify a solver to silence this warning.\n",
      "  FutureWarning)\n"
     ]
    },
    {
     "data": {
      "text/plain": [
       "<Figure size 576x576 with 0 Axes>"
      ]
     },
     "metadata": {},
     "output_type": "display_data"
    }
   ],
   "source": [
    "class_map = {\n",
    "    'LogisticRegression':('-', LogisticRegression()),\n",
    "    'DecisionTreeClassifier':('--', DecisionTreeClassifier(max_depth=5)),\n",
    "    'RandomForestClassifier':('.-', RandomForestClassifier(max_depth=5,n_estimators=10,max_features=1)),\n",
    "    'GaussianNB':(':', GaussianNB()),\n",
    "}\n",
    "\n",
    "#시각화를 통해 성능 확인(ROC, AUC)\n",
    "plt.figure(figsize=(8,8))\n",
    "\n",
    "#반복하여 시각화 처리\n",
    "for name, (lineStyle, model) in class_map.items():\n",
    "    #학습\n",
    "    model.fit(X_train, Y_train)\n",
    "    #예측\n",
    "    #predict_proba():예측에 대한 확률로 예측\n",
    "    #0,1중에 1이 될 확률이 0.57%이다 -> 1을 더 많이 예측하는 모델\n",
    "    preds = model.predict_proba(X_test)\n",
    "    print(preds.shape, type(preds), preds[0,:])\n",
    "    #preds->Series타입으로 설정:roc_curve() 함수 형식에 맞추기 위해 예측답추출\n",
    "    pred = pd.Series(preds[:, 1])\n",
    "    #ROC 값 획득\n",
    "    #roc 리턴값\n",
    "    #fpr : 거짓 양성비 : x축\n",
    "    #tpr : 참 양성비 : y축\n",
    "    #_:임계값, tpr가 fpr을 계산할때(내부에서) 사용한 결정함수의 임계값\n",
    "    fpr, tpr, _ = roc_curve(Y_test,pred)\n",
    "    #ROC 드로잉\n",
    "    #AUC 표시\n",
    "    auc_score=auc(fpr, tpr)\n",
    "    print('%s:%s'%(name, auc_score))\n",
    "    #선 그리기\n",
    "    plt.plot(fpr, tpr, lineStyle, linewidth=4, label=name)\n",
    "    plt.xlabel('False Positive Rate')\n",
    "    plt.ylabel('True Positive Rate')\n",
    "    pass\n",
    "\n",
    "#시각화 마무리\n",
    "plt.legend() #범례표시\n",
    "plt.plot([0,1],[0,1],'k--')#대각선\n",
    "plt.show() #표시"
   ]
  },
  {
   "cell_type": "code",
   "execution_count": 83,
   "metadata": {},
   "outputs": [
    {
     "data": {
      "text/plain": [
       "{'LogisticRegression': ('-',\n",
       "  LogisticRegression(C=1.0, class_weight=None, dual=False, fit_intercept=True,\n",
       "                     intercept_scaling=1, l1_ratio=None, max_iter=100,\n",
       "                     multi_class='warn', n_jobs=None, penalty='l2',\n",
       "                     random_state=None, solver='warn', tol=0.0001, verbose=0,\n",
       "                     warm_start=False)),\n",
       " 'DecisionTreeClassifier': ('--',\n",
       "  DecisionTreeClassifier(class_weight=None, criterion='gini', max_depth=5,\n",
       "                         max_features=None, max_leaf_nodes=None,\n",
       "                         min_impurity_decrease=0.0, min_impurity_split=None,\n",
       "                         min_samples_leaf=1, min_samples_split=2,\n",
       "                         min_weight_fraction_leaf=0.0, presort=False,\n",
       "                         random_state=None, splitter='best')),\n",
       " 'RandomForestClassifier': ('.-',\n",
       "  RandomForestClassifier(bootstrap=True, class_weight=None, criterion='gini',\n",
       "                         max_depth=5, max_features=1, max_leaf_nodes=None,\n",
       "                         min_impurity_decrease=0.0, min_impurity_split=None,\n",
       "                         min_samples_leaf=1, min_samples_split=2,\n",
       "                         min_weight_fraction_leaf=0.0, n_estimators=10,\n",
       "                         n_jobs=None, oob_score=False, random_state=None,\n",
       "                         verbose=0, warm_start=False)),\n",
       " 'GaussianNB': (':', GaussianNB(priors=None, var_smoothing=1e-09)),\n",
       " 'SVC': ('-', SVC(C=1.0, cache_size=200, class_weight=None, coef0=0.0,\n",
       "      decision_function_shape='ovr', degree=3, gamma='auto_deprecated',\n",
       "      kernel='rbf', max_iter=-1, probability=True, random_state=None,\n",
       "      shrinking=True, tol=0.001, verbose=False))}"
      ]
     },
     "execution_count": 83,
     "metadata": {},
     "output_type": "execute_result"
    }
   ],
   "source": [
    "from sklearn.svm import SVC\n",
    "\n",
    "class_map = {\n",
    "    'LogisticRegression':('-', LogisticRegression()),\n",
    "    'DecisionTreeClassifier':('--', DecisionTreeClassifier(max_depth=5)),\n",
    "    'RandomForestClassifier':('.-', RandomForestClassifier(max_depth=5,n_estimators=10,max_features=1)),\n",
    "    'GaussianNB':(':', GaussianNB()),\n",
    "    'SVC':('-', SVC(probability=True)),\n",
    "}\n",
    "\n",
    "class_map"
   ]
  },
  {
   "cell_type": "code",
   "execution_count": 84,
   "metadata": {},
   "outputs": [
    {
     "name": "stdout",
     "output_type": "stream",
     "text": [
      "LogisticRegression:0.6912708600770219\n",
      "DecisionTreeClassifier:0.9107830551989732\n",
      "RandomForestClassifier:0.9959884467265725\n",
      "GaussianNB:0.9801026957637997\n",
      "SVC:0.9990372272143774\n"
     ]
    },
    {
     "name": "stderr",
     "output_type": "stream",
     "text": [
      "C:\\Users\\admin\\Anaconda3\\lib\\site-packages\\sklearn\\linear_model\\logistic.py:432: FutureWarning: Default solver will be changed to 'lbfgs' in 0.22. Specify a solver to silence this warning.\n",
      "  FutureWarning)\n",
      "C:\\Users\\admin\\Anaconda3\\lib\\site-packages\\sklearn\\svm\\base.py:193: FutureWarning: The default value of gamma will change from 'auto' to 'scale' in version 0.22 to account better for unscaled features. Set gamma explicitly to 'auto' or 'scale' to avoid this warning.\n",
      "  \"avoid this warning.\", FutureWarning)\n"
     ]
    },
    {
     "data": {
      "image/png": "[encoded data removed]",
      "text/plain": [
       "<Figure size 576x576 with 1 Axes>"
      ]
     },
     "metadata": {
      "needs_background": "light"
     },
     "output_type": "display_data"
    }
   ],
   "source": [
    "plt.figure(figsize=(8,8))\n",
    "\n",
    "for name, (lineStyle, model) in class_map.items():\n",
    "    model.fit(X_train, Y_train)\n",
    "    preds = model.predict_proba(X_test)\n",
    "    pred = pd.Series(preds[:, 1])\n",
    "    fpr, tpr, _ = roc_curve(Y_test,pred)\n",
    "    auc_score=auc(fpr, tpr)\n",
    "    print('%s:%s'%(name, auc_score))\n",
    "    plt.plot(fpr, tpr, lineStyle, linewidth=4, label=name)\n",
    "    pass\n",
    "\n",
    "#시각화 마무리\n",
    "plt.legend() #범례표시\n",
    "plt.plot([0,1],[0,1],'k--')#대각선\n",
    "plt.show() #표시"
   ]
  },
  {
   "cell_type": "code",
   "execution_count": null,
   "metadata": {},
   "outputs": [],
   "source": []
  }
 ],
 "metadata": {
  "kernelspec": {
   "display_name": "Python 3",
   "language": "python",
   "name": "python3"
  },
  "language_info": {
   "codemirror_mode": {
    "name": "ipython",
    "version": 3
   },
   "file_extension": ".py",
   "mimetype": "text/x-python",
   "name": "python",
   "nbconvert_exporter": "python",
   "pygments_lexer": "ipython3",
   "version": "3.7.4"
  }
 },
 "nbformat": 4,
 "nbformat_minor": 2
}
