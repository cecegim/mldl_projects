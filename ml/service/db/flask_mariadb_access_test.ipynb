{
 "cells": [
  {
   "cell_type": "markdown",
   "metadata": {},
   "source": [
    "### 파이썬에서 mysql 계열 디비 엑세스\n",
    "\n",
    "- 모듈 : pymysql 사용\n",
    "    - $ conda install pymysql -y"
   ]
  },
  {
   "cell_type": "code",
   "execution_count": 1,
   "metadata": {},
   "outputs": [],
   "source": [
    "import pymysql"
   ]
  },
  {
   "cell_type": "code",
   "execution_count": 2,
   "metadata": {},
   "outputs": [],
   "source": [
    "#1, 접속, 해제\n",
    "#1-1. 접속 객체 생성 및 접속\n",
    "connection = pymysql.connect(host='localhost',\n",
    "                             user='root',\n",
    "                             password='12341234',\n",
    "                             db='py_db',\n",
    "                             charset='utf8mb4',\n",
    "                             cursorclass=pymysql.cursors.DictCursor)\n",
    "\n",
    "if connection:\n",
    "    connection.close()"
   ]
  },
  {
   "cell_type": "code",
   "execution_count": 4,
   "metadata": {},
   "outputs": [],
   "source": [
    "#2. 접속, 쿼리, 해제\n",
    "connection = pymysql.connect(host='localhost',\n",
    "                             user='root',\n",
    "                             password='12341234',\n",
    "                             db='py_db',\n",
    "                             charset='utf8mb4',\n",
    "                             cursorclass=pymysql.cursors.DictCursor)\n",
    "\n",
    "#예외처리 -> s/w는 죽으면 안된다(->오류가 발생할만한 잠재적인 요인을 가진 부분에는 모두다 예외처리를 수행)\n",
    "\n",
    "try:\n",
    "    with connection.cursor() as cursor:\n",
    "        # 쿼리문\n",
    "        sql = '''\n",
    "        INSERT INTO `py_db`.`tbl_trans_lang_log` (`oCode`, `tCode`, `oStr`, `tStc`) VALUES (%s,%s,%s,%s);\n",
    "        '''\n",
    "        #쿼리수행\n",
    "        cursor.execute(sql, ('en', 'ko', 'hello2', '안녕2'))\n",
    "\n",
    "    #커밋수행(디비에 실제 반영)\n",
    "    connection.commit()\n",
    "\n",
    "except Exception as e:\n",
    "    print(e)\n",
    "finally:\n",
    "    if connection:\n",
    "        connection.close()\n"
   ]
  },
  {
   "cell_type": "code",
   "execution_count": null,
   "metadata": {},
   "outputs": [],
   "source": [
    "#3. 접속, 쿼리, 해제 모듈화(함수화)\n",
    "#3.1 2단계에 구현한 내용을 함수로 작성\n",
    "#3.2 db 폴더 밑에 __init__.py 파일 생성\n",
    "#3.3 해당함수를 __init__.py 파일에 붙여넣기\n",
    "#3.4 ml/__init__.py에 해당 모듈(위의 함수가 있는)을 가져와서 로그 저장부분 완성"
   ]
  }
 ],
 "metadata": {
  "kernelspec": {
   "display_name": "Python 3",
   "language": "python",
   "name": "python3"
  },
  "language_info": {
   "codemirror_mode": {
    "name": "ipython",
    "version": 3
   },
   "file_extension": ".py",
   "mimetype": "text/x-python",
   "name": "python",
   "nbconvert_exporter": "python",
   "pygments_lexer": "ipython3",
   "version": "3.7.4"
  }
 },
 "nbformat": 4,
 "nbformat_minor": 2
}
