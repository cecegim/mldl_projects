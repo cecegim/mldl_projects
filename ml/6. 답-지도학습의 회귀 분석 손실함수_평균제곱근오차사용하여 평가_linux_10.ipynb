{
 "cells": [
  {
   "cell_type": "markdown",
   "metadata": {},
   "source": [
    "### 참고\n",
    "\n",
    "- 넷플릭스\n",
    "    - 슬로건 : 모든 것이 추천이다\n",
    "    - https://medium.com/netflixtechblog/55838468f429\n",
    "    - 넷플릿스의 추천 알고리즘 구현에 대한 기술 블로그 공개"
   ]
  },
  {
   "cell_type": "markdown",
   "metadata": {},
   "source": [
    "# 1. 연구 목표\n",
    "\n",
    "- 사용자 평점 데이터를 기반으로 사용자를 특정을 예측하여 추천 시스템을 구축한다\n",
    "- 실제, OTT, 쇼핑몰에서 회원가입시 추천 알고리즘으로 사용된다\n",
    "- 회귀 처리, 회귀 평가, 추천시스템에 대한 이해\n",
    "- FastFM (third party 알고리즘 사용->인수분해머신 기능 지원)\n",
    "    - 윈도우에서 컴파일후 설치가 불가하므로, 리눅스에 설치하여 개발을 진행"
   ]
  },
  {
   "cell_type": "markdown",
   "metadata": {},
   "source": [
    "# 2. 데이터 수집/확보\n",
    "\n",
    "- ml-100k.zip 파일 제공\n",
    "    - 미국에 있는 movelens라는 사이트에서 제공\n",
    "- 영화 정보 데이터\n",
    "    - 고객 정보 : u.user\n",
    "    - 영화 정보\n",
    "    - 평점 점보"
   ]
  },
  {
   "cell_type": "code",
   "execution_count": 2,
   "metadata": {},
   "outputs": [],
   "source": [
    "import pandas as pd"
   ]
  },
  {
   "cell_type": "code",
   "execution_count": 3,
   "metadata": {},
   "outputs": [
    {
     "data": {
      "text/html": [
       "<div>\n",
       "<style scoped>\n",
       "    .dataframe tbody tr th:only-of-type {\n",
       "        vertical-align: middle;\n",
       "    }\n",
       "\n",
       "    .dataframe tbody tr th {\n",
       "        vertical-align: top;\n",
       "    }\n",
       "\n",
       "    .dataframe thead th {\n",
       "        text-align: right;\n",
       "    }\n",
       "</style>\n",
       "<table border=\"1\" class=\"dataframe\">\n",
       "  <thead>\n",
       "    <tr style=\"text-align: right;\">\n",
       "      <th></th>\n",
       "      <th>uid</th>\n",
       "      <th>age</th>\n",
       "      <th>m</th>\n",
       "      <th>job</th>\n",
       "      <th>zip_code</th>\n",
       "    </tr>\n",
       "  </thead>\n",
       "  <tbody>\n",
       "    <tr>\n",
       "      <th>0</th>\n",
       "      <td>1</td>\n",
       "      <td>24</td>\n",
       "      <td>M</td>\n",
       "      <td>technician</td>\n",
       "      <td>85711</td>\n",
       "    </tr>\n",
       "  </tbody>\n",
       "</table>\n",
       "</div>"
      ],
      "text/plain": [
       "   uid  age  m         job zip_code\n",
       "0    1   24  M  technician    85711"
      ]
     },
     "execution_count": 3,
     "metadata": {},
     "output_type": "execute_result"
    }
   ],
   "source": [
    "# u.user 라는 데이터에 컬럼이 없다보니, 첫번재 데이터가 컬럼이 되었다 \n",
    "# 이를 예방하기 위해서는, 컬럼을 지정한다 \n",
    "cols  = ['uid','age','m','job','zip_code']\n",
    "users = pd.read_csv('./table/ml-100k/u.user', sep='|', names=cols)\n",
    "users.head(1)"
   ]
  },
  {
   "cell_type": "code",
   "execution_count": 4,
   "metadata": {
    "scrolled": true
   },
   "outputs": [
    {
     "data": {
      "text/html": [
       "<div>\n",
       "<style scoped>\n",
       "    .dataframe tbody tr th:only-of-type {\n",
       "        vertical-align: middle;\n",
       "    }\n",
       "\n",
       "    .dataframe tbody tr th {\n",
       "        vertical-align: top;\n",
       "    }\n",
       "\n",
       "    .dataframe thead th {\n",
       "        text-align: right;\n",
       "    }\n",
       "</style>\n",
       "<table border=\"1\" class=\"dataframe\">\n",
       "  <thead>\n",
       "    <tr style=\"text-align: right;\">\n",
       "      <th></th>\n",
       "      <th>uid</th>\n",
       "      <th>age</th>\n",
       "      <th>m</th>\n",
       "      <th>job</th>\n",
       "      <th>zip_code</th>\n",
       "    </tr>\n",
       "  </thead>\n",
       "  <tbody>\n",
       "    <tr>\n",
       "      <th>942</th>\n",
       "      <td>943</td>\n",
       "      <td>22</td>\n",
       "      <td>M</td>\n",
       "      <td>student</td>\n",
       "      <td>77841</td>\n",
       "    </tr>\n",
       "  </tbody>\n",
       "</table>\n",
       "</div>"
      ],
      "text/plain": [
       "     uid  age  m      job zip_code\n",
       "942  943   22  M  student    77841"
      ]
     },
     "execution_count": 4,
     "metadata": {},
     "output_type": "execute_result"
    }
   ],
   "source": [
    "users.tail(1)"
   ]
  },
  {
   "cell_type": "code",
   "execution_count": 5,
   "metadata": {},
   "outputs": [
    {
     "data": {
      "text/plain": [
       "(943, 5)"
      ]
     },
     "execution_count": 5,
     "metadata": {},
     "output_type": "execute_result"
    }
   ],
   "source": [
    "# 고객 943명의 데이터\n",
    "users.shape"
   ]
  },
  {
   "cell_type": "code",
   "execution_count": 6,
   "metadata": {},
   "outputs": [
    {
     "data": {
      "text/html": [
       "<div>\n",
       "<style scoped>\n",
       "    .dataframe tbody tr th:only-of-type {\n",
       "        vertical-align: middle;\n",
       "    }\n",
       "\n",
       "    .dataframe tbody tr th {\n",
       "        vertical-align: top;\n",
       "    }\n",
       "\n",
       "    .dataframe thead th {\n",
       "        text-align: right;\n",
       "    }\n",
       "</style>\n",
       "<table border=\"1\" class=\"dataframe\">\n",
       "  <thead>\n",
       "    <tr style=\"text-align: right;\">\n",
       "      <th></th>\n",
       "      <th>mid</th>\n",
       "      <th>title</th>\n",
       "      <th>release_date</th>\n",
       "      <th>video_release_date</th>\n",
       "      <th>imdb_url</th>\n",
       "    </tr>\n",
       "  </thead>\n",
       "  <tbody>\n",
       "    <tr>\n",
       "      <th>0</th>\n",
       "      <td>1</td>\n",
       "      <td>Toy Story (1995)</td>\n",
       "      <td>01-Jan-1995</td>\n",
       "      <td>NaN</td>\n",
       "      <td>http://us.imdb.com/M/title-exact?Toy%20Story%2...</td>\n",
       "    </tr>\n",
       "    <tr>\n",
       "      <th>1</th>\n",
       "      <td>2</td>\n",
       "      <td>GoldenEye (1995)</td>\n",
       "      <td>01-Jan-1995</td>\n",
       "      <td>NaN</td>\n",
       "      <td>http://us.imdb.com/M/title-exact?GoldenEye%20(...</td>\n",
       "    </tr>\n",
       "  </tbody>\n",
       "</table>\n",
       "</div>"
      ],
      "text/plain": [
       "   mid             title release_date  video_release_date  \\\n",
       "0    1  Toy Story (1995)  01-Jan-1995                 NaN   \n",
       "1    2  GoldenEye (1995)  01-Jan-1995                 NaN   \n",
       "\n",
       "                                            imdb_url  \n",
       "0  http://us.imdb.com/M/title-exact?Toy%20Story%2...  \n",
       "1  http://us.imdb.com/M/title-exact?GoldenEye%20(...  "
      ]
     },
     "execution_count": 6,
     "metadata": {},
     "output_type": "execute_result"
    }
   ],
   "source": [
    "# 영화 정보 로드\n",
    "m_cols  = ['mid','title','release_date','video_release_date','imdb_url']\n",
    "# 영어권이면 utf-8에서 에러나면 latin1으로 사용\n",
    "# 원본 데이터의 컬럼이 많은데 부분만 쓰고 싶다면, usecols를 적용\n",
    "movies = pd.read_csv('./table/ml-100k/u.item', sep='|', \n",
    "                     encoding='latin1', names=m_cols, usecols=range(5))\n",
    "movies.head(2)"
   ]
  },
  {
   "cell_type": "code",
   "execution_count": 7,
   "metadata": {},
   "outputs": [
    {
     "data": {
      "text/html": [
       "<div>\n",
       "<style scoped>\n",
       "    .dataframe tbody tr th:only-of-type {\n",
       "        vertical-align: middle;\n",
       "    }\n",
       "\n",
       "    .dataframe tbody tr th {\n",
       "        vertical-align: top;\n",
       "    }\n",
       "\n",
       "    .dataframe thead th {\n",
       "        text-align: right;\n",
       "    }\n",
       "</style>\n",
       "<table border=\"1\" class=\"dataframe\">\n",
       "  <thead>\n",
       "    <tr style=\"text-align: right;\">\n",
       "      <th></th>\n",
       "      <th>mid</th>\n",
       "      <th>title</th>\n",
       "      <th>release_date</th>\n",
       "      <th>video_release_date</th>\n",
       "      <th>imdb_url</th>\n",
       "    </tr>\n",
       "  </thead>\n",
       "  <tbody>\n",
       "    <tr>\n",
       "      <th>1680</th>\n",
       "      <td>1681</td>\n",
       "      <td>You So Crazy (1994)</td>\n",
       "      <td>01-Jan-1994</td>\n",
       "      <td>NaN</td>\n",
       "      <td>http://us.imdb.com/M/title-exact?You%20So%20Cr...</td>\n",
       "    </tr>\n",
       "    <tr>\n",
       "      <th>1681</th>\n",
       "      <td>1682</td>\n",
       "      <td>Scream of Stone (Schrei aus Stein) (1991)</td>\n",
       "      <td>08-Mar-1996</td>\n",
       "      <td>NaN</td>\n",
       "      <td>http://us.imdb.com/M/title-exact?Schrei%20aus%...</td>\n",
       "    </tr>\n",
       "  </tbody>\n",
       "</table>\n",
       "</div>"
      ],
      "text/plain": [
       "       mid                                      title release_date  \\\n",
       "1680  1681                        You So Crazy (1994)  01-Jan-1994   \n",
       "1681  1682  Scream of Stone (Schrei aus Stein) (1991)  08-Mar-1996   \n",
       "\n",
       "      video_release_date                                           imdb_url  \n",
       "1680                 NaN  http://us.imdb.com/M/title-exact?You%20So%20Cr...  \n",
       "1681                 NaN  http://us.imdb.com/M/title-exact?Schrei%20aus%...  "
      ]
     },
     "execution_count": 7,
     "metadata": {},
     "output_type": "execute_result"
    }
   ],
   "source": [
    "movies.tail(2)"
   ]
  },
  {
   "cell_type": "code",
   "execution_count": 8,
   "metadata": {},
   "outputs": [
    {
     "data": {
      "text/plain": [
       "(1682, 5)"
      ]
     },
     "execution_count": 8,
     "metadata": {},
     "output_type": "execute_result"
    }
   ],
   "source": [
    "movies.shape"
   ]
  },
  {
   "cell_type": "code",
   "execution_count": 9,
   "metadata": {},
   "outputs": [
    {
     "data": {
      "text/html": [
       "<div>\n",
       "<style scoped>\n",
       "    .dataframe tbody tr th:only-of-type {\n",
       "        vertical-align: middle;\n",
       "    }\n",
       "\n",
       "    .dataframe tbody tr th {\n",
       "        vertical-align: top;\n",
       "    }\n",
       "\n",
       "    .dataframe thead th {\n",
       "        text-align: right;\n",
       "    }\n",
       "</style>\n",
       "<table border=\"1\" class=\"dataframe\">\n",
       "  <thead>\n",
       "    <tr style=\"text-align: right;\">\n",
       "      <th></th>\n",
       "      <th>uid</th>\n",
       "      <th>mid</th>\n",
       "      <th>rating</th>\n",
       "      <th>unix_timestamp</th>\n",
       "    </tr>\n",
       "  </thead>\n",
       "  <tbody>\n",
       "    <tr>\n",
       "      <th>0</th>\n",
       "      <td>196</td>\n",
       "      <td>242</td>\n",
       "      <td>3</td>\n",
       "      <td>881250949</td>\n",
       "    </tr>\n",
       "  </tbody>\n",
       "</table>\n",
       "</div>"
      ],
      "text/plain": [
       "   uid  mid  rating  unix_timestamp\n",
       "0  196  242       3       881250949"
      ]
     },
     "execution_count": 9,
     "metadata": {},
     "output_type": "execute_result"
    }
   ],
   "source": [
    "# 평점 정보 : u.data\n",
    "r_cols  = ['uid','mid','rating','unix_timestamp']\n",
    "ratings = pd.read_csv('./table/ml-100k/u.data', sep='\\t', names=r_cols)\n",
    "ratings.head(1)"
   ]
  },
  {
   "cell_type": "code",
   "execution_count": 10,
   "metadata": {},
   "outputs": [
    {
     "data": {
      "text/html": [
       "<div>\n",
       "<style scoped>\n",
       "    .dataframe tbody tr th:only-of-type {\n",
       "        vertical-align: middle;\n",
       "    }\n",
       "\n",
       "    .dataframe tbody tr th {\n",
       "        vertical-align: top;\n",
       "    }\n",
       "\n",
       "    .dataframe thead th {\n",
       "        text-align: right;\n",
       "    }\n",
       "</style>\n",
       "<table border=\"1\" class=\"dataframe\">\n",
       "  <thead>\n",
       "    <tr style=\"text-align: right;\">\n",
       "      <th></th>\n",
       "      <th>uid</th>\n",
       "      <th>mid</th>\n",
       "      <th>rating</th>\n",
       "      <th>unix_timestamp</th>\n",
       "    </tr>\n",
       "  </thead>\n",
       "  <tbody>\n",
       "    <tr>\n",
       "      <th>99999</th>\n",
       "      <td>12</td>\n",
       "      <td>203</td>\n",
       "      <td>3</td>\n",
       "      <td>879959583</td>\n",
       "    </tr>\n",
       "  </tbody>\n",
       "</table>\n",
       "</div>"
      ],
      "text/plain": [
       "       uid  mid  rating  unix_timestamp\n",
       "99999   12  203       3       879959583"
      ]
     },
     "execution_count": 10,
     "metadata": {},
     "output_type": "execute_result"
    }
   ],
   "source": [
    "ratings.tail(1)"
   ]
  },
  {
   "cell_type": "code",
   "execution_count": 11,
   "metadata": {},
   "outputs": [
    {
     "data": {
      "text/plain": [
       "(100000, 4)"
      ]
     },
     "execution_count": 11,
     "metadata": {},
     "output_type": "execute_result"
    }
   ],
   "source": [
    "ratings.shape"
   ]
  },
  {
   "cell_type": "code",
   "execution_count": 12,
   "metadata": {},
   "outputs": [
    {
     "data": {
      "text/plain": [
       "(0        881250949\n",
       " 1        891717742\n",
       " 2        878887116\n",
       " 3        880606923\n",
       " 4        886397596\n",
       "            ...    \n",
       " 99995    880175444\n",
       " 99996    879795543\n",
       " 99997    874795795\n",
       " 99998    882399156\n",
       " 99999    879959583\n",
       " Name: unix_timestamp, Length: 100000, dtype: int64, 0        881250949\n",
       " 1        891717742\n",
       " 2        878887116\n",
       " 3        880606923\n",
       " 4        886397596\n",
       "            ...    \n",
       " 99995    880175444\n",
       " 99996    879795543\n",
       " 99997    874795795\n",
       " 99998    882399156\n",
       " 99999    879959583\n",
       " Name: unix_timestamp, Length: 100000, dtype: int64)"
      ]
     },
     "execution_count": 12,
     "metadata": {},
     "output_type": "execute_result"
    }
   ],
   "source": [
    "ratings.unix_timestamp, ratings[ 'unix_timestamp' ]"
   ]
  },
  {
   "cell_type": "code",
   "execution_count": 13,
   "metadata": {},
   "outputs": [],
   "source": [
    "# unix_timestamp는 1970년 1월 1일 00시 00분 00초 부터 현재까지 경과된 시간 + 09:00\n",
    "# 그래서, 현재시간, 특정시간을 특정하기가 어렵다 -> 해석이 어렵다 -> 시간형식 변경\n",
    "ratings['date'] = pd.to_datetime( ratings.unix_timestamp, unit='s' )"
   ]
  },
  {
   "cell_type": "code",
   "execution_count": 14,
   "metadata": {},
   "outputs": [
    {
     "data": {
      "text/html": [
       "<div>\n",
       "<style scoped>\n",
       "    .dataframe tbody tr th:only-of-type {\n",
       "        vertical-align: middle;\n",
       "    }\n",
       "\n",
       "    .dataframe tbody tr th {\n",
       "        vertical-align: top;\n",
       "    }\n",
       "\n",
       "    .dataframe thead th {\n",
       "        text-align: right;\n",
       "    }\n",
       "</style>\n",
       "<table border=\"1\" class=\"dataframe\">\n",
       "  <thead>\n",
       "    <tr style=\"text-align: right;\">\n",
       "      <th></th>\n",
       "      <th>uid</th>\n",
       "      <th>mid</th>\n",
       "      <th>rating</th>\n",
       "      <th>unix_timestamp</th>\n",
       "      <th>date</th>\n",
       "    </tr>\n",
       "  </thead>\n",
       "  <tbody>\n",
       "    <tr>\n",
       "      <th>0</th>\n",
       "      <td>196</td>\n",
       "      <td>242</td>\n",
       "      <td>3</td>\n",
       "      <td>881250949</td>\n",
       "      <td>1997-12-04 15:55:49</td>\n",
       "    </tr>\n",
       "    <tr>\n",
       "      <th>1</th>\n",
       "      <td>186</td>\n",
       "      <td>302</td>\n",
       "      <td>3</td>\n",
       "      <td>891717742</td>\n",
       "      <td>1998-04-04 19:22:22</td>\n",
       "    </tr>\n",
       "  </tbody>\n",
       "</table>\n",
       "</div>"
      ],
      "text/plain": [
       "   uid  mid  rating  unix_timestamp                date\n",
       "0  196  242       3       881250949 1997-12-04 15:55:49\n",
       "1  186  302       3       891717742 1998-04-04 19:22:22"
      ]
     },
     "execution_count": 14,
     "metadata": {},
     "output_type": "execute_result"
    }
   ],
   "source": [
    "ratings.head(2)"
   ]
  },
  {
   "cell_type": "code",
   "execution_count": 15,
   "metadata": {},
   "outputs": [],
   "source": [
    "# 3. 데이터 준비/품질향상/전처리\n",
    "# 4. 데이터 분석/통계적,시각적,..."
   ]
  },
  {
   "cell_type": "code",
   "execution_count": 16,
   "metadata": {},
   "outputs": [
    {
     "data": {
      "text/plain": [
       "(100000, 9)"
      ]
     },
     "execution_count": 16,
     "metadata": {},
     "output_type": "execute_result"
    }
   ],
   "source": [
    "# 평점과 영화 데이터 합치기\n",
    "# 합친결과=> (10000, 9)\n",
    "# merge()를 수행할때 중복되는 컬럼을 생략하면 알아서 찾아서 수행된다.\n",
    "# 단, 컬럼이 2개이상이면 검토가 필요\n",
    "movies_ratings = pd.merge( movies, ratings, on='mid')\n",
    "movies_ratings.shape"
   ]
  },
  {
   "cell_type": "code",
   "execution_count": 17,
   "metadata": {},
   "outputs": [
    {
     "data": {
      "text/html": [
       "<div>\n",
       "<style scoped>\n",
       "    .dataframe tbody tr th:only-of-type {\n",
       "        vertical-align: middle;\n",
       "    }\n",
       "\n",
       "    .dataframe tbody tr th {\n",
       "        vertical-align: top;\n",
       "    }\n",
       "\n",
       "    .dataframe thead th {\n",
       "        text-align: right;\n",
       "    }\n",
       "</style>\n",
       "<table border=\"1\" class=\"dataframe\">\n",
       "  <thead>\n",
       "    <tr style=\"text-align: right;\">\n",
       "      <th></th>\n",
       "      <th>mid</th>\n",
       "      <th>title</th>\n",
       "      <th>release_date</th>\n",
       "      <th>video_release_date</th>\n",
       "      <th>imdb_url</th>\n",
       "      <th>uid</th>\n",
       "      <th>rating</th>\n",
       "      <th>unix_timestamp</th>\n",
       "      <th>date</th>\n",
       "    </tr>\n",
       "  </thead>\n",
       "  <tbody>\n",
       "    <tr>\n",
       "      <th>0</th>\n",
       "      <td>1</td>\n",
       "      <td>Toy Story (1995)</td>\n",
       "      <td>01-Jan-1995</td>\n",
       "      <td>NaN</td>\n",
       "      <td>http://us.imdb.com/M/title-exact?Toy%20Story%2...</td>\n",
       "      <td>308</td>\n",
       "      <td>4</td>\n",
       "      <td>887736532</td>\n",
       "      <td>1998-02-17 17:28:52</td>\n",
       "    </tr>\n",
       "    <tr>\n",
       "      <th>1</th>\n",
       "      <td>1</td>\n",
       "      <td>Toy Story (1995)</td>\n",
       "      <td>01-Jan-1995</td>\n",
       "      <td>NaN</td>\n",
       "      <td>http://us.imdb.com/M/title-exact?Toy%20Story%2...</td>\n",
       "      <td>287</td>\n",
       "      <td>5</td>\n",
       "      <td>875334088</td>\n",
       "      <td>1997-09-27 04:21:28</td>\n",
       "    </tr>\n",
       "  </tbody>\n",
       "</table>\n",
       "</div>"
      ],
      "text/plain": [
       "   mid             title release_date  video_release_date  \\\n",
       "0    1  Toy Story (1995)  01-Jan-1995                 NaN   \n",
       "1    1  Toy Story (1995)  01-Jan-1995                 NaN   \n",
       "\n",
       "                                            imdb_url  uid  rating  \\\n",
       "0  http://us.imdb.com/M/title-exact?Toy%20Story%2...  308       4   \n",
       "1  http://us.imdb.com/M/title-exact?Toy%20Story%2...  287       5   \n",
       "\n",
       "   unix_timestamp                date  \n",
       "0       887736532 1998-02-17 17:28:52  \n",
       "1       875334088 1997-09-27 04:21:28  "
      ]
     },
     "execution_count": 17,
     "metadata": {},
     "output_type": "execute_result"
    }
   ],
   "source": [
    "movies_ratings.head(2)"
   ]
  },
  {
   "cell_type": "code",
   "execution_count": 18,
   "metadata": {},
   "outputs": [
    {
     "data": {
      "text/plain": [
       "(100000, 13)"
      ]
     },
     "execution_count": 18,
     "metadata": {},
     "output_type": "execute_result"
    }
   ],
   "source": [
    "# movies_ratings, users => 합치기\n",
    "movie_lens = pd.merge( movies_ratings, users)\n",
    "movie_lens.shape"
   ]
  },
  {
   "cell_type": "code",
   "execution_count": 19,
   "metadata": {},
   "outputs": [
    {
     "data": {
      "text/html": [
       "<div>\n",
       "<style scoped>\n",
       "    .dataframe tbody tr th:only-of-type {\n",
       "        vertical-align: middle;\n",
       "    }\n",
       "\n",
       "    .dataframe tbody tr th {\n",
       "        vertical-align: top;\n",
       "    }\n",
       "\n",
       "    .dataframe thead th {\n",
       "        text-align: right;\n",
       "    }\n",
       "</style>\n",
       "<table border=\"1\" class=\"dataframe\">\n",
       "  <thead>\n",
       "    <tr style=\"text-align: right;\">\n",
       "      <th></th>\n",
       "      <th>mid</th>\n",
       "      <th>title</th>\n",
       "      <th>release_date</th>\n",
       "      <th>video_release_date</th>\n",
       "      <th>imdb_url</th>\n",
       "      <th>uid</th>\n",
       "      <th>rating</th>\n",
       "      <th>unix_timestamp</th>\n",
       "      <th>date</th>\n",
       "      <th>age</th>\n",
       "      <th>m</th>\n",
       "      <th>job</th>\n",
       "      <th>zip_code</th>\n",
       "    </tr>\n",
       "  </thead>\n",
       "  <tbody>\n",
       "    <tr>\n",
       "      <th>0</th>\n",
       "      <td>1</td>\n",
       "      <td>Toy Story (1995)</td>\n",
       "      <td>01-Jan-1995</td>\n",
       "      <td>NaN</td>\n",
       "      <td>http://us.imdb.com/M/title-exact?Toy%20Story%2...</td>\n",
       "      <td>308</td>\n",
       "      <td>4</td>\n",
       "      <td>887736532</td>\n",
       "      <td>1998-02-17 17:28:52</td>\n",
       "      <td>60</td>\n",
       "      <td>M</td>\n",
       "      <td>retired</td>\n",
       "      <td>95076</td>\n",
       "    </tr>\n",
       "    <tr>\n",
       "      <th>1</th>\n",
       "      <td>4</td>\n",
       "      <td>Get Shorty (1995)</td>\n",
       "      <td>01-Jan-1995</td>\n",
       "      <td>NaN</td>\n",
       "      <td>http://us.imdb.com/M/title-exact?Get%20Shorty%...</td>\n",
       "      <td>308</td>\n",
       "      <td>5</td>\n",
       "      <td>887737890</td>\n",
       "      <td>1998-02-17 17:51:30</td>\n",
       "      <td>60</td>\n",
       "      <td>M</td>\n",
       "      <td>retired</td>\n",
       "      <td>95076</td>\n",
       "    </tr>\n",
       "  </tbody>\n",
       "</table>\n",
       "</div>"
      ],
      "text/plain": [
       "   mid              title release_date  video_release_date  \\\n",
       "0    1   Toy Story (1995)  01-Jan-1995                 NaN   \n",
       "1    4  Get Shorty (1995)  01-Jan-1995                 NaN   \n",
       "\n",
       "                                            imdb_url  uid  rating  \\\n",
       "0  http://us.imdb.com/M/title-exact?Toy%20Story%2...  308       4   \n",
       "1  http://us.imdb.com/M/title-exact?Get%20Shorty%...  308       5   \n",
       "\n",
       "   unix_timestamp                date  age  m      job zip_code  \n",
       "0       887736532 1998-02-17 17:28:52   60  M  retired    95076  \n",
       "1       887737890 1998-02-17 17:51:30   60  M  retired    95076  "
      ]
     },
     "execution_count": 19,
     "metadata": {},
     "output_type": "execute_result"
    }
   ],
   "source": [
    "movie_lens.head(2)"
   ]
  },
  {
   "cell_type": "markdown",
   "metadata": {},
   "source": [
    "- 데이터를 모두 병합하였다, 평점이나 회원을 중심으로 중복적인 데이터가 많다\n",
    "- 데이터가 적으면 크게 문제 없으나, 크면 메모리를 많이 사용할수도 있다 (검토)"
   ]
  },
  {
   "cell_type": "code",
   "execution_count": 20,
   "metadata": {},
   "outputs": [
    {
     "data": {
      "text/plain": [
       "Star Wars (1977)                 583\n",
       "Contact (1997)                   509\n",
       "Fargo (1996)                     508\n",
       "Return of the Jedi (1983)        507\n",
       "Liar Liar (1997)                 485\n",
       "English Patient, The (1996)      481\n",
       "Scream (1996)                    478\n",
       "Toy Story (1995)                 452\n",
       "Air Force One (1997)             431\n",
       "Independence Day (ID4) (1996)    429\n",
       "Name: title, dtype: int64"
      ]
     },
     "execution_count": 20,
     "metadata": {},
     "output_type": "execute_result"
    }
   ],
   "source": [
    "# 평가를 가장 많이 받은 영화 상위 10개 출력하시오\n",
    "# mid나 title 둘다 사용이 가능하나, 결과를 이해하기 위해서 title을 사용\n",
    "movie_lens.title.value_counts()[:10]"
   ]
  },
  {
   "cell_type": "code",
   "execution_count": 21,
   "metadata": {},
   "outputs": [
    {
     "data": {
      "text/plain": [
       "Next Step, The (1995)                                 1\n",
       "Pharaoh's Army (1995)                                 1\n",
       "Death in the Garden (Mort en ce jardin, La) (1956)    1\n",
       "Homage (1995)                                         1\n",
       "Invitation, The (Zaproszenie) (1986)                  1\n",
       "Century (1993)                                        1\n",
       "JLG/JLG - autoportrait de décembre (1994)             1\n",
       "Tigrero: A Film That Was Never Made (1994)            1\n",
       "Big One, The (1997)                                   1\n",
       "Raw Deal (1948)                                       1\n",
       "Name: title, dtype: int64"
      ]
     },
     "execution_count": 21,
     "metadata": {},
     "output_type": "execute_result"
    }
   ],
   "source": [
    "# 평점을 받은 횟수가 적은경우, 우연히 평점이 좋을수도 있다 \n",
    "# 데이터를 조정할때, 특정 회수(임계치) 이상 평가한 작품만 고려하겠다\n",
    "movie_lens.title.value_counts()[-10:]"
   ]
  },
  {
   "cell_type": "markdown",
   "metadata": {},
   "source": [
    "- 제목기준으로 데이터를 분류\n",
    "- 평가의 개수, 평균평점이 들어가있는 DF\n",
    "- 인덱스:title, 컬럼:개수, 평균평점<=만드는 과정에서 컬럼의 레벨이 1이상이 되고 관계없음)"
   ]
  },
  {
   "cell_type": "code",
   "execution_count": 22,
   "metadata": {},
   "outputs": [
    {
     "data": {
      "text/plain": [
       "Index(['mid', 'title', 'release_date', 'video_release_date', 'imdb_url', 'uid',\n",
       "       'rating', 'unix_timestamp', 'date', 'age', 'm', 'job', 'zip_code'],\n",
       "      dtype='object')"
      ]
     },
     "execution_count": 22,
     "metadata": {},
     "output_type": "execute_result"
    }
   ],
   "source": [
    "movie_lens.columns"
   ]
  },
  {
   "cell_type": "code",
   "execution_count": 23,
   "metadata": {},
   "outputs": [],
   "source": [
    "import numpy as np"
   ]
  },
  {
   "cell_type": "code",
   "execution_count": 24,
   "metadata": {},
   "outputs": [
    {
     "data": {
      "text/html": [
       "<div>\n",
       "<style scoped>\n",
       "    .dataframe tbody tr th:only-of-type {\n",
       "        vertical-align: middle;\n",
       "    }\n",
       "\n",
       "    .dataframe tbody tr th {\n",
       "        vertical-align: top;\n",
       "    }\n",
       "\n",
       "    .dataframe thead tr th {\n",
       "        text-align: left;\n",
       "    }\n",
       "\n",
       "    .dataframe thead tr:last-of-type th {\n",
       "        text-align: right;\n",
       "    }\n",
       "</style>\n",
       "<table border=\"1\" class=\"dataframe\">\n",
       "  <thead>\n",
       "    <tr>\n",
       "      <th></th>\n",
       "      <th colspan=\"2\" halign=\"left\">rating</th>\n",
       "    </tr>\n",
       "    <tr>\n",
       "      <th></th>\n",
       "      <th>size</th>\n",
       "      <th>mean</th>\n",
       "    </tr>\n",
       "    <tr>\n",
       "      <th>title</th>\n",
       "      <th></th>\n",
       "      <th></th>\n",
       "    </tr>\n",
       "  </thead>\n",
       "  <tbody>\n",
       "    <tr>\n",
       "      <th>'Til There Was You (1997)</th>\n",
       "      <td>9</td>\n",
       "      <td>2.333333</td>\n",
       "    </tr>\n",
       "    <tr>\n",
       "      <th>1-900 (1994)</th>\n",
       "      <td>5</td>\n",
       "      <td>2.600000</td>\n",
       "    </tr>\n",
       "  </tbody>\n",
       "</table>\n",
       "</div>"
      ],
      "text/plain": [
       "                          rating          \n",
       "                            size      mean\n",
       "title                                     \n",
       "'Til There Was You (1997)      9  2.333333\n",
       "1-900 (1994)                   5  2.600000"
      ]
     },
     "execution_count": 24,
     "metadata": {},
     "output_type": "execute_result"
    }
   ],
   "source": [
    "# groupby(컬럼) : 해당 컬럼이 인덱스로 이동\n",
    "# agg( {컬럼:[값처리함수,...]} ) : 컬럼에 처리함수개수대로 설정되서 값이 자동 처리\n",
    "movie_state = movie_lens.groupby('title').agg( {'rating':[np.size, np.mean]} )\n",
    "movie_state.head(2)"
   ]
  },
  {
   "cell_type": "code",
   "execution_count": 25,
   "metadata": {},
   "outputs": [],
   "source": [
    "# 이 케이스에서는 피벗의 표현이 좀더 복잡할수 있어서 배제\n",
    "# movie_lens.pivot_table( index='title')"
   ]
  },
  {
   "cell_type": "markdown",
   "metadata": {},
   "source": [
    "- 평점을 받은 개수가 1개인 경우, 소수의 평가를 받은 영화\n",
    "- 평균의 수가 적으면 잡음의 개입이 여지가 많다 \n",
    "- 100건 기준으로 100개 이상만 대상으로 처리 (임계값)"
   ]
  },
  {
   "cell_type": "code",
   "execution_count": 26,
   "metadata": {},
   "outputs": [
    {
     "data": {
      "text/plain": [
       "title\n",
       "'Til There Was You (1997)    False\n",
       "1-900 (1994)                 False\n",
       "Name: size, dtype: bool"
      ]
     },
     "execution_count": 26,
     "metadata": {},
     "output_type": "execute_result"
    }
   ],
   "source": [
    "# 차후 변경함으로써 성능을 다르게 낼수 있다\n",
    "limit_std_value = 100\n",
    "condition       = movie_state['rating']['size'] >= limit_std_value\n",
    "condition[:2]"
   ]
  },
  {
   "cell_type": "code",
   "execution_count": 27,
   "metadata": {},
   "outputs": [
    {
     "data": {
      "text/html": [
       "<div>\n",
       "<style scoped>\n",
       "    .dataframe tbody tr th:only-of-type {\n",
       "        vertical-align: middle;\n",
       "    }\n",
       "\n",
       "    .dataframe tbody tr th {\n",
       "        vertical-align: top;\n",
       "    }\n",
       "\n",
       "    .dataframe thead tr th {\n",
       "        text-align: left;\n",
       "    }\n",
       "\n",
       "    .dataframe thead tr:last-of-type th {\n",
       "        text-align: right;\n",
       "    }\n",
       "</style>\n",
       "<table border=\"1\" class=\"dataframe\">\n",
       "  <thead>\n",
       "    <tr>\n",
       "      <th></th>\n",
       "      <th colspan=\"2\" halign=\"left\">rating</th>\n",
       "    </tr>\n",
       "    <tr>\n",
       "      <th></th>\n",
       "      <th>size</th>\n",
       "      <th>mean</th>\n",
       "    </tr>\n",
       "    <tr>\n",
       "      <th>title</th>\n",
       "      <th></th>\n",
       "      <th></th>\n",
       "    </tr>\n",
       "  </thead>\n",
       "  <tbody>\n",
       "    <tr>\n",
       "      <th>101 Dalmatians (1996)</th>\n",
       "      <td>109</td>\n",
       "      <td>2.908257</td>\n",
       "    </tr>\n",
       "    <tr>\n",
       "      <th>12 Angry Men (1957)</th>\n",
       "      <td>125</td>\n",
       "      <td>4.344000</td>\n",
       "    </tr>\n",
       "  </tbody>\n",
       "</table>\n",
       "</div>"
      ],
      "text/plain": [
       "                      rating          \n",
       "                        size      mean\n",
       "title                                 \n",
       "101 Dalmatians (1996)    109  2.908257\n",
       "12 Angry Men (1957)      125  4.344000"
      ]
     },
     "execution_count": 27,
     "metadata": {},
     "output_type": "execute_result"
    }
   ],
   "source": [
    "# 블리언 인덱싱\n",
    "movie_state[ condition ][:2]"
   ]
  },
  {
   "cell_type": "code",
   "execution_count": 28,
   "metadata": {},
   "outputs": [
    {
     "data": {
      "text/html": [
       "<div>\n",
       "<style scoped>\n",
       "    .dataframe tbody tr th:only-of-type {\n",
       "        vertical-align: middle;\n",
       "    }\n",
       "\n",
       "    .dataframe tbody tr th {\n",
       "        vertical-align: top;\n",
       "    }\n",
       "\n",
       "    .dataframe thead tr th {\n",
       "        text-align: left;\n",
       "    }\n",
       "\n",
       "    .dataframe thead tr:last-of-type th {\n",
       "        text-align: right;\n",
       "    }\n",
       "</style>\n",
       "<table border=\"1\" class=\"dataframe\">\n",
       "  <thead>\n",
       "    <tr>\n",
       "      <th></th>\n",
       "      <th colspan=\"2\" halign=\"left\">rating</th>\n",
       "    </tr>\n",
       "    <tr>\n",
       "      <th></th>\n",
       "      <th>size</th>\n",
       "      <th>mean</th>\n",
       "    </tr>\n",
       "    <tr>\n",
       "      <th>title</th>\n",
       "      <th></th>\n",
       "      <th></th>\n",
       "    </tr>\n",
       "  </thead>\n",
       "  <tbody>\n",
       "    <tr>\n",
       "      <th>Close Shave, A (1995)</th>\n",
       "      <td>112</td>\n",
       "      <td>4.491071</td>\n",
       "    </tr>\n",
       "    <tr>\n",
       "      <th>Schindler's List (1993)</th>\n",
       "      <td>298</td>\n",
       "      <td>4.466443</td>\n",
       "    </tr>\n",
       "    <tr>\n",
       "      <th>Wrong Trousers, The (1993)</th>\n",
       "      <td>118</td>\n",
       "      <td>4.466102</td>\n",
       "    </tr>\n",
       "    <tr>\n",
       "      <th>Casablanca (1942)</th>\n",
       "      <td>243</td>\n",
       "      <td>4.456790</td>\n",
       "    </tr>\n",
       "    <tr>\n",
       "      <th>Shawshank Redemption, The (1994)</th>\n",
       "      <td>283</td>\n",
       "      <td>4.445230</td>\n",
       "    </tr>\n",
       "  </tbody>\n",
       "</table>\n",
       "</div>"
      ],
      "text/plain": [
       "                                 rating          \n",
       "                                   size      mean\n",
       "title                                            \n",
       "Close Shave, A (1995)               112  4.491071\n",
       "Schindler's List (1993)             298  4.466443\n",
       "Wrong Trousers, The (1993)          118  4.466102\n",
       "Casablanca (1942)                   243  4.456790\n",
       "Shawshank Redemption, The (1994)    283  4.445230"
      ]
     },
     "execution_count": 28,
     "metadata": {},
     "output_type": "execute_result"
    }
   ],
   "source": [
    "# 정렬 -> 평균 내림차순으로 정렬하여 상위 5개만 출력\n",
    "# 컬럼레벨이 n차인 경우 정렬하는 방법\n",
    "tmp = movie_state[ condition ].sort_values( by=[ ('rating', 'mean') ], \n",
    "                                            ascending=False )\n",
    "tmp.head()"
   ]
  },
  {
   "cell_type": "code",
   "execution_count": 29,
   "metadata": {},
   "outputs": [
    {
     "data": {
      "text/plain": [
       "((338, 2), (1682, 5))"
      ]
     },
     "execution_count": 29,
     "metadata": {},
     "output_type": "execute_result"
    }
   ],
   "source": [
    "# 영화 1682개중에 임계값을 통과한 대상은 338개이다\n",
    "# 이를 통해서 평점을 적게 받은 영화의 통계적인 추정도 가능하다\n",
    "tmp.shape, movies.shape"
   ]
  },
  {
   "cell_type": "code",
   "execution_count": 30,
   "metadata": {},
   "outputs": [],
   "source": [
    "# 간단한 시각화\n",
    "# 영화별 평점 개수 : x축\n",
    "# 평가 회수 : y축\n",
    "from matplotlib import pyplot as plt\n",
    "\n",
    "%matplotlib inline"
   ]
  },
  {
   "cell_type": "code",
   "execution_count": 31,
   "metadata": {},
   "outputs": [
    {
     "data": {
      "text/plain": [
       "'\\nStar Wars (1977)                 583\\n스타워즈 1977년 작품에 평가가 583회가 수행되었는데, 이중에는 \\n이 영화만 평가한 유저도 다수 존재한다(현 데이터에서는 최저 평가 회수가 사용자당 20)\\n'"
      ]
     },
     "execution_count": 31,
     "metadata": {},
     "output_type": "execute_result"
    },
    {
     "data": {
      "image/png": "[encoded data removed]",
      "text/plain": [
       "<Figure size 432x288 with 1 Axes>"
      ]
     },
     "metadata": {},
     "output_type": "display_data"
    }
   ],
   "source": [
    "# 히스토그램\n",
    "plt.style.use('ggplot')\n",
    "movie_lens.groupby('uid').size().sort_values( ascending=False ).hist()\n",
    "# 사용자의 평가 횟수에 대한 성향\n",
    "# 빈도가 점점 낮아진다 -> 길게 꼬리를 늘어뜨리는 모양 -> 롱테일분포\n",
    "# \"지프의 법칙\"을 따른 굴곡 모양이다\n",
    "# 영화의 평가가 많으면, 그 사용자들 중에는 1회성 평가 회수도 많다\n",
    "'''\n",
    "Star Wars (1977)                 583\n",
    "스타워즈 1977년 작품에 평가가 583회가 수행되었는데, 이중에는 \n",
    "이 영화만 평가한 유저도 다수 존재한다(현 데이터에서는 최저 평가 회수가 사용자당 20)\n",
    "'''"
   ]
  },
  {
   "cell_type": "code",
   "execution_count": 32,
   "metadata": {},
   "outputs": [
    {
     "data": {
      "text/html": [
       "<div>\n",
       "<style scoped>\n",
       "    .dataframe tbody tr th:only-of-type {\n",
       "        vertical-align: middle;\n",
       "    }\n",
       "\n",
       "    .dataframe tbody tr th {\n",
       "        vertical-align: top;\n",
       "    }\n",
       "\n",
       "    .dataframe thead tr th {\n",
       "        text-align: left;\n",
       "    }\n",
       "\n",
       "    .dataframe thead tr:last-of-type th {\n",
       "        text-align: right;\n",
       "    }\n",
       "</style>\n",
       "<table border=\"1\" class=\"dataframe\">\n",
       "  <thead>\n",
       "    <tr>\n",
       "      <th></th>\n",
       "      <th colspan=\"2\" halign=\"left\">rating</th>\n",
       "    </tr>\n",
       "    <tr>\n",
       "      <th></th>\n",
       "      <th>size</th>\n",
       "      <th>mean</th>\n",
       "    </tr>\n",
       "    <tr>\n",
       "      <th>uid</th>\n",
       "      <th></th>\n",
       "      <th></th>\n",
       "    </tr>\n",
       "  </thead>\n",
       "  <tbody>\n",
       "    <tr>\n",
       "      <th>1</th>\n",
       "      <td>272</td>\n",
       "      <td>3.610294</td>\n",
       "    </tr>\n",
       "    <tr>\n",
       "      <th>2</th>\n",
       "      <td>62</td>\n",
       "      <td>3.709677</td>\n",
       "    </tr>\n",
       "  </tbody>\n",
       "</table>\n",
       "</div>"
      ],
      "text/plain": [
       "    rating          \n",
       "      size      mean\n",
       "uid                 \n",
       "1      272  3.610294\n",
       "2       62  3.709677"
      ]
     },
     "execution_count": 32,
     "metadata": {},
     "output_type": "execute_result"
    }
   ],
   "source": [
    "# 사용자별 평가 회수, 평균\n",
    "user_state = movie_lens.groupby('uid').agg( { 'rating':[np.size, np.mean]} )\n",
    "user_state.head(2)"
   ]
  },
  {
   "cell_type": "code",
   "execution_count": 33,
   "metadata": {},
   "outputs": [
    {
     "data": {
      "text/plain": [
       "(943, 2)"
      ]
     },
     "execution_count": 33,
     "metadata": {},
     "output_type": "execute_result"
    }
   ],
   "source": [
    "user_state.shape"
   ]
  },
  {
   "cell_type": "code",
   "execution_count": 34,
   "metadata": {},
   "outputs": [
    {
     "data": {
      "text/html": [
       "<div>\n",
       "<style scoped>\n",
       "    .dataframe tbody tr th:only-of-type {\n",
       "        vertical-align: middle;\n",
       "    }\n",
       "\n",
       "    .dataframe tbody tr th {\n",
       "        vertical-align: top;\n",
       "    }\n",
       "\n",
       "    .dataframe thead tr th {\n",
       "        text-align: left;\n",
       "    }\n",
       "</style>\n",
       "<table border=\"1\" class=\"dataframe\">\n",
       "  <thead>\n",
       "    <tr>\n",
       "      <th></th>\n",
       "      <th colspan=\"2\" halign=\"left\">rating</th>\n",
       "    </tr>\n",
       "    <tr>\n",
       "      <th></th>\n",
       "      <th>size</th>\n",
       "      <th>mean</th>\n",
       "    </tr>\n",
       "  </thead>\n",
       "  <tbody>\n",
       "    <tr>\n",
       "      <th>count</th>\n",
       "      <td>943.000000</td>\n",
       "      <td>943.000000</td>\n",
       "    </tr>\n",
       "    <tr>\n",
       "      <th>mean</th>\n",
       "      <td>106.044539</td>\n",
       "      <td>3.588191</td>\n",
       "    </tr>\n",
       "    <tr>\n",
       "      <th>std</th>\n",
       "      <td>100.931743</td>\n",
       "      <td>0.445233</td>\n",
       "    </tr>\n",
       "    <tr>\n",
       "      <th>min</th>\n",
       "      <td>20.000000</td>\n",
       "      <td>1.491954</td>\n",
       "    </tr>\n",
       "    <tr>\n",
       "      <th>25%</th>\n",
       "      <td>33.000000</td>\n",
       "      <td>3.323054</td>\n",
       "    </tr>\n",
       "    <tr>\n",
       "      <th>50%</th>\n",
       "      <td>65.000000</td>\n",
       "      <td>3.620690</td>\n",
       "    </tr>\n",
       "    <tr>\n",
       "      <th>75%</th>\n",
       "      <td>148.000000</td>\n",
       "      <td>3.869565</td>\n",
       "    </tr>\n",
       "    <tr>\n",
       "      <th>max</th>\n",
       "      <td>737.000000</td>\n",
       "      <td>4.869565</td>\n",
       "    </tr>\n",
       "  </tbody>\n",
       "</table>\n",
       "</div>"
      ],
      "text/plain": [
       "           rating            \n",
       "             size        mean\n",
       "count  943.000000  943.000000\n",
       "mean   106.044539    3.588191\n",
       "std    100.931743    0.445233\n",
       "min     20.000000    1.491954\n",
       "25%     33.000000    3.323054\n",
       "50%     65.000000    3.620690\n",
       "75%    148.000000    3.869565\n",
       "max    737.000000    4.869565"
      ]
     },
     "execution_count": 34,
     "metadata": {},
     "output_type": "execute_result"
    }
   ],
   "source": [
    "user_state.describe()\n",
    "# 최저값:1.49, 최대:4.87, 25~75% 지점 : 3점대로 몰렸잇다\n",
    "# 평균 ; 3.58 => 어떤 영화든지 일반적으로 3점이상은 받는다\n",
    "# 3점 이하는 영화 자체에 문제가 있어 보인다\n",
    "# 최고, 최저는 편중되어 있다"
   ]
  },
  {
   "cell_type": "markdown",
   "metadata": {},
   "source": [
    "### 5. 예측모델구축(머신러닝기반)\n",
    "\n",
    "- 알고리즘 => 인수분해 머신기능을 제공하는 FastFM이라는 모듈 사용\n",
    "- FastFM\n",
    "    - C++로 만들어진 libFM이라는 알고리즘\n",
    "    - libFM을 python으로 구성한것이 fastFM\n",
    "    - 기능\n",
    "        - 행렬 인수 분해라는 기능을 일반화하여서 제공 -> 차원축소기법\n",
    "        - 범주형 변수를 파생변수로 변환하여 범주간의 상호 작용성을 계산\n",
    "        - 특징 간 영향을 주고 받은 상호 작용 개념을 계산"
   ]
  },
  {
   "cell_type": "markdown",
   "metadata": {},
   "source": [
    "- fastFM 제공 알고리즘\n",
    "    - ALS : 교대 최소 제곱법\n",
    "        - 장점: 예측시간빠름, SGD비해 하이퍼파라미터가 작다\n",
    "        - 단점: 규제처리가 필요\n",
    "    - SGD : 확률적 경사 하강법\n",
    "        - 장점: 예측시간빠름, 빅데이터를 빠르게 처리학습할수 있다\n",
    "        - 단점: 하이퍼파라미터가 많다, 규제처리가 필요\n",
    "    - MCMC: 마르코프 연쇄 몬테카를로\n",
    "        - 장점: 하이퍼파라미터가 작다, 자동규제\n",
    "        - 단점: 학습시간이 느리다"
   ]
  },
  {
   "cell_type": "code",
   "execution_count": 35,
   "metadata": {},
   "outputs": [
    {
     "ename": "SyntaxError",
     "evalue": "invalid syntax (<ipython-input-35-3fb33c78d949>, line 5)",
     "output_type": "error",
     "traceback": [
      "\u001b[0;36m  File \u001b[0;32m\"<ipython-input-35-3fb33c78d949>\"\u001b[0;36m, line \u001b[0;32m5\u001b[0m\n\u001b[0;31m    ubuntu:$ sudo su\u001b[0m\n\u001b[0m           ^\u001b[0m\n\u001b[0;31mSyntaxError\u001b[0m\u001b[0;31m:\u001b[0m invalid syntax\n"
     ]
    }
   ],
   "source": [
    "# 아마존 EC2 서버에 접속하였다\n",
    "# febric3를 이용하여 이하 과정을 자동화 할수 있다\n",
    "\n",
    "# 리눅스상에서 루트 권한 획득\n",
    "ubuntu:$ sudo su\n",
    "\n",
    "# 리눅스의 현재 설치된 패키지등을 최신으로 업그레이드\n",
    "root:$ apt-get update && apt-get -y upgrade\n",
    "    \n",
    "# 파이썬 확인\n",
    "$ python -V\n",
    "or \n",
    "$ python3 -V\n",
    "\n",
    "# 패키지 설치 (파이썬이 설치 되어 있으면 파이썬 부분은 제외)\n",
    "$ apt-get -y install python3-dev python3-pip git nano wget unzip libopenblas-dev\n",
    "# 파이썬이 있으면 이하만 설치\n",
    "$ apt-get -y install python3-pip git nano wget unzip libopenblas-dev\n",
    "\n",
    "# fastFM 소스 다운로드\n",
    "$ git clone --recursive https://github.com/ibayer/fastFM.git\n",
    "$ cd fastFM  \n",
    "\n",
    "# 컴파일을 수행하기 전에 python 모듈 설치\n",
    "# 내용 확인\n",
    "$ cat requirements.txt\n",
    "$ pip3 install -r ./requirements.txt\n",
    "\n",
    "# 컴파일 -> 마지막 부분에 error가 보여도 무시\n",
    "$ PYTHON=python3 make\n",
    "\n",
    "# fastFM 설치 \n",
    "$ pip3 install .\n",
    "\n",
    "# 확인\n",
    "$ python3\n",
    ">>> from fastFM import als\n",
    ">>> exit()\n",
    "\n",
    "# 개발에 필요한 패키지 설치\n",
    "$ pip3 install pandas matplotlib jupyter\n",
    "\n",
    "# (옵션) 삭제\n",
    "$ rm -r -f dev\n",
    "\n",
    "# root 계정 오프\n",
    "$ exit\n",
    "\n",
    "# 작업폴더 생성\n",
    "ubuntu$ cd ..\n",
    "$ mkdir dev && cd dev\n",
    "\n",
    "# 주피터 가동\n",
    "$ jupyter notebook --ip=0.0.0.0 --port=8888 --allow-root --no-browser\n",
    "$ jupyter notebook --ip=0.0.0.0 --allow-root --no-browser\n",
    "\n",
    "http://15.164.218.167:8888/?token=51bfb3e5df36cba99000fbc2a3d6e353f420e283792053d9\n",
    "http://15.164.218.167:8888/?token=f2fd41ebd6fab0b20bdbd9e40266fdd91c87ba6cb6cdfd18\n",
    "\n",
    "        \n",
    "\n",
    "\n"
   ]
  },
  {
   "cell_type": "code",
   "execution_count": null,
   "metadata": {},
   "outputs": [],
   "source": [
    "# 백그라운드에서 주피터 가동\n",
    "$ nohup jupyter-notebook --ip=0.0.0.0 --allow-root --no-browser --NotebookApp.token='' 1>/dev/null 2>&1 &\n",
    "\n",
    "# 만약 토큰이 궁금하면\n",
    "$ ubuntu@ip-172-31-43-149:~/dev$ jupyter-notebook list\n",
    "Currently running servers:\n",
    "http://0.0.0.0:8888/?token=5367a490fd597ea07a79a704c4392edd52de7d13d5e914e0 :: /home/ubuntu/dev\n",
    "\n",
    "# 터미널 닫아도됨\n",
    "\n",
    "# 향후 백그라운드에서 주피터 죽이기\n",
    "$ ps -e\n",
    "---\n",
    " 7127 pts/0    00:00:00 jupyter-noteboo\n",
    "---\n",
    "# 프로세스 목록에서 jupyter-notebook를 찾아서\n",
    "$ kill -9 7127 "
   ]
  },
  {
   "cell_type": "markdown",
   "metadata": {},
   "source": [
    "### 가상 데이터를 이용하여 기능 확인"
   ]
  },
  {
   "cell_type": "code",
   "execution_count": 36,
   "metadata": {},
   "outputs": [],
   "source": [
    "from sklearn.feature_extraction import DictVectorizer\n",
    "import numpy as np"
   ]
  },
  {
   "cell_type": "code",
   "execution_count": 37,
   "metadata": {},
   "outputs": [],
   "source": [
    "# DictVectorizer : 문자열만 백터화 처리\n",
    "v = DictVectorizer()"
   ]
  },
  {
   "cell_type": "code",
   "execution_count": 38,
   "metadata": {},
   "outputs": [],
   "source": [
    "# 더미 데이터\n",
    "# 사용자 ID, 사용자가 평가한 영화 ID, 사용자의 나이\n",
    "# 데이터가 작아서 편차가 크게 나온다 <= 더미 데이터 조정\n",
    "train = [\n",
    "    {'uid':'1', 'mid':'5',  'age':19},\n",
    "    {'uid':'2', 'mid':'43', 'age':33},\n",
    "    {'uid':'3', 'mid':'20', 'age':55},\n",
    "    {'uid':'4', 'mid':'10', 'age':20},\n",
    "]"
   ]
  },
  {
   "cell_type": "code",
   "execution_count": 39,
   "metadata": {},
   "outputs": [
    {
     "data": {
      "text/plain": [
       "array([[19.,  0.,  0.,  0.,  1.,  1.,  0.,  0.,  0.],\n",
       "       [33.,  0.,  0.,  1.,  0.,  0.,  1.,  0.,  0.],\n",
       "       [55.,  0.,  1.,  0.,  0.,  0.,  0.,  1.,  0.],\n",
       "       [20.,  1.,  0.,  0.,  0.,  0.,  0.,  0.,  1.]])"
      ]
     },
     "execution_count": 39,
     "metadata": {},
     "output_type": "execute_result"
    }
   ],
   "source": [
    "X = v.fit_transform( train )\n",
    "# 수치는 그대로 배치, 문자열이 들어간 데이터는 백터화로 처리\n",
    "# 문자열은 범주형으로 보고 해당 케이스별로 배치하여 0 혹은 1로 표시\n",
    "X.toarray()"
   ]
  },
  {
   "cell_type": "code",
   "execution_count": 40,
   "metadata": {},
   "outputs": [],
   "source": [
    "# ALS를 이용하여서 처리\n",
    "from fastFM import als\n",
    "from sklearn.model_selection import learning_curve"
   ]
  },
  {
   "cell_type": "code",
   "execution_count": 41,
   "metadata": {},
   "outputs": [],
   "source": [
    "# 더미데이터중 20살짜리 유저 1번은 영화 5번에 평점 5.0을 부여했다\n",
    "# 유저별로 부여한 평점\n",
    "y = np.array( [5.0, 1.0, 2.0, 4.0] )"
   ]
  },
  {
   "cell_type": "code",
   "execution_count": 42,
   "metadata": {},
   "outputs": [
    {
     "data": {
      "text/plain": [
       "FMRegression(init_stdev=0.1, l2_reg=0, l2_reg_V=0.5, l2_reg_w=0.1, n_iter=1000,\n",
       "             random_state=123, rank=2)"
      ]
     },
     "execution_count": 42,
     "metadata": {},
     "output_type": "execute_result"
    }
   ],
   "source": [
    "# ALS을 이용하여 fastFM의 회귀모델을 초기화후 학습을 진행\n",
    "# 하이퍼파리미터는 임시값 부여\n",
    "fm = als.FMRegression( n_iter=1000, init_stdev=0.1, \n",
    "                       rank=2, l2_reg_w=0.1, l2_reg_V=0.5 )\n",
    "fm.fit( X, y )"
   ]
  },
  {
   "cell_type": "code",
   "execution_count": 43,
   "metadata": {},
   "outputs": [
    {
     "data": {
      "text/plain": [
       "array([3.60775939])"
      ]
     },
     "execution_count": 43,
     "metadata": {},
     "output_type": "execute_result"
    }
   ],
   "source": [
    "# 예측\n",
    "# 새로운 유저가 신규 가입을 하였다. uid가 5번이 되었다\n",
    "# 나이가 24인 유저 5번 영화 10번에 대해 내릴 평점을 예측해라\n",
    "# {'uid':'5', 'mid':'10', 'age':24},\n",
    "fm.predict( v.transform( {'uid':'5', 'mid':'10', 'age':24} ) )"
   ]
  },
  {
   "cell_type": "markdown",
   "metadata": {},
   "source": [
    "- 제공되는 데이터는 ua.base, ua.test는 훈련용과 테스트용이 구분되어 있다\n",
    "- 이를 읽어서 자료구조를 만드는 형태로 처리하는 함수 구현"
   ]
  },
  {
   "cell_type": "code",
   "execution_count": 44,
   "metadata": {},
   "outputs": [],
   "source": [
    "def loadData( fileName, path='./table/ml-100k/' ):\n",
    "    data = list() # 학습용 데이터 형태\n",
    "    y    = list() # 답안(평점)\n",
    "    # 데이터 추출및 구조 작업\n",
    "    with open( path + fileName ) as f: # 파일 오픈\n",
    "        # 한줄씩 읽어서 처리\n",
    "        for line in f:\n",
    "            # 데이터 한줄을 구분해서 추출\n",
    "            uid, mid, rating, ts = line.split('\\t')            \n",
    "            # 유저아이디와 영화아이디 추가\n",
    "            data.append( {'uid':str(uid), 'mid':str(mid) } )\n",
    "            # 점수 추가\n",
    "            y.append( float( rating ) )\n",
    "    \n",
    "    return data, np.array(y)\n",
    "\n",
    "# 훈련용 데이터 획득\n",
    "dev_data, y_dev = loadData( 'ua.base' )"
   ]
  },
  {
   "cell_type": "code",
   "execution_count": 45,
   "metadata": {},
   "outputs": [
    {
     "data": {
      "text/plain": [
       "(90570, (90570,), array([5., 3., 4., 3.]))"
      ]
     },
     "execution_count": 45,
     "metadata": {},
     "output_type": "execute_result"
    }
   ],
   "source": [
    "len(dev_data), y_dev.shape, y_dev[:4]"
   ]
  },
  {
   "cell_type": "code",
   "execution_count": 46,
   "metadata": {},
   "outputs": [
    {
     "data": {
      "text/plain": [
       "(9430, (9430,), array([4., 4., 4., 3.]))"
      ]
     },
     "execution_count": 46,
     "metadata": {},
     "output_type": "execute_result"
    }
   ],
   "source": [
    "# 테스트용 데이터 획득\n",
    "test_data, y_test = loadData( 'ua.test' )\n",
    "len(test_data), y_test.shape, y_test[:4]"
   ]
  },
  {
   "cell_type": "code",
   "execution_count": 47,
   "metadata": {},
   "outputs": [],
   "source": [
    "# 해당 함수 확장 loadDataEx\n",
    "# 평가에 참가한 유저들의 ID만 모은 데이터셋, 영화의 ID만 모은 데이터셋\n",
    "def loadDataEx( fileName, path='./table/ml-100k/' ):\n",
    "    data = list()\n",
    "    y    = list()\n",
    "    # 중복데이터를 제거하는 자료구조 생성\n",
    "    users= set()\n",
    "    movies=set()\n",
    "    with open( path + fileName ) as f:\n",
    "        for line in f:            \n",
    "            uid, mid, rating, ts = line.split('\\t')                        \n",
    "            data.append( {'uid':str(uid), 'mid':str(mid) } )            \n",
    "            y.append( float( rating ) )    \n",
    "            # 평가 데이터에서 uid, mid를 추가\n",
    "            users.add( uid )\n",
    "            movies.add( mid )\n",
    "    return data, np.array(y), users, movies"
   ]
  },
  {
   "cell_type": "code",
   "execution_count": 48,
   "metadata": {},
   "outputs": [],
   "source": [
    "# 훈련용 데이터 획득\n",
    "dev_data, y_dev, dev_users, dev_movies     = loadDataEx( 'ua.base' )\n",
    "# 테스트용 데이터 획득\n",
    "test_data, y_test, test_users, test_movies = loadDataEx( 'ua.test' )"
   ]
  },
  {
   "cell_type": "code",
   "execution_count": 49,
   "metadata": {},
   "outputs": [
    {
     "data": {
      "text/plain": [
       "(9430, 9430)"
      ]
     },
     "execution_count": 49,
     "metadata": {},
     "output_type": "execute_result"
    }
   ],
   "source": [
    "len(test_data), len(y_test)"
   ]
  },
  {
   "cell_type": "code",
   "execution_count": 50,
   "metadata": {},
   "outputs": [
    {
     "data": {
      "text/plain": [
       "(943, 1680, 943, 1129)"
      ]
     },
     "execution_count": 50,
     "metadata": {},
     "output_type": "execute_result"
    }
   ],
   "source": [
    "# 훈련용및 테스트용에 참가한 유저수는 동수\n",
    "# 영화수는 훈련용이 테스용보다 많다\n",
    "len(dev_users), len(dev_movies), len(test_users), len(test_movies)"
   ]
  },
  {
   "cell_type": "markdown",
   "metadata": {},
   "source": [
    "- 데이터의 백터화 처리\n",
    "- 사전에 데이터들을 수치라도 다 문자로 처리했다.\n",
    "- 평점만 빼고, uid, mid값은 현재 문자열이다"
   ]
  },
  {
   "cell_type": "code",
   "execution_count": 51,
   "metadata": {},
   "outputs": [
    {
     "data": {
      "text/plain": [
       "[{'uid': '1', 'mid': '1'}]"
      ]
     },
     "execution_count": 51,
     "metadata": {},
     "output_type": "execute_result"
    }
   ],
   "source": [
    "# 확인\n",
    "dev_data[:1]"
   ]
  },
  {
   "cell_type": "code",
   "execution_count": 52,
   "metadata": {},
   "outputs": [],
   "source": [
    "v = DictVectorizer()"
   ]
  },
  {
   "cell_type": "code",
   "execution_count": 53,
   "metadata": {},
   "outputs": [
    {
     "data": {
      "text/plain": [
       "((90570, 2623), scipy.sparse.csr.csr_matrix)"
      ]
     },
     "execution_count": 53,
     "metadata": {},
     "output_type": "execute_result"
    }
   ],
   "source": [
    "# 훈련용 데이터의 백터화\n",
    "X_dev = v.fit_transform( dev_data )\n",
    "X_dev.shape, type(X_dev)"
   ]
  },
  {
   "cell_type": "code",
   "execution_count": 54,
   "metadata": {},
   "outputs": [
    {
     "data": {
      "text/plain": [
       "(9430, 2623)"
      ]
     },
     "execution_count": 54,
     "metadata": {},
     "output_type": "execute_result"
    }
   ],
   "source": [
    "# 테스트 데이터의 백터화\n",
    "X_test = v.transform( test_data )\n",
    "X_test.shape"
   ]
  },
  {
   "cell_type": "code",
   "execution_count": 55,
   "metadata": {},
   "outputs": [
    {
     "data": {
      "text/plain": [
       "(1.1260664426539722, 1.120180145761465)"
      ]
     },
     "execution_count": 55,
     "metadata": {},
     "output_type": "execute_result"
    }
   ],
   "source": [
    "# 표준편차 확인 -> 회귀에서 평가지수 => 평균제곱근오차를 계산할대 평가 잣대\n",
    "np.std(y_dev), np.std(y_test)"
   ]
  },
  {
   "cell_type": "code",
   "execution_count": 56,
   "metadata": {},
   "outputs": [],
   "source": [
    "from sklearn.model_selection import train_test_split\n",
    "\n",
    "# 9:1 비율(임의 설정)\n",
    "# random_state => 항상 동일하게 데이터가 섞이게 하기 위해서\n",
    "X_train, X_dev_test, y_train, y_dev_test = train_test_split( X_dev, y_dev, \n",
    "                                                test_size=0.1, random_state=42 )"
   ]
  },
  {
   "cell_type": "code",
   "execution_count": 57,
   "metadata": {},
   "outputs": [
    {
     "data": {
      "text/plain": [
       "array([[0., 0., 0., ..., 0., 0., 0.]])"
      ]
     },
     "execution_count": 57,
     "metadata": {},
     "output_type": "execute_result"
    }
   ],
   "source": [
    "X_dev_test.toarray()[:1]"
   ]
  },
  {
   "cell_type": "code",
   "execution_count": 58,
   "metadata": {},
   "outputs": [
    {
     "data": {
      "text/plain": [
       "((81513, 2623), (9057, 2623))"
      ]
     },
     "execution_count": 58,
     "metadata": {},
     "output_type": "execute_result"
    }
   ],
   "source": [
    "X_train.shape, X_dev_test.shape"
   ]
  },
  {
   "cell_type": "markdown",
   "metadata": {},
   "source": [
    "- 데이터는 모두 준비되었다\n",
    "- 회귀 모델에 학습및 예측을 수행하기위해 데이터의 형태를 알고리즘에 맞춰서 구성하였다\n",
    "\n",
    "- 알고리즘 선택\n",
    "    - mcmc\n",
    "        - 학습및 예측 수행\n",
    "        - 시각화 를 통해서 수렴해하는 과정 확인        \n",
    "        - 테스트데이터를 이용한 성능 측정\n",
    "            - 평균제곱근오차 및 손실함수를 이용하여 평가\n",
    "        - 하이퍼파리미터 활용(고정)하여 평점의 정규화 처리, 성능 평가\n",
    "        - 기타 정보 추가"
   ]
  },
  {
   "cell_type": "code",
   "execution_count": 59,
   "metadata": {},
   "outputs": [],
   "source": [
    "# 평균제곱근오차 함수\n",
    "from sklearn.metrics import mean_squared_error\n",
    "from fastFM import mcmc"
   ]
  },
  {
   "cell_type": "code",
   "execution_count": 60,
   "metadata": {},
   "outputs": [],
   "source": [
    "# 0. 실험 수치 설정\n",
    "# mcmc의 하이퍼파라미터 \n",
    "rank = 4\n",
    "seed = 123\n",
    "# 실험 임계값 변수 지정\n",
    "n_iter = 300  # 반복 회수로 사용 (사용할때 확인)\n",
    "step_size =1  # 훈련시 사용되는 값  (사용할때 확인)"
   ]
  },
  {
   "cell_type": "code",
   "execution_count": 61,
   "metadata": {},
   "outputs": [],
   "source": [
    "# 1. 알고리즘 생성\n",
    "# n_iter : 샘플수 (als에서는 학습 세트의 반복수, sgd에서는 단계)\n",
    "# rank   : 인수분해의 순위\n",
    "# random_state : 난수 고정(항상 동일한 결과치를 얻기 위해 사용)\n",
    "fm = mcmc.FMRegression( n_iter=0, rank=rank, random_state=seed  )"
   ]
  },
  {
   "cell_type": "code",
   "execution_count": 62,
   "metadata": {},
   "outputs": [],
   "source": [
    "# 2. 데이터 준비 (이미 위에서 구현)"
   ]
  },
  {
   "cell_type": "code",
   "execution_count": 63,
   "metadata": {},
   "outputs": [
    {
     "data": {
      "text/plain": [
       "array([0., 0., 0., ..., 0., 0., 0.])"
      ]
     },
     "execution_count": 63,
     "metadata": {},
     "output_type": "execute_result"
    }
   ],
   "source": [
    "# 3. 훈련 및 예측\n",
    "fm.fit_predict(X_train, y_train, X_dev_test )"
   ]
  },
  {
   "cell_type": "code",
   "execution_count": 64,
   "metadata": {},
   "outputs": [],
   "source": [
    "# 4. 손실함수를 구해서 어떤 값으로 수렴하는지를 확인\n",
    "# 손실함수는 정답에 가까운 오류를 수치로 표현\n",
    "# 오답에 가까울수록 값이 크다. 정답에 가까울수록 값이 작아진다\n",
    "# 회귀모델에서 성능평가를 처리하는 지표: (평균제곱근오차를 통한 손실함수, 결정계수)\n",
    "# 구하는 방법은 평균제곱근오차함수값을 제곱근 처리하면 나온다\n",
    "# 평균제곱근오차함수의 인자값 (예측값, 예측에 사용한 데이터의 답)"
   ]
  },
  {
   "cell_type": "code",
   "execution_count": 65,
   "metadata": {},
   "outputs": [
    {
     "data": {
      "text/plain": [
       "(299, 11)"
      ]
     },
     "execution_count": 65,
     "metadata": {},
     "output_type": "execute_result"
    }
   ],
   "source": [
    "# fm.hyper_param_을 담기 위해서 자료 구조를 준비\n",
    "# 0 행렬\n",
    "# 배열의 원소들은 타입이 모두 동일하다? OK, \n",
    "# 데이터 프레임의 원소들은 컬럼끼리만 동일하고, 컬럼대 컬럼으로 보면 다를수 있다\n",
    "hyper_param = np.zeros( (n_iter-1 , rank*2 + 3), dtype=np.float64  )\n",
    "hyper_param.shape"
   ]
  },
  {
   "cell_type": "code",
   "execution_count": 66,
   "metadata": {},
   "outputs": [
    {
     "name": "stdout",
     "output_type": "stream",
     "text": [
      "[ 7.29936807e-02  1.01534507e+02  1.09545845e+02  1.00682624e+02\n",
      "  9.07375308e+01  1.01817181e+02  1.43406954e-03 -1.17820912e-03\n",
      " -2.64130136e-04 -1.52355401e-03 -1.94369678e-03] <class 'numpy.ndarray'>\n",
      "[ 8.36490856e-01  1.00123392e+02  1.05959358e+02  9.41424772e+01\n",
      "  8.48872557e+01  9.63430325e+01 -1.97714841e-03 -1.57690950e-03\n",
      "  6.35869726e-04 -3.12144587e-03 -2.98777035e-03] <class 'numpy.ndarray'>\n",
      "[ 1.02700665e+00  3.23757929e+01  1.01870475e+02  9.20991603e+01\n",
      "  8.16298813e+01  9.22876603e+01 -7.80849132e-03 -6.54788806e-03\n",
      "  1.30186941e-03 -1.33292961e-03 -3.37801855e-03] <class 'numpy.ndarray'>\n",
      "[ 1.11296461e+00  1.24257802e+01  1.00969880e+02  8.78492782e+01\n",
      "  8.14037474e+01  8.35890933e+01 -3.60037498e-02 -4.29896035e-03\n",
      "  5.23633472e-03  2.54055699e-03 -3.26100245e-03] <class 'numpy.ndarray'>\n",
      "[ 1.15833652e+00  6.99396391e+00  9.90697250e+01  8.56177836e+01\n",
      "  8.08977017e+01  7.68142612e+01 -5.06494647e-02  9.64403894e-04\n",
      "  7.33988909e-03  6.68585270e-04  6.23401524e-04] <class 'numpy.ndarray'>\n",
      "[ 1.17739514e+00  5.06085027e+00  9.90995026e+01  8.74856741e+01\n",
      "  7.36044323e+01  7.73558549e+01 -7.39532108e-02  1.61133358e-03\n",
      "  8.94782586e-03  3.89742969e-03  2.43497681e-03] <class 'numpy.ndarray'>\n",
      "[ 1.17828984e+00  4.37248296e+00  9.76007549e+01  8.57505712e+01\n",
      "  7.13411105e+01  7.26796644e+01 -1.07619256e-01  2.01683417e-03\n",
      "  8.09836720e-03  3.58386936e-03  3.23320485e-03] <class 'numpy.ndarray'>\n",
      "[ 1.18609944e+00  4.04277534e+00  9.90905447e+01  8.12515608e+01\n",
      "  6.76887043e+01  7.17928031e+01 -1.19449808e-01 -9.07817220e-04\n",
      "  5.40546909e-03  3.05576264e-03  2.90861099e-03] <class 'numpy.ndarray'>\n",
      "[ 1.16276263e+00  4.29115658e+00  9.18015326e+01  7.60181963e+01\n",
      "  6.04036715e+01  7.33724192e+01 -1.20022252e-01 -1.48021545e-03\n",
      " -4.99391642e-04 -9.66665859e-04  4.12940573e-03] <class 'numpy.ndarray'>\n",
      "[ 1.17474193e+00  4.09064072e+00  9.30210890e+01  7.23280362e+01\n",
      "  5.91281207e+01  7.73108138e+01 -1.11855525e-01 -2.48676324e-03\n",
      " -2.09199773e-03 -9.04154527e-03  6.83036329e-03] <class 'numpy.ndarray'>\n",
      "[ 1.17351329e+00  3.90373653e+00  9.89015706e+01  7.32816197e+01\n",
      "  5.95804318e+01  7.75600875e+01 -1.05528558e-01 -6.35067049e-03\n",
      "  6.58259318e-05 -6.72327495e-03  1.95025035e-03] <class 'numpy.ndarray'>\n",
      "[ 1.16701279e+00  4.21134626e+00  9.43533807e+01  7.31139150e+01\n",
      "  5.70322241e+01  6.99153708e+01 -1.09748544e-01 -5.17316607e-03\n",
      " -1.07811211e-02 -5.85963165e-03  1.12877000e-03] <class 'numpy.ndarray'>\n",
      "[ 1.17788280e+00  4.06711454e+00  8.96488149e+01  6.91540909e+01\n",
      "  5.59794284e+01  6.65682799e+01 -9.68841701e-02 -1.14661020e-02\n",
      " -3.43835084e-03 -1.35353890e-02  5.02355990e-03] <class 'numpy.ndarray'>\n",
      "[ 1.16328388e+00  3.84211388e+00  8.31246579e+01  6.86426251e+01\n",
      "  5.36665702e+01  6.31546581e+01 -1.14692370e-01 -1.43439669e-02\n",
      " -1.92154978e-03 -6.01231574e-03  3.74754528e-03] <class 'numpy.ndarray'>\n",
      "[ 1.16574266e+00  4.18955555e+00  7.31509338e+01  6.64501154e+01\n",
      "  5.20002562e+01  6.32494150e+01 -1.20533133e-01 -1.73543886e-02\n",
      " -9.14108344e-03 -8.34682227e-03  5.24385628e-03] <class 'numpy.ndarray'>\n",
      "[ 1.16562655e+00  4.20639752e+00  6.76116771e+01  6.94164288e+01\n",
      "  5.12613041e+01  6.25838139e+01 -1.21366509e-01 -2.26893550e-02\n",
      " -1.12635249e-02 -5.69857406e-03  4.83290119e-03] <class 'numpy.ndarray'>\n",
      "[ 1.16495579e+00  3.80918579e+00  6.41226019e+01  6.92530468e+01\n",
      "  4.88880028e+01  6.00079885e+01 -1.16283410e-01 -2.62951306e-02\n",
      " -1.06505243e-02  1.56829635e-03  5.27541762e-03] <class 'numpy.ndarray'>\n",
      "[ 1.17845826e+00  3.93001168e+00  6.13246522e+01  6.29761971e+01\n",
      "  4.94271817e+01  5.93516441e+01 -9.44660475e-02 -3.44334469e-02\n",
      " -1.10426362e-02 -6.02205584e-03  9.46788915e-03] <class 'numpy.ndarray'>\n",
      "[ 1.16912731e+00  4.07675375e+00  5.95882631e+01  6.23299667e+01\n",
      "  4.98420964e+01  5.40850203e+01 -1.11727981e-01 -3.58854563e-02\n",
      " -1.70019046e-02 -3.13026447e-03  6.15816123e-03] <class 'numpy.ndarray'>\n",
      "[ 1.17310756e+00  3.92368220e+00  5.93757238e+01  6.49173554e+01\n",
      "  4.72817831e+01  5.19897020e+01 -1.04619228e-01 -3.95144364e-02\n",
      " -9.40563185e-03 -6.49697661e-03  4.19852840e-03] <class 'numpy.ndarray'>\n",
      "[ 1.17475617e+00  4.19155388e+00  5.76492251e+01  6.51274180e+01\n",
      "  4.50971243e+01  5.07637376e+01 -1.01907685e-01 -3.90205032e-02\n",
      " -1.86630485e-02 -1.17255711e-02  7.89407319e-03] <class 'numpy.ndarray'>\n",
      "[ 1.16508679e+00  4.24271362e+00  5.84242449e+01  6.02698101e+01\n",
      "  4.52700840e+01  5.24432646e+01 -1.12145292e-01 -4.03963341e-02\n",
      " -2.56781894e-02 -1.15325228e-02  5.20249278e-03] <class 'numpy.ndarray'>\n",
      "[ 1.18842221e+00  3.89967483e+00  5.97592304e+01  5.48807793e+01\n",
      "  4.13784571e+01  5.33645729e+01 -1.10237931e-01 -4.42335772e-02\n",
      " -2.74158201e-02 -1.38172535e-02  9.75028269e-03] <class 'numpy.ndarray'>\n",
      "[ 1.18324614e+00  4.02518006e+00  5.73257343e+01  5.47552575e+01\n",
      "  3.74911741e+01  5.27802743e+01 -1.14774502e-01 -4.29371323e-02\n",
      " -3.27381807e-02 -1.46125810e-02  1.26529814e-02] <class 'numpy.ndarray'>\n",
      "[ 1.18746845e+00  4.03481446e+00  5.87272080e+01  5.57685697e+01\n",
      "  3.62645902e+01  5.29116772e+01 -1.01224778e-01 -4.61600466e-02\n",
      " -3.39588336e-02 -9.77193242e-03  9.62096158e-03] <class 'numpy.ndarray'>\n",
      "[ 1.18308610e+00  4.24743071e+00  6.11245020e+01  5.59493753e+01\n",
      "  3.54067864e+01  5.12719457e+01 -8.77473114e-02 -4.30085069e-02\n",
      " -3.02150446e-02 -1.59926730e-02  1.19809068e-02] <class 'numpy.ndarray'>\n",
      "[ 1.17627245e+00  4.24602585e+00  6.10476890e+01  5.57865004e+01\n",
      "  3.28257623e+01  4.90809958e+01 -1.05958816e-01 -4.08303834e-02\n",
      " -2.31820392e-02 -1.27831221e-02  1.42330914e-02] <class 'numpy.ndarray'>\n",
      "[ 1.18089824e+00  4.09925227e+00  6.02890259e+01  5.30043537e+01\n",
      "  3.04891382e+01  4.45931083e+01 -9.37904795e-02 -4.64521986e-02\n",
      " -2.45639586e-02 -7.77679279e-03  1.52705238e-02] <class 'numpy.ndarray'>\n",
      "[ 1.18552244e+00  4.24503989e+00  6.15481223e+01  5.09557318e+01\n",
      "  2.72340466e+01  4.17490826e+01 -1.16244160e-01 -4.52406298e-02\n",
      " -2.33564116e-02 -8.89313618e-03  1.49902843e-02] <class 'numpy.ndarray'>\n",
      "[ 1.17992785e+00  4.10940905e+00  6.23985713e+01  5.25019850e+01\n",
      "  2.30018348e+01  4.20068016e+01 -1.03270779e-01 -4.32892717e-02\n",
      " -2.22300389e-02 -1.35800616e-02  1.71496119e-02] <class 'numpy.ndarray'>\n",
      "[ 1.18867148e+00  4.14027970e+00  5.83965730e+01  4.89028713e+01\n",
      "  1.87313661e+01  4.06064704e+01 -1.10653240e-01 -4.13054827e-02\n",
      " -2.36285138e-02 -1.68978903e-02  1.51495613e-02] <class 'numpy.ndarray'>\n",
      "[ 1.20784003e+00  4.27644676e+00  6.26637995e+01  5.10521248e+01\n",
      "  1.25284953e+01  3.96869861e+01 -9.13765855e-02 -3.87618770e-02\n",
      " -2.49355541e-02 -2.71386103e-02  1.21801820e-02] <class 'numpy.ndarray'>\n",
      "[ 1.23873325e+00  4.44990365e+00  6.13203195e+01  4.81171614e+01\n",
      "  8.26193657e+00  3.78724560e+01 -1.14329349e-01 -3.89100321e-02\n",
      " -2.37158217e-02 -3.07269784e-02  9.64640006e-03] <class 'numpy.ndarray'>\n",
      "[ 1.25664131e+00  4.17765778e+00  5.92687284e+01  4.82361422e+01\n",
      "  5.96037290e+00  3.66985349e+01 -9.22060360e-02 -4.50317555e-02\n",
      " -2.20693821e-02 -1.58942712e-02  7.94081883e-03] <class 'numpy.ndarray'>\n",
      "[ 1.26259225e+00  4.29719197e+00  5.98861888e+01  4.62613216e+01\n",
      "  5.09335751e+00  3.37487960e+01 -1.03656425e-01 -4.18908478e-02\n",
      " -1.67933714e-02 -1.35514330e-02  8.98831217e-03] <class 'numpy.ndarray'>\n",
      "[ 1.27413232e+00  4.32571103e+00  5.94743424e+01  4.56721202e+01\n",
      "  4.50157952e+00  3.14561488e+01 -8.47270296e-02 -3.53612814e-02\n",
      " -1.41955619e-02 -3.85684051e-02  1.45572435e-02] <class 'numpy.ndarray'>\n",
      "[ 1.28467112e+00  4.17415288e+00  6.03716087e+01  4.73236972e+01\n",
      "  3.81155172e+00  3.21547147e+01 -8.98868574e-02 -3.47794050e-02\n",
      " -1.21445761e-02 -2.48305617e-02  1.67449740e-02] <class 'numpy.ndarray'>\n",
      "[ 1.28544414e+00  4.14278762e+00  6.02719040e+01  4.69244173e+01\n",
      "  3.54514961e+00  3.01921795e+01 -1.15086678e-01 -3.44872608e-02\n",
      " -1.34873495e-02 -4.05447447e-02  1.80454799e-02] <class 'numpy.ndarray'>\n",
      "[ 1.29471159e+00  4.05102142e+00  6.18558949e+01  4.47447124e+01\n",
      "  3.31106099e+00  2.97604774e+01 -1.22913797e-01 -3.89595343e-02\n",
      " -1.70826668e-02 -4.00534711e-02  1.75476166e-02] <class 'numpy.ndarray'>\n",
      "[ 1.26810403e+00  4.43920573e+00  5.81169145e+01  4.24815296e+01\n",
      "  3.12297683e+00  3.08295270e+01 -1.19865927e-01 -3.96530576e-02\n",
      " -2.49598471e-02 -6.72388195e-02  1.82673083e-02] <class 'numpy.ndarray'>\n",
      "[ 1.28007515e+00  4.28805530e+00  5.98805460e+01  4.10893553e+01\n",
      "  3.23835107e+00  3.24952353e+01 -1.11849797e-01 -4.07014266e-02\n",
      " -2.67627500e-02 -9.84953035e-02  2.29033418e-02] <class 'numpy.ndarray'>\n",
      "[ 1.27931407e+00  4.11264396e+00  6.42465235e+01  4.23221288e+01\n",
      "  3.22174596e+00  3.27145542e+01 -1.07755529e-01 -4.55544625e-02\n",
      " -2.38784937e-02 -7.75895377e-02  1.45012452e-02] <class 'numpy.ndarray'>\n",
      "[ 1.27251501e+00  4.44321943e+00  6.20646010e+01  4.28247708e+01\n",
      "  3.33743579e+00  2.93933457e+01 -1.11187179e-01 -4.39787310e-02\n",
      " -3.80792207e-02 -6.99467597e-02  1.33395406e-02] <class 'numpy.ndarray'>\n",
      "[ 1.28518280e+00  4.32448812e+00  5.99986961e+01  4.06392624e+01\n",
      "  3.36075554e+00  2.75527880e+01 -9.68721037e-02 -5.14617353e-02\n",
      " -2.80111452e-02 -9.01552134e-02  1.97822241e-02] <class 'numpy.ndarray'>\n",
      "[ 1.26928184e+00  4.07892839e+00  5.60956621e+01  4.07591714e+01\n",
      "  3.34689934e+00  2.61154261e+01 -1.14077966e-01 -5.48341290e-02\n",
      " -2.61729858e-02 -6.41529220e-02  1.60450119e-02] <class 'numpy.ndarray'>\n",
      "[ 1.27383031e+00  4.50375361e+00  4.99032366e+01  3.95921841e+01\n",
      "  3.17716276e+00  2.59160750e+01 -1.19079233e-01 -5.81691197e-02\n",
      " -3.51571446e-02 -8.51433955e-02  1.93738853e-02] <class 'numpy.ndarray'>\n",
      "[ 1.27387495e+00  4.54852596e+00  4.67150016e+01  4.16390823e+01\n",
      "  3.17471262e+00  2.50313117e+01 -1.20229049e-01 -6.41975292e-02\n",
      " -3.72872360e-02 -8.62067106e-02  1.86675008e-02] <class 'numpy.ndarray'>\n",
      "[ 1.27566619e+00  4.05772470e+00  4.31714940e+01  4.02219853e+01\n",
      "  2.98639504e+00  2.12437288e+01 -1.15263396e-01 -6.93891011e-02\n",
      " -3.70924373e-02 -6.98478853e-02  2.12116184e-02] <class 'numpy.ndarray'>\n",
      "[ 1.29327881e+00  4.25943173e+00  4.15650271e+01  3.64275043e+01\n",
      "  3.06811427e+00  1.93254772e+01 -9.44899464e-02 -7.92908472e-02\n",
      " -3.73335220e-02 -1.19025328e-01  3.00990789e-02] <class 'numpy.ndarray'>\n",
      "[ 1.28429617e+00  4.45032710e+00  4.04509280e+01  3.60004598e+01\n",
      "  3.28511544e+00  1.64626351e+01 -1.11035445e-01 -8.09559738e-02\n",
      " -4.59611202e-02 -1.10539439e-01  2.36615933e-02] <class 'numpy.ndarray'>\n",
      "[ 1.29343990e+00  4.31140357e+00  4.05202027e+01  3.77413845e+01\n",
      "  3.18699023e+00  1.43772743e+01 -1.03664527e-01 -8.50224828e-02\n",
      " -3.56318385e-02 -1.14827294e-01  2.23856763e-02] <class 'numpy.ndarray'>\n",
      "[ 1.30301595e+00  4.61293636e+00  3.97211892e+01  3.78226332e+01\n",
      "  3.22703901e+00  1.21800052e+01 -1.00705564e-01 -8.44102735e-02\n",
      " -4.83256249e-02 -1.40903181e-01  3.27653966e-02] <class 'numpy.ndarray'>\n",
      "[ 1.29897213e+00  4.76376043e+00  4.05685239e+01  3.49919169e+01\n",
      "  3.12927400e+00  1.07635152e+01 -1.08946295e-01 -8.53784597e-02\n",
      " -5.72997305e-02 -1.37787401e-01  2.68131177e-02] <class 'numpy.ndarray'>\n",
      "[ 1.32674161e+00  4.34993055e+00  4.14792796e+01  3.24302013e+01\n",
      "  3.06091038e+00  9.46738182e+00 -1.06438897e-01 -8.95791717e-02\n",
      " -5.88147092e-02 -1.36579595e-01  3.91360204e-02] <class 'numpy.ndarray'>\n",
      "[ 1.32339468e+00  4.47807954e+00  3.99641544e+01  3.27470383e+01\n",
      "  3.03373888e+00  8.55925370e+00 -1.11796697e-01 -8.81367737e-02\n",
      " -6.58557545e-02 -1.38834406e-01  3.37556812e-02] <class 'numpy.ndarray'>\n",
      "[ 1.33200710e+00  4.52903688e+00  4.08894736e+01  3.31567400e+01\n",
      "  3.06934807e+00  8.07175469e+00 -9.89229100e-02 -9.24268931e-02\n",
      " -6.70525040e-02 -1.13262476e-01  2.87142199e-02] <class 'numpy.ndarray'>\n",
      "[ 1.32733931e+00  4.75822661e+00  4.26601256e+01  3.32048077e+01\n",
      "  3.21709892e+00  7.40747924e+00 -8.25004206e-02 -8.84855408e-02\n",
      " -6.23527424e-02 -1.49505554e-01  3.76603899e-02] <class 'numpy.ndarray'>\n",
      "[ 1.32059920e+00  4.79281048e+00  4.28917149e+01  3.33187559e+01\n",
      "  3.16763027e+00  6.82858864e+00 -1.00894567e-01 -8.63913585e-02\n",
      " -5.30894210e-02 -1.28961472e-01  3.82792256e-02] <class 'numpy.ndarray'>\n",
      "[ 1.32439225e+00  4.68155291e+00  4.24853845e+01  3.15406946e+01\n",
      "  3.13959291e+00  6.29298035e+00 -8.90563904e-02 -9.42147926e-02\n",
      " -5.54545013e-02 -1.25709131e-01  3.29323741e-02] <class 'numpy.ndarray'>\n",
      "[ 1.32752091e+00  4.84062096e+00  4.37776610e+01  3.04733891e+01\n",
      "  3.14130161e+00  6.05014342e+00 -1.08482615e-01 -9.24291899e-02\n",
      " -5.41328101e-02 -1.49435174e-01  3.62762190e-02] <class 'numpy.ndarray'>\n",
      "[ 1.32204225e+00  4.68764160e+00  4.44796083e+01  3.16353977e+01\n",
      "  3.02689353e+00  6.14519150e+00 -9.71697168e-02 -8.95499623e-02\n",
      " -5.28169157e-02 -1.58226457e-01  3.71534172e-02] <class 'numpy.ndarray'>\n",
      "[ 1.32151497e+00  4.77234750e+00  4.19001587e+01  2.95990766e+01\n",
      "  3.21316283e+00  5.91290981e+00 -1.05340031e-01 -8.73041089e-02\n",
      " -5.49290612e-02 -1.59572741e-01  2.99241660e-02] <class 'numpy.ndarray'>\n",
      "[ 1.32419813e+00  4.92548979e+00  4.49682185e+01  3.11317653e+01\n",
      "  2.98887266e+00  5.85135773e+00 -8.76281029e-02 -8.49665618e-02\n",
      " -5.76152518e-02 -1.67652668e-01  2.10349525e-02] <class 'numpy.ndarray'>\n",
      "[ 1.33507937e+00  5.10891296e+00  4.38226350e+01  2.87777008e+01\n",
      "  2.90780777e+00  5.37645820e+00 -1.08189776e-01 -8.52522260e-02\n",
      " -5.65651997e-02 -1.71459323e-01  1.79198018e-02] <class 'numpy.ndarray'>\n",
      "[ 1.33428731e+00  4.80741890e+00  4.21294948e+01  2.88926768e+01\n",
      "  2.90519977e+00  5.30594736e+00 -8.95180499e-02 -9.17248664e-02\n",
      " -5.44999248e-02 -1.39813963e-01  9.29715703e-03] <class 'numpy.ndarray'>\n",
      "[ 1.32804745e+00  4.97417570e+00  4.26451962e+01  2.73526921e+01\n",
      "  3.21066488e+00  5.13846121e+00 -9.97703010e-02 -8.74371335e-02\n",
      " -4.70772016e-02 -1.30355476e-01  2.05717680e-02] <class 'numpy.ndarray'>\n",
      "[ 1.33394539e+00  4.94621377e+00  4.25930926e+01  2.67624038e+01\n",
      "  3.32263883e+00  5.13542857e+00 -8.06941268e-02 -8.01469234e-02\n",
      " -4.42181216e-02 -1.60236955e-01  2.55099554e-02] <class 'numpy.ndarray'>\n",
      "[ 1.34541082e+00  4.76776174e+00  4.34363517e+01  2.74077060e+01\n",
      "  3.07486799e+00  5.26669349e+00 -8.19942265e-02 -7.99927244e-02\n",
      " -4.19251673e-02 -1.41490616e-01  2.37123195e-02] <class 'numpy.ndarray'>\n",
      "[ 1.34048417e+00  4.77172987e+00  4.34728953e+01  2.68774458e+01\n",
      "  3.04924672e+00  5.12430325e+00 -1.03182098e-01 -8.00236620e-02\n",
      " -4.38408185e-02 -1.55303209e-01  2.51520951e-02] <class 'numpy.ndarray'>\n",
      "[ 1.34869358e+00  4.65429806e+00  4.48501719e+01  2.54695314e+01\n",
      "  2.96280243e+00  5.26543851e+00 -1.09472898e-01 -8.62092605e-02\n",
      " -4.86407581e-02 -1.54527253e-01  2.13996396e-02] <class 'numpy.ndarray'>\n",
      "[ 1.31979523e+00  5.13590730e+00  4.24539051e+01  2.41970560e+01\n",
      "  2.87335143e+00  5.50716474e+00 -1.03103899e-01 -8.69491936e-02\n",
      " -5.85564012e-02 -1.78413902e-01  3.23533664e-03] <class 'numpy.ndarray'>\n",
      "[ 1.33328135e+00  4.92597484e+00  4.41226687e+01  2.31305761e+01\n",
      "  3.03000475e+00  5.74112087e+00 -9.69777866e-02 -8.75254462e-02\n",
      " -6.01591792e-02 -2.06343196e-01  9.39051689e-03] <class 'numpy.ndarray'>\n",
      "[ 1.33410150e+00  4.64447220e+00  4.76969262e+01  2.36628169e+01\n",
      "  3.04540819e+00  5.41874678e+00 -9.27501786e-02 -9.29484946e-02\n",
      " -5.52639725e-02 -1.86201230e-01 -1.82610521e-02] <class 'numpy.ndarray'>\n",
      "[ 1.32892752e+00  5.04735262e+00  4.62820082e+01  2.37758577e+01\n",
      "  3.14649480e+00  4.77854943e+00 -9.41513049e-02 -9.08014701e-02\n",
      " -7.39008546e-02 -1.70318367e-01 -1.52636773e-02] <class 'numpy.ndarray'>\n",
      "[ 1.33785007e+00  4.89038958e+00  4.54327082e+01  2.18404889e+01\n",
      "  3.23279347e+00  4.90664392e+00 -7.98797123e-02 -9.89513079e-02\n",
      " -5.90516856e-02 -1.86853517e-01  5.76905231e-03] <class 'numpy.ndarray'>\n",
      "[ 1.32153260e+00  4.58301043e+00  4.26363630e+01  2.14534694e+01\n",
      "  3.24251004e+00  4.98603104e+00 -9.50513569e-02 -1.02429442e-01\n",
      " -5.79241249e-02 -1.57373987e-01 -1.28973002e-02] <class 'numpy.ndarray'>\n",
      "[ 1.32770089e+00  5.03831753e+00  3.81922981e+01  2.04762899e+01\n",
      "  3.10082978e+00  5.13302928e+00 -1.02014804e-01 -1.05731431e-01\n",
      " -7.06323749e-02 -1.73112819e-01 -6.22326737e-03] <class 'numpy.ndarray'>\n",
      "[ 1.32885120e+00  5.07665582e+00  3.60791633e+01  2.06524378e+01\n",
      "  3.11141190e+00  5.03792856e+00 -1.02459356e-01 -1.11969966e-01\n",
      " -7.21367497e-02 -1.71543451e-01 -1.27769750e-02] <class 'numpy.ndarray'>\n",
      "[ 1.32837730e+00  4.40582180e+00  3.20270736e+01  1.77930739e+01\n",
      "  2.90318399e+00  4.57734035e+00 -9.74227883e-02 -1.19410823e-01\n",
      " -7.27411543e-02 -1.53653255e-01 -1.14094700e-02] <class 'numpy.ndarray'>\n",
      "[ 1.34417540e+00  4.62778259e+00  3.07108058e+01  1.51925825e+01\n",
      "  2.99573416e+00  4.74180094e+00 -7.67322533e-02 -1.31005775e-01\n",
      " -7.41598702e-02 -1.99103138e-01  5.38131357e-03] <class 'numpy.ndarray'>\n",
      "[ 1.33545958e+00  4.89687140e+00  2.96529675e+01  1.45308736e+01\n",
      "  3.21009721e+00  4.62580908e+00 -9.19595501e-02 -1.32393922e-01\n",
      " -8.86456993e-02 -1.87839931e-01 -1.14265746e-02] <class 'numpy.ndarray'>\n",
      "[ 1.34195637e+00  4.73627420e+00  2.97859244e+01  1.45719907e+01\n",
      "  3.15714890e+00  4.77371207e+00 -8.68263566e-02 -1.37063591e-01\n",
      " -7.09608127e-02 -1.89689361e-01 -1.21446422e-02] <class 'numpy.ndarray'>\n",
      "[ 1.35141576e+00  5.05295544e+00  2.92638663e+01  1.33327404e+01\n",
      "  3.18091782e+00  4.75792465e+00 -8.30172975e-02 -1.36409017e-01\n",
      " -9.47360532e-02 -2.12982636e-01  1.48093278e-03] <class 'numpy.ndarray'>\n",
      "[ 1.34485067e+00  5.21120568e+00  3.01888893e+01  1.14543121e+01\n",
      "  3.10714596e+00  4.80419692e+00 -9.21880177e-02 -1.36547907e-01\n",
      " -1.09560847e-01 -2.10910628e-01 -1.66677652e-02] <class 'numpy.ndarray'>\n",
      "[ 1.37169143e+00  4.75215186e+00  3.09237531e+01  9.81494097e+00\n",
      "  3.04166975e+00  4.96734409e+00 -9.04122863e-02 -1.40282802e-01\n",
      " -1.10390881e-01 -2.05316074e-01 -7.95473819e-03] <class 'numpy.ndarray'>\n",
      "[ 1.37113287e+00  4.85903366e+00  2.98273826e+01  9.22178153e+00\n",
      "  3.04181062e+00  4.99758433e+00 -9.55502327e-02 -1.38794793e-01\n",
      " -1.19932027e-01 -2.06336404e-01 -2.32389095e-02] <class 'numpy.ndarray'>\n",
      "[ 1.38185888  4.93918886 30.43103798  8.59657691  3.05797321  5.29212898\n",
      " -0.08385811 -0.1441011  -0.11400595 -0.17936961 -0.0315819 ] <class 'numpy.ndarray'>\n",
      "[ 1.37641492e+00  5.18513507e+00  3.17240007e+01  8.00840778e+00\n",
      "  3.20759129e+00  5.17525725e+00 -6.60813306e-02 -1.39019375e-01\n",
      " -1.09697500e-01 -2.13612645e-01 -2.18335224e-02] <class 'numpy.ndarray'>\n",
      "[ 1.37085328e+00  5.20067140e+00  3.18361877e+01  7.49350833e+00\n",
      "  3.17197214e+00  4.96749412e+00 -8.40880502e-02 -1.37191984e-01\n",
      " -9.52626752e-02 -1.91858442e-01 -2.45148043e-02] <class 'numpy.ndarray'>\n",
      "[ 1.37523604  5.04096138 31.57326528  6.96059163  3.14603564  4.77189443\n",
      " -0.0723525  -0.14756965 -0.10525851 -0.19154578 -0.03725008] <class 'numpy.ndarray'>\n",
      "[ 1.37957331  5.18168424 32.65141024  6.6054909   3.15317579  4.74122759\n",
      " -0.09162125 -0.14555004 -0.09935993 -0.21364278 -0.03359501] <class 'numpy.ndarray'>\n",
      "[ 1.37410228  5.01608427 33.40394424  6.76657176  3.04234536  5.00329184\n",
      " -0.08108303 -0.14110494 -0.10324526 -0.2226248  -0.03489419] <class 'numpy.ndarray'>\n",
      "[ 1.37370491  5.13933307 31.54773383  6.26875043  3.22960725  4.87151446\n",
      " -0.08953025 -0.13864794 -0.10524611 -0.22257546 -0.04133405] <class 'numpy.ndarray'>\n",
      "[ 1.37676333  5.31047224 33.58891555  6.55294573  3.00057012  4.84928716\n",
      " -0.07295317 -0.13704046 -0.10896739 -0.22984258 -0.04986833] <class 'numpy.ndarray'>\n",
      "[ 1.38768759  5.45082035 31.97888099  5.89522973  2.92138809  4.51307294\n",
      " -0.09293518 -0.13783918 -0.10689642 -0.2334151  -0.0499882 ] <class 'numpy.ndarray'>\n",
      "[ 1.38666328  5.11141826 30.56539069  5.93342334  2.93479554  4.49976648\n",
      " -0.07540125 -0.14413912 -0.11159655 -0.20035692 -0.06017335] <class 'numpy.ndarray'>\n",
      "[ 1.37965849  5.2850559  30.7717717   5.77763504  3.24288976  4.44955238\n",
      " -0.08581306 -0.13820166 -0.09642723 -0.18832957 -0.04862871] <class 'numpy.ndarray'>\n",
      "[ 1.38497864  5.2364064  30.79914217  5.76026645  3.36601777  4.5738771\n",
      " -0.06647439 -0.13003157 -0.09765195 -0.2181514  -0.04463195] <class 'numpy.ndarray'>\n",
      "[ 1.39717205  5.04609326 31.24422469  5.89395989  3.13349185  4.7377924\n",
      " -0.06712122 -0.13083563 -0.09979576 -0.19750013 -0.04442521] <class 'numpy.ndarray'>\n",
      "[ 1.39368416  5.04269265 31.10030885  5.69950054  3.12832622  4.66759123\n",
      " -0.08573696 -0.13140142 -0.10746306 -0.21019112 -0.04247534] <class 'numpy.ndarray'>\n",
      "[ 1.40284544  4.94321245 32.2299103   5.39819677  3.01355636  4.8320051\n",
      " -0.09116847 -0.13998006 -0.10980186 -0.20848642 -0.04458543] <class 'numpy.ndarray'>\n",
      "[ 1.37245801  5.49557614 30.88023545  5.13982681  2.95005926  5.04549676\n",
      " -0.08440317 -0.14097233 -0.12181043 -0.2302128  -0.06194532] <class 'numpy.ndarray'>\n",
      "[ 1.38495869  5.29005387 32.23258791  5.11896835  3.12502113  5.31645965\n",
      " -0.07823812 -0.14051382 -0.11478797 -0.25345882 -0.05222403] <class 'numpy.ndarray'>\n",
      "[ 1.3876564   4.99147251 35.09155298  5.35368745  3.12841313  5.07303195\n",
      " -0.07309476 -0.14676157 -0.0942889  -0.23260666 -0.07713647] <class 'numpy.ndarray'>\n",
      "[ 1.37895749  5.44296287 34.17275773  5.42949172  3.21705448  4.51282671\n",
      " -0.07661814 -0.14366888 -0.12596775 -0.21501933 -0.07076023] <class 'numpy.ndarray'>\n",
      "[ 1.38593874  5.2629108  33.89278875  5.20438405  3.30921676  4.64503244\n",
      " -0.06312483 -0.15270105 -0.08498649 -0.22971402 -0.04696118] <class 'numpy.ndarray'>\n",
      "[ 1.36821153  4.93402288 31.82581725  5.38438445  3.31544413  4.72319821\n",
      " -0.07787299 -0.15560279 -0.09101889 -0.19728572 -0.06179157] <class 'numpy.ndarray'>\n",
      "[ 1.37429517  5.39058527 28.58596718  5.45288962  3.18724296  4.84401597\n",
      " -0.08522427 -0.15842461 -0.12255051 -0.20834902 -0.05410083] <class 'numpy.ndarray'>\n",
      "[ 1.37617304  5.40414218 27.14954837  5.61965741  3.21196289  4.77946712\n",
      " -0.08406089 -0.16420713 -0.12568272 -0.20558743 -0.0577896 ] <class 'numpy.ndarray'>\n",
      "[ 1.37130101  4.58354203 22.89079912  5.07210943  2.97559398  4.32293741\n",
      " -0.0786045  -0.17416074 -0.1167044  -0.18643134 -0.05560665] <class 'numpy.ndarray'>\n",
      "[ 1.38504612  4.80714759 21.52870435  4.91399688  3.05927954  4.52465219\n",
      " -0.0577933  -0.18893356 -0.11153173 -0.22791935 -0.03816329] <class 'numpy.ndarray'>\n",
      "[ 1.37589245  5.13243814 20.4114522   5.20538385  3.27913647  4.43053015\n",
      " -0.0725418  -0.18854983 -0.13437463 -0.21560079 -0.05106121] <class 'numpy.ndarray'>\n",
      "[ 1.38103151  4.98244739 20.17031033  5.64224809  3.22889966  4.62903137\n",
      " -0.06934038 -0.1942278  -0.09932466 -0.21709275 -0.04869498] <class 'numpy.ndarray'>\n",
      "[ 1.3875166   5.33672901 19.51560778  5.69644666  3.25758683  4.64322948\n",
      " -0.06591104 -0.1922428  -0.1385202  -0.23743017 -0.03218797] <class 'numpy.ndarray'>\n",
      "[ 1.37860229  5.5030735  19.80397428  5.23638752  3.20478791  4.71898721\n",
      " -0.07436189 -0.19148718 -0.15368332 -0.23714396 -0.04776925] <class 'numpy.ndarray'>\n",
      "[ 1.40391786  5.05006544 19.96687079  4.84029247  3.12846079  4.87280018\n",
      " -0.07280801 -0.19399959 -0.14489876 -0.23196545 -0.03520939] <class 'numpy.ndarray'>\n",
      "[ 1.39801976  5.14791235 18.98367471  5.00021408  3.14078693  4.96843949\n",
      " -0.07701037 -0.19172526 -0.15397318 -0.23149388 -0.04868693] <class 'numpy.ndarray'>\n",
      "[ 1.40619938  5.24968561 18.86927999  5.15543913  3.13869294  5.26407364\n",
      " -0.06570637 -0.19823647 -0.14072497 -0.20445089 -0.05295469] <class 'numpy.ndarray'>\n",
      "[ 1.40030327  5.52075783 18.75447043  5.11189748  3.30202572  5.11696214\n",
      " -0.04757304 -0.18959871 -0.13038098 -0.23692799 -0.03901817] <class 'numpy.ndarray'>\n",
      "[ 1.39303857  5.53893086 17.73013431  5.13430555  3.24239487  4.87850294\n",
      " -0.06424958 -0.18842238 -0.11303124 -0.21560462 -0.04037347] <class 'numpy.ndarray'>\n",
      "[ 1.39727986  5.34384485 16.74733279  5.07003886  3.21613376  4.70852942\n",
      " -0.05213454 -0.20385812 -0.12430059 -0.21459332 -0.05050014] <class 'numpy.ndarray'>\n",
      "[ 1.40265347  5.4605537  15.93007552  5.02911344  3.19700057  4.75062127\n",
      " -0.07100013 -0.20093956 -0.1167321  -0.23627547 -0.04533379] <class 'numpy.ndarray'>\n",
      "[ 1.39482677  5.28389053 15.64837555  5.40402243  3.09195888  5.00049988\n",
      " -0.06115127 -0.19218131 -0.11969347 -0.24666517 -0.04392233] <class 'numpy.ndarray'>\n",
      "[ 1.39448063  5.42055813 13.65300196  5.16576288  3.29046399  4.8673694\n",
      " -0.06991005 -0.18757958 -0.1153288  -0.24871272 -0.05095998] <class 'numpy.ndarray'>\n",
      "[ 1.39889742  5.61827377 13.69754963  5.52238384  3.04583526  4.85746164\n",
      " -0.05348446 -0.18667392 -0.11803999 -0.25731396 -0.05889377] <class 'numpy.ndarray'>\n",
      "[ 1.41130891  5.70170968 11.77307613  5.0543511   2.97352778  4.51606597\n",
      " -0.0726614  -0.18881471 -0.1105005  -0.2607365  -0.05768892] <class 'numpy.ndarray'>\n",
      "[ 1.40952007  5.34840448 10.91054853  5.21534604  2.99330208  4.49592096\n",
      " -0.05537488 -0.19872862 -0.11610738 -0.22882866 -0.06664724] <class 'numpy.ndarray'>\n",
      "[ 1.40608227  5.51550816 10.3817863   5.16247399  3.27128502  4.4465131\n",
      " -0.06550315 -0.18558268 -0.09971445 -0.21668654 -0.05573819] <class 'numpy.ndarray'>\n",
      "[ 1.41450609  5.43970232  9.95194694  5.21557251  3.4022737   4.54575957\n",
      " -0.04648412 -0.17027393 -0.10053678 -0.24550636 -0.04922451] <class 'numpy.ndarray'>\n",
      "[ 1.42813842  5.23439225  9.6014633   5.41703579  3.15466785  4.70738694\n",
      " -0.04690438 -0.17524403 -0.10369931 -0.22360519 -0.04747074] <class 'numpy.ndarray'>\n",
      "[ 1.4265459   5.21034621  9.03711886  5.27849591  3.16866436  4.62857428\n",
      " -0.06464623 -0.17577746 -0.11120033 -0.23537022 -0.04355494] <class 'numpy.ndarray'>\n",
      "[ 1.43431403  5.11005637  9.18508295  5.01338141  3.02315992  4.90202687\n",
      " -0.07019894 -0.19282079 -0.11286227 -0.23265522 -0.04395765] <class 'numpy.ndarray'>\n",
      "[ 1.40452366  5.67753585  8.5566095   4.75389654  2.95888748  5.13771528\n",
      " -0.06374919 -0.19333896 -0.12697076 -0.25340998 -0.05918793] <class 'numpy.ndarray'>\n",
      "[ 1.42006993  5.47566285  8.38979178  4.83775078  3.14365341  5.37993863\n",
      " -0.05827982 -0.1867163  -0.11977232 -0.27728352 -0.04807477] <class 'numpy.ndarray'>\n",
      "[ 1.42223102  5.15882663  8.81134299  5.10180878  3.15743642  5.16018936\n",
      " -0.0533369  -0.19599652 -0.09698712 -0.25574958 -0.07257465] <class 'numpy.ndarray'>\n",
      "[ 1.41200246  5.6494123   8.50497201  5.152107    3.25659374  4.59562949\n",
      " -0.05670446 -0.18502983 -0.12930526 -0.2380922  -0.06924018] <class 'numpy.ndarray'>\n",
      "[ 1.42151007  5.44919376  8.07545455  4.94579188  3.3423275   4.73258746\n",
      " -0.04360762 -0.20152359 -0.08931453 -0.2530083  -0.0473386 ] <class 'numpy.ndarray'>\n",
      "[ 1.40134405  5.105319    7.65812468  5.1112187   3.33808428  4.8323508\n",
      " -0.05833446 -0.19691973 -0.09666914 -0.21940368 -0.0593202 ] <class 'numpy.ndarray'>\n",
      "[ 1.40897124  5.58548155  6.8052906   5.22106676  3.19175926  4.94419829\n",
      " -0.06592019 -0.19521482 -0.12742404 -0.23099449 -0.05262843] <class 'numpy.ndarray'>\n",
      "[ 1.41156647  5.63670987  6.65207354  5.33824114  3.21624868  4.90777696\n",
      " -0.06457007 -0.1942241  -0.13210518 -0.22714615 -0.0556328 ] <class 'numpy.ndarray'>\n",
      "[ 1.40249338  4.67298419  5.94905777  4.79160256  2.96251717  4.39865196\n",
      " -0.05873249 -0.20018917 -0.12260205 -0.20582227 -0.05341617] <class 'numpy.ndarray'>\n",
      "[ 1.41701269  4.85851896  5.95922151  4.74747557  3.05732405  4.58612634\n",
      " -0.03737291 -0.22620163 -0.11526572 -0.2461589  -0.0372847 ] <class 'numpy.ndarray'>\n",
      "[ 1.4065092   5.2375421   6.22002093  5.01621331  3.28627347  4.51537659\n",
      " -0.05222366 -0.21532972 -0.13934793 -0.2327941  -0.04878284] <class 'numpy.ndarray'>\n",
      "[ 1.41211745  5.08472378  6.54249649  5.42589587  3.23164595  4.72603821\n",
      " -0.0501261  -0.22368667 -0.10413358 -0.2347233  -0.04710273] <class 'numpy.ndarray'>\n",
      "[ 1.41839076  5.45000947  6.57364004  5.48405642  3.25405321  4.75152344\n",
      " -0.04725438 -0.21753511 -0.14316398 -0.25414028 -0.02974711] <class 'numpy.ndarray'>\n",
      "[ 1.41010032  5.64777989  6.8533782   5.0691571   3.20909525  4.81546074\n",
      " -0.05618317 -0.21651797 -0.15915115 -0.25271637 -0.04436521] <class 'numpy.ndarray'>\n",
      "[ 1.43692866  5.20194978  6.94090146  4.73341542  3.12547773  4.97388312\n",
      " -0.05495773 -0.21933292 -0.15010367 -0.24835756 -0.0325773 ] <class 'numpy.ndarray'>\n",
      "[ 1.43038696  5.2959277   6.8429898   4.83652461  3.14447232  5.05737342\n",
      " -0.05900225 -0.2104782  -0.15878551 -0.24776676 -0.04443414] <class 'numpy.ndarray'>\n",
      "[ 1.43643046  5.37567285  7.10857004  4.99637788  3.1422621   5.38527531\n",
      " -0.04784018 -0.22043638 -0.14353551 -0.22070691 -0.04845831] <class 'numpy.ndarray'>\n",
      "[ 1.43007986  5.66471055  7.38523653  4.9654625   3.33151516  5.21978186\n",
      " -0.02993508 -0.20281404 -0.13161215 -0.25383254 -0.03507648] <class 'numpy.ndarray'>\n",
      "[ 1.42190199  5.68234577  7.07062915  5.03370013  3.26314298  4.97625685\n",
      " -0.04632245 -0.20348381 -0.11452089 -0.23172787 -0.03454456] <class 'numpy.ndarray'>\n",
      "[ 1.42538907  5.47353678  7.06973698  4.97806817  3.24115378  4.78183614\n",
      " -0.03422303 -0.22927916 -0.12662294 -0.23036883 -0.04272257] <class 'numpy.ndarray'>\n",
      "[ 1.42893581  5.57957774  7.0221133   4.93727904  3.21944592  4.85812147\n",
      " -0.05236409 -0.22410003 -0.11815969 -0.25064493 -0.03838347] <class 'numpy.ndarray'>\n",
      "[ 1.41792729  5.4080208   7.41823887  5.31137663  3.11639406  5.10478071\n",
      " -0.04303045 -0.21304655 -0.12111641 -0.26086552 -0.0364312 ] <class 'numpy.ndarray'>\n",
      "[ 1.41622756  5.54096045  6.70033645  5.08120814  3.3205599   4.99408653\n",
      " -0.05243833 -0.20763754 -0.1160943  -0.26398467 -0.04330254] <class 'numpy.ndarray'>\n",
      "[ 1.41758787  5.75666499  7.29797995  5.43838113  3.07432385  4.99819458\n",
      " -0.0365693  -0.20771456 -0.12009776 -0.27273447 -0.05098785] <class 'numpy.ndarray'>\n",
      "[ 1.42736197  5.80935344  6.5965322   4.97904583  2.99173814  4.65950981\n",
      " -0.05593136 -0.21290141 -0.11285553 -0.27676144 -0.04949646] <class 'numpy.ndarray'>\n",
      "[ 1.42344405  5.45851646  6.570792    5.09510256  3.02013547  4.63159683\n",
      " -0.03911522 -0.22860916 -0.11923966 -0.24524133 -0.05786541] <class 'numpy.ndarray'>\n",
      "[ 1.41780927  5.6230105   6.70524911  5.07997237  3.29509888  4.59081676\n",
      " -0.049571   -0.21205338 -0.10229029 -0.23379755 -0.0466434 ] <class 'numpy.ndarray'>\n",
      "[ 1.42478424  5.53989005  6.90905351  5.15202328  3.42632611  4.63639225\n",
      " -0.0309398  -0.1968573  -0.1040969  -0.26312838 -0.03789091] <class 'numpy.ndarray'>\n",
      "[ 1.4368547   5.33498172  6.89661788  5.35818355  3.17904069  4.81946104\n",
      " -0.03161597 -0.20542358 -0.10728325 -0.24096808 -0.0349359 ] <class 'numpy.ndarray'>\n",
      "[ 1.43403309  5.30865105  6.77743377  5.21076     3.20224062  4.72706241\n",
      " -0.04962602 -0.20635487 -0.11430342 -0.25304151 -0.0314597 ] <class 'numpy.ndarray'>\n",
      "[ 1.44141325  5.20907184  6.965309    4.94444066  3.04310326  5.064787\n",
      " -0.05560786 -0.22595503 -0.11515174 -0.25009519 -0.03151644] <class 'numpy.ndarray'>\n",
      "[ 1.41058192  5.78227418  6.66569752  4.69757171  2.98166058  5.32086218\n",
      " -0.04947128 -0.22759479 -0.13008402 -0.26975434 -0.04621646] <class 'numpy.ndarray'>\n",
      "[ 1.42586173  5.565592    6.64404098  4.78977402  3.17325276  5.57385085\n",
      " -0.04451629 -0.2204418  -0.1235005  -0.29332757 -0.03486797] <class 'numpy.ndarray'>\n",
      "[ 1.42652686  5.24465959  7.14394784  5.06115193  3.17522063  5.37385836\n",
      " -0.04015025 -0.2303052  -0.10116319 -0.27220168 -0.05900261] <class 'numpy.ndarray'>\n",
      "[ 1.41636923  5.74749488  7.04771297  5.10330427  3.27497635  4.77278666\n",
      " -0.04360064 -0.21782385 -0.1339742  -0.25426981 -0.05748836] <class 'numpy.ndarray'>\n",
      "[ 1.42563004  5.55070683  6.82830295  4.89091781  3.36706639  4.88742697\n",
      " -0.03074724 -0.23630643 -0.09382664 -0.269376   -0.03743164] <class 'numpy.ndarray'>\n",
      "[ 1.40501892  5.19636864  6.56578224  5.06263218  3.35854015  4.97913745\n",
      " -0.04540833 -0.23013891 -0.10028469 -0.23526389 -0.04913559] <class 'numpy.ndarray'>\n",
      "[ 1.41173269  5.6921475   5.94174421  5.16843722  3.20554822  5.09828843\n",
      " -0.0530729  -0.22734155 -0.13177042 -0.24695735 -0.04306911] <class 'numpy.ndarray'>\n",
      "[ 1.41445491  5.76056771  5.89077078  5.28289671  3.22610389  5.06765166\n",
      " -0.05184166 -0.22552282 -0.13624229 -0.24240419 -0.04545555] <class 'numpy.ndarray'>\n",
      "[ 1.40388801  4.73579948  5.32292687  4.75317679  2.96633238  4.5205128\n",
      " -0.04590056 -0.23065175 -0.12695392 -0.21983015 -0.04296219] <class 'numpy.ndarray'>\n",
      "[ 1.41803389  4.90187558  5.37862853  4.72584637  3.06852913  4.68585182\n",
      " -0.02482471 -0.25739788 -0.12021133 -0.25982738 -0.0276163 ] <class 'numpy.ndarray'>\n",
      "[ 1.40830894  5.29838757  5.6303098   4.98403148  3.30116574  4.60489136\n",
      " -0.03996233 -0.24491176 -0.14370981 -0.24598232 -0.03904353] <class 'numpy.ndarray'>\n",
      "[ 1.41317922  5.15412653  5.99190384  5.38139013  3.24913916  4.81350391\n",
      " -0.03808879 -0.25364335 -0.1083377  -0.24824688 -0.03830486] <class 'numpy.ndarray'>\n",
      "[ 1.41968707  5.52777019  6.03781739  5.44688618  3.26353477  4.83685195\n",
      " -0.03515857 -0.24723865 -0.14737893 -0.26688444 -0.02094235] <class 'numpy.ndarray'>\n",
      "[ 1.41144097  5.72895651  6.32408512  5.03740916  3.21956165  4.91927683\n",
      " -0.04416192 -0.24702618 -0.16438034 -0.2652521  -0.03497684] <class 'numpy.ndarray'>\n",
      "[ 1.43861697  5.29215308  6.40830395  4.70670675  3.1386502   5.08083414\n",
      " -0.04315753 -0.25036997 -0.15609523 -0.26063475 -0.02350207] <class 'numpy.ndarray'>\n",
      "[ 1.43191726  5.39186655  6.34144089  4.78607141  3.15513626  5.16903825\n",
      " -0.0472618  -0.24116211 -0.16477531 -0.25954631 -0.03519347] <class 'numpy.ndarray'>\n",
      "[ 1.43785547  5.46753658  6.59393567  4.94084864  3.1502207   5.50198911\n",
      " -0.03635088 -0.25085852 -0.14908778 -0.23303628 -0.03945914] <class 'numpy.ndarray'>\n",
      "[ 1.43132675  5.75949565  6.8956926   4.92576269  3.34116398  5.34186239\n",
      " -0.01864232 -0.23195706 -0.13764138 -0.26644923 -0.02646562] <class 'numpy.ndarray'>\n",
      "[ 1.42349965  5.77829583  6.59724905  5.00265597  3.27438938  5.09730875\n",
      " -0.03487936 -0.23223477 -0.12047093 -0.2438578  -0.02505629] <class 'numpy.ndarray'>\n",
      "[ 1.42662628  5.56409954  6.6513954   4.96311478  3.2541328   4.8831159\n",
      " -0.02286648 -0.25940905 -0.13373315 -0.24156632 -0.0315869 ] <class 'numpy.ndarray'>\n",
      "[ 1.42923413  5.66722256  6.65665032  4.93651035  3.23069135  4.97892566\n",
      " -0.04070878 -0.25351469 -0.12524688 -0.26100631 -0.02812618] <class 'numpy.ndarray'>\n",
      "[ 1.41890639  5.48837081  7.01108614  5.28736342  3.1260445   5.23376376\n",
      " -0.0316636  -0.2426285  -0.12861647 -0.27182684 -0.02559486] <class 'numpy.ndarray'>\n",
      "[ 1.4167438   5.62360418  6.33375646  5.06329178  3.33314297  5.12385722\n",
      " -0.04115045 -0.2375973  -0.12377519 -0.27501607 -0.03308592] <class 'numpy.ndarray'>\n",
      "[ 1.41809187  5.84327775  6.89366023  5.41591375  3.08702332  5.13895333\n",
      " -0.02543475 -0.23756066 -0.12843328 -0.2836352  -0.04109005] <class 'numpy.ndarray'>\n",
      "[ 1.42779724  5.8795166   6.22058621  4.96800573  3.00000458  4.78770023\n",
      " -0.0446011  -0.24400139 -0.12148379 -0.28733366 -0.04005051] <class 'numpy.ndarray'>\n",
      "[ 1.42411635  5.51974276  6.17543448  5.05158309  3.03246913  4.76498978\n",
      " -0.02808118 -0.26057265 -0.1281228  -0.25640074 -0.04775434] <class 'numpy.ndarray'>\n",
      "[ 1.418174    5.68477794  6.32156002  5.04567652  3.30305304  4.71878574\n",
      " -0.03857653 -0.24313531 -0.11128539 -0.24480911 -0.03667605] <class 'numpy.ndarray'>\n",
      "[ 1.42514871  5.59407194  6.55999368  5.13831345  3.43208772  4.73751634\n",
      " -0.02007566 -0.22843035 -0.11409858 -0.27392818 -0.02624339] <class 'numpy.ndarray'>\n",
      "[ 1.43741592  5.38882016  6.5182203   5.35264355  3.1907745   4.92112492\n",
      " -0.02061932 -0.23714022 -0.11661764 -0.25142827 -0.02284474] <class 'numpy.ndarray'>\n",
      "[ 1.43452508  5.36826125  6.43193689  5.20769028  3.21798437  4.82116954\n",
      " -0.03866194 -0.23735791 -0.12319469 -0.26384636 -0.0194247 ] <class 'numpy.ndarray'>\n",
      "[ 1.44205742  5.26734385  6.57007558  4.94130479  3.05546215  5.18547872\n",
      " -0.0446889  -0.2569798  -0.12352756 -0.26124886 -0.01960283] <class 'numpy.ndarray'>\n",
      "[ 1.41111978  5.84157759  6.29092221  4.70502321  2.99235106  5.45680812\n",
      " -0.03853551 -0.25913926 -0.13856997 -0.28023977 -0.03382522] <class 'numpy.ndarray'>\n",
      "[ 1.4264621   5.6144123   6.26615117  4.79078903  3.18796119  5.71605117\n",
      " -0.03382149 -0.25144845 -0.13241998 -0.30335339 -0.02237777] <class 'numpy.ndarray'>\n",
      "[ 1.42686439  5.29129687  6.72593     5.0677784   3.18277716  5.53669432\n",
      " -0.02970866 -0.26131299 -0.1103463  -0.28244109 -0.04615475] <class 'numpy.ndarray'>\n",
      "[ 1.4168694   5.79737279  6.65138947  5.11055985  3.28516087  4.91784711\n",
      " -0.03312169 -0.24825328 -0.14311749 -0.26416942 -0.04552118] <class 'numpy.ndarray'>\n",
      "[ 1.42628107  5.6070921   6.48325678  4.87866499  3.38057909  5.01897058\n",
      " -0.02024713 -0.26747623 -0.103102   -0.27949463 -0.02697535] <class 'numpy.ndarray'>\n",
      "[ 1.40576099  5.24779061  6.21162108  5.05585352  3.36931639  5.10764682\n",
      " -0.03484204 -0.26018526 -0.10870547 -0.24472409 -0.03859514] <class 'numpy.ndarray'>\n",
      "[ 1.41212902  5.75420456  5.64780578  5.15359522  3.21434544  5.23438263\n",
      " -0.04242539 -0.25693339 -0.14042965 -0.25642036 -0.03293887] <class 'numpy.ndarray'>\n",
      "[ 1.41509099  5.83166257  5.62139763  5.27196663  3.22757572  5.2072707\n",
      " -0.04117981 -0.25425749 -0.14442427 -0.25136557 -0.03459995] <class 'numpy.ndarray'>\n",
      "[ 1.40358337  4.77013607  5.0831706   4.75596221  2.96490625  4.63013375\n",
      " -0.03516933 -0.25829801 -0.13527496 -0.22794431 -0.03170554] <class 'numpy.ndarray'>\n",
      "[ 1.41747589  4.92302462  5.15169635  4.73428345  3.07420349  4.77943365\n",
      " -0.0142377  -0.28518574 -0.12890669 -0.26773499 -0.01708695] <class 'numpy.ndarray'>\n",
      "[ 1.4084701   5.32959197  5.37555139  4.98120896  3.30994975  4.69004833\n",
      " -0.02943706 -0.271751   -0.15189085 -0.25356469 -0.02855211] <class 'numpy.ndarray'>\n",
      "[ 1.41291283  5.18981216  5.75027219  5.36498524  3.26014474  4.89868022\n",
      " -0.02759175 -0.28072801 -0.11684995 -0.25609208 -0.02859473] <class 'numpy.ndarray'>\n",
      "[ 1.41972451  5.56946584  5.79197502  5.43881831  3.26969215  4.91992992\n",
      " -0.02458563 -0.27394229 -0.15555448 -0.27399336 -0.01134298] <class 'numpy.ndarray'>\n",
      "[ 1.41161132  5.77633282  6.06542823  5.0330185   3.22535247  5.01569209\n",
      " -0.03359029 -0.27448319 -0.17320657 -0.27208426 -0.02491286] <class 'numpy.ndarray'>\n",
      "[ 1.43903422  5.34651098  6.14811827  4.70438072  3.14813752  5.17022008\n",
      " -0.03273461 -0.27799728 -0.16540431 -0.26721446 -0.01359448] <class 'numpy.ndarray'>\n",
      "[ 1.43232997  5.45223215  6.09078134  4.77177286  3.16334161  5.26059556\n",
      " -0.03686718 -0.26853625 -0.17409524 -0.26585725 -0.0250181 ] <class 'numpy.ndarray'>\n",
      "[ 1.43829546  5.52735297  6.33161167  4.92214287  3.15895897  5.60094849\n",
      " -0.02610574 -0.27795747 -0.15814553 -0.23984863 -0.02958366] <class 'numpy.ndarray'>\n",
      "[ 1.43161882  5.81804732  6.6443221   4.91728086  3.3472842   5.44379289\n",
      " -0.00853684 -0.25825419 -0.14697328 -0.27344198 -0.01682258] <class 'numpy.ndarray'>\n",
      "[ 1.4242001   5.83868566  6.34217587  4.9944835   3.28229022  5.19121707\n",
      " -0.02468281 -0.25815027 -0.12973578 -0.25068771 -0.01484654] <class 'numpy.ndarray'>\n",
      "[ 1.42713332  5.62182384  6.42314651  4.96221944  3.26335693  4.96518148\n",
      " -0.01265736 -0.28590993 -0.14351748 -0.24752702 -0.02000902] <class 'numpy.ndarray'>\n",
      "[ 1.42907967  5.72425181  6.45244033  4.95014423  3.23829867  5.07207935\n",
      " -0.03020979 -0.27944581 -0.13496618 -0.26640886 -0.01710876] <class 'numpy.ndarray'>\n",
      "[ 1.41934441  5.54149847  6.77123665  5.28064919  3.1337197   5.32880547\n",
      " -0.0213578  -0.26852607 -0.13843996 -0.27783319 -0.01413224] <class 'numpy.ndarray'>\n",
      "[ 1.41672886  5.68018452  6.12290239  5.0625012   3.34366183  5.2184578\n",
      " -0.0308615  -0.26367083 -0.13369909 -0.281073   -0.0219843 ] <class 'numpy.ndarray'>\n",
      "[ 1.41815461  5.90232172  6.65495335  5.40911885  3.09806465  5.24330662\n",
      " -0.01520209 -0.2633942  -0.13892398 -0.28951158 -0.03018967] <class 'numpy.ndarray'>\n",
      "[ 1.42780008  5.92607261  5.99728511  4.97327853  3.00731633  4.88146848\n",
      " -0.03420311 -0.27080753 -0.13218082 -0.29281636 -0.02955231] <class 'numpy.ndarray'>\n",
      "[ 1.4243108   5.55830511  5.937612    5.03138293  3.04320377  4.86503886\n",
      " -0.01789868 -0.2877907  -0.13898235 -0.26238475 -0.03677936] <class 'numpy.ndarray'>\n",
      "[ 1.41820599  5.72434535  6.09185706  5.02842474  3.30918484  4.81266859\n",
      " -0.028433   -0.26982501 -0.12233375 -0.25064123 -0.02586602] <class 'numpy.ndarray'>\n",
      "[ 1.42518369  5.62862834  6.34959733  5.13425992  3.43626874  4.81651244\n",
      " -0.01002715 -0.25539524 -0.12582209 -0.2795183  -0.01409321] <class 'numpy.ndarray'>\n",
      "[ 1.43764996  5.42265426  6.28804271  5.35532144  3.19973512  4.99658657\n",
      " -0.01046484 -0.26415071 -0.12765268 -0.25695911 -0.01043886] <class 'numpy.ndarray'>\n",
      "[ 1.43469106  5.40706797  6.2221164   5.21501846  3.22820914  4.8907231\n",
      " -0.02853546 -0.26370211 -0.1337597  -0.26972329 -0.00697156] <class 'numpy.ndarray'>\n",
      "[ 1.44225749  5.30560222  6.33395545  4.95015241  3.06448109  5.26955308\n",
      " -0.03460108 -0.28327444 -0.13385628 -0.26757342 -0.00738168] <class 'numpy.ndarray'>\n",
      "[ 1.41126704  5.88056371  6.06730113  4.72738454  2.99806516  5.55141063\n",
      " -0.02841924 -0.28569024 -0.14892897 -0.2861162  -0.02123453] <class 'numpy.ndarray'>\n",
      "[ 1.42665185  5.64707567  6.03998205  4.80734258  3.19705675  5.81044134\n",
      " -0.02393075 -0.27749951 -0.14303955 -0.30887445 -0.00980095] <class 'numpy.ndarray'>\n",
      "[ 1.42689066  5.32309222  6.46882979  5.09227435  3.18742882  5.65064132\n",
      " -0.01998524 -0.28741961 -0.12122801 -0.28819809 -0.03324163] <class 'numpy.ndarray'>\n",
      "[ 1.41692097  5.83123148  6.40457633  5.13733385  3.29309668  5.02481577\n",
      " -0.02334966 -0.27387986 -0.15370481 -0.26966607 -0.03314847] <class 'numpy.ndarray'>\n",
      "[ 1.42648282  5.64764682  6.27136174  4.88587976  3.3914958   5.11667014\n",
      " -0.01040231 -0.29372336 -0.11398488 -0.28519703 -0.01587481] <class 'numpy.ndarray'>\n",
      "[ 1.40600755  5.28428104  5.98643944  5.06837615  3.37859192  5.20437367\n",
      " -0.0249644  -0.28554957 -0.11882736 -0.24996377 -0.02764443] <class 'numpy.ndarray'>\n",
      "[ 1.41222594  5.79805258  5.45646102  5.16202737  3.22277222  5.33554285\n",
      " -0.03244633 -0.28212657 -0.15058874 -0.2616581  -0.02228185] <class 'numpy.ndarray'>\n",
      "[ 1.41531292  5.88118616  5.44660742  5.2863133   3.22956545  5.31272684\n",
      " -0.0311934  -0.2787266  -0.15405047 -0.25628591 -0.02335478] <class 'numpy.ndarray'>\n",
      "[ 1.40304596  4.79301506  4.9252513   4.77756096  2.96528211  4.71629197\n",
      " -0.02515852 -0.28162265 -0.14497956 -0.23237208 -0.02008673] <class 'numpy.ndarray'>\n",
      "[ 1.41673173e+00  4.93517338e+00  5.00275359e+00  4.75872703e+00\n",
      "  3.07984874e+00  4.85432302e+00 -4.32825643e-03 -3.08532089e-01\n",
      " -1.38924083e-01 -2.72062040e-01 -6.07287664e-03] <class 'numpy.ndarray'>\n",
      "[ 1.40825109  5.34719652  5.20611719  4.99752177  3.31800201  4.75908552\n",
      " -0.01951664 -0.29439271 -0.16141416 -0.25774902 -0.01765641] <class 'numpy.ndarray'>\n",
      "[ 1.41242907  5.20959617  5.59025948  5.36891327  3.26958385  4.9693298\n",
      " -0.01765204 -0.30360016 -0.12688355 -0.26046534 -0.01838259] <class 'numpy.ndarray'>\n",
      "[ 1.41951762e+00  5.59318860e+00  5.62845607e+00  5.44529237e+00\n",
      "  3.27559675e+00  4.98960563e+00 -1.46036510e-02 -2.96492265e-01\n",
      " -1.65125805e-01 -2.77746249e-01 -1.32927092e-03] <class 'numpy.ndarray'>\n",
      "[ 1.41149402  5.80758415  5.88795358  5.04239761  3.23011202  5.0963369\n",
      " -0.02359423 -0.29770973 -0.18319448 -0.27559639 -0.01455276] <class 'numpy.ndarray'>\n",
      "[ 1.43914386e+00  5.38286316e+00  5.97108394e+00  4.71531142e+00\n",
      "  3.15588783e+00  5.24021235e+00 -2.28673399e-02 -3.01261905e-01\n",
      " -1.75702739e-01 -2.70519196e-01 -3.35902030e-03] <class 'numpy.ndarray'>\n",
      "[ 1.43245152  5.49447784  5.92098004  4.77783277  3.17043427  5.33157138\n",
      " -0.02703394 -0.29157239 -0.18441839 -0.26900372 -0.01448507] <class 'numpy.ndarray'>\n",
      "[ 1.43847449  5.57076411  6.15286535  4.92329408  3.16821317  5.67862657\n",
      " -0.01639652 -0.3007748  -0.1683542  -0.24346794 -0.01936772] <class 'numpy.ndarray'>\n",
      "[ 1.43165325e+00  5.85860072e+00  6.47348073e+00  4.92574289e+00\n",
      "  3.35241779e+00  5.52128211e+00  1.06994400e-03 -2.80534029e-01\n",
      " -1.57303321e-01 -2.77207773e-01 -6.79195614e-03] <class 'numpy.ndarray'>\n",
      "[ 1.42457973e+00  5.88090117e+00  6.16717729e+00  5.00000085e+00\n",
      "  3.28901987e+00  5.25963722e+00 -1.50253479e-02 -2.80159968e-01\n",
      " -1.40009570e-01 -2.54423298e-01 -4.46477982e-03] <class 'numpy.ndarray'>\n",
      "[ 1.42741718e+00  5.66277476e+00  6.26523236e+00  4.96961154e+00\n",
      "  3.27066481e+00  5.02710301e+00 -2.94516179e-03 -3.08206858e-01\n",
      " -1.54012306e-01 -2.50508796e-01 -8.54486464e-03] <class 'numpy.ndarray'>\n",
      "[ 1.42885469e+00  5.76556208e+00  6.31047397e+00  4.96972983e+00\n",
      "  3.24417188e+00  5.13942558e+00 -2.02428227e-02 -3.01287533e-01\n",
      " -1.45355332e-01 -2.69023746e-01 -6.01714157e-03] <class 'numpy.ndarray'>\n",
      "[ 1.41960389e+00  5.58058554e+00  6.60364049e+00  5.28336413e+00\n",
      "  3.14031129e+00  5.39417219e+00 -1.15366721e-02 -2.90298734e-01\n",
      " -1.48776875e-01 -2.80991257e-01 -2.74149010e-03] <class 'numpy.ndarray'>\n",
      "[ 1.41656488  5.72223777  5.9812734   5.06974629  3.35261512  5.28418411\n",
      " -0.0210356  -0.2855148  -0.14411184 -0.28427507 -0.01082274] <class 'numpy.ndarray'>\n",
      "[ 1.41806896e+00  5.94607025e+00  6.49511583e+00  5.41076557e+00\n",
      "  3.10791808e+00  5.31655217e+00 -5.39690152e-03 -2.85001280e-01\n",
      " -1.49781816e-01 -2.92521765e-01 -1.91507423e-02] <class 'numpy.ndarray'>\n",
      "[ 1.42764196  5.96013073  5.84929297  4.98489087  3.01421209  4.94734576\n",
      " -0.02425954 -0.29314203 -0.14321511 -0.29546253 -0.01888957] <class 'numpy.ndarray'>\n",
      "[ 1.42432322  5.58509507  5.78067075  5.02221405  3.05294334  4.93535249\n",
      " -0.00812136 -0.3103475  -0.15009258 -0.26544082 -0.02577223] <class 'numpy.ndarray'>\n",
      "[ 1.41810859  5.75218756  5.9428737   5.01964064  3.31485089  4.87746517\n",
      " -0.01869741 -0.29203948 -0.13361722 -0.25355994 -0.01502595] <class 'numpy.ndarray'>\n",
      "[ 1.42511562e+00  5.65314722e+00  6.21179690e+00  5.13389111e+00\n",
      "  3.44011590e+00  4.87336270e+00 -3.69097492e-04 -2.77787201e-01\n",
      " -1.37605777e-01 -2.82176914e-01 -2.18339178e-03] <class 'numpy.ndarray'>\n",
      "[ 1.43773433e+00  5.44621441e+00  6.13669633e+00  5.36015803e+00\n",
      "  3.20735540e+00  5.04892340e+00 -7.25457306e-04 -2.86558774e-01\n",
      " -1.38873955e-01 -2.59723667e-01  1.60588027e-03] <class 'numpy.ndarray'>\n",
      "[ 1.43474025e+00  5.43482251e+00  6.08595309e+00  5.22474111e+00\n",
      "  3.23554773e+00  4.93758862e+00 -1.88140429e-02 -2.85553462e-01\n",
      " -1.44530661e-01 -2.72816060e-01  5.11705804e-03] <class 'numpy.ndarray'>\n",
      "[ 1.44228987e+00  5.33325764e+00  6.18257828e+00  4.96236039e+00\n",
      "  3.07163549e+00  5.32331865e+00 -2.49153390e-02 -3.05074644e-01\n",
      " -1.44583011e-01 -2.71087714e-01  4.45867103e-03] <class 'numpy.ndarray'>\n",
      "[ 1.41127734  5.9089145   5.92606244  4.75364267  3.00175967  5.61125669\n",
      " -0.01869076 -0.3076616  -0.15967117 -0.28927889 -0.009087  ] <class 'numpy.ndarray'>\n",
      "[ 1.42669439e+00  5.67132467e+00  5.89681563e+00  4.82903722e+00\n",
      "  3.20304730e+00  5.86633948e+00 -1.44166801e-02 -2.99076016e-01\n",
      " -1.53945086e-01 -3.11788205e-01  2.28441018e-03] <class 'numpy.ndarray'>\n",
      "[ 1.42682096  5.34743197  6.30407492  5.12194567  3.1906501   5.72325069\n",
      " -0.01058751 -0.30906615 -0.13242013 -0.29135499 -0.02084502] <class 'numpy.ndarray'>\n",
      "[ 1.41682542  5.85742939  6.24505368  5.16906474  3.29951081  5.09651743\n",
      " -0.01389773 -0.29511625 -0.16450777 -0.27263851 -0.02110822] <class 'numpy.ndarray'>\n",
      "[ 1.42652062e+00  5.68031815e+00  6.13666713e+00  4.90079736e+00\n",
      "  3.40064274e+00  5.18115007e+00 -8.58381513e-04 -3.15482919e-01\n",
      " -1.25118512e-01 -2.88325963e-01 -4.86742076e-03] <class 'numpy.ndarray'>\n",
      "[ 1.40603703  5.31317894  5.84097678  5.08802608  3.38665258  5.26893\n",
      " -0.01540369 -0.30663839 -0.12931879 -0.25277997 -0.01690676] <class 'numpy.ndarray'>\n",
      "[ 1.41220494  5.83233131  5.33208454  5.18012601  3.23064052  5.40135936\n",
      " -0.02277366 -0.30316692 -0.1610484  -0.26443728 -0.01175243] <class 'numpy.ndarray'>\n",
      "[ 1.41535056  5.91964806  5.33360957  5.31015946  3.2323907   5.38342856\n",
      " -0.02153126 -0.29919528 -0.16399996 -0.25887062 -0.01239138] <class 'numpy.ndarray'>\n",
      "[ 1.40246716  4.81052963  4.82078475  4.80434214  2.96719594  4.77673221\n",
      " -0.01549229 -0.30105419 -0.15497485 -0.23469705 -0.00879606] <class 'numpy.ndarray'>\n",
      "[ 1.41598876e+00  4.94335488e+00  4.90499579e+00  4.78748436e+00\n",
      "  3.08568352e+00  4.90674783e+00  5.26055376e-03 -3.27906924e-01\n",
      " -1.49189994e-01 -2.74337943e-01  4.71997315e-03] <class 'numpy.ndarray'>\n",
      "[ 1.4078893   5.35816252  5.09330255  5.02115361  3.32562178  4.80787906\n",
      " -0.00989433 -0.31323526 -0.17121527 -0.25999891 -0.00704351] <class 'numpy.ndarray'>\n",
      "[ 1.41190122  5.22151682  5.48446139  5.38171795  3.27819929  5.02031582\n",
      " -0.0079848  -0.32264935 -0.13722139 -0.26282812 -0.00836011] <class 'numpy.ndarray'>\n",
      "[ 1.41924165e+00  5.60770652e+00  5.51931486e+00  5.45627849e+00\n",
      "  3.28153967e+00  5.04121160e+00 -4.92341412e-03 -3.15292220e-01\n",
      " -1.74986252e-01 -2.79591708e-01  8.46407801e-03] <class 'numpy.ndarray'>\n",
      "[ 1.41126521e+00  5.83037100e+00  5.76712152e+00  5.05582583e+00\n",
      "  3.23452636e+00  5.15719935e+00 -1.38894582e-02 -3.17076110e-01\n",
      " -1.93328852e-01 -2.77238766e-01 -4.50084293e-03] <class 'numpy.ndarray'>\n",
      "[ 1.43911844  5.4093302   5.85098098  4.730726    3.16244075  5.28987216\n",
      " -0.01327138 -0.32060463 -0.18604468 -0.27200273  0.00658954] <class 'numpy.ndarray'>\n",
      "[ 1.43243887e+00  5.52633730e+00  5.80641798e+00  4.79287580e+00\n",
      "  3.17665029e+00  5.38187802e+00 -1.74724562e-02 -3.10742268e-01\n",
      " -1.94786700e-01 -2.70369283e-01 -4.24562123e-03] <class 'numpy.ndarray'>\n",
      "[ 1.43852825  5.604595    6.03171912  4.93309728  3.1771496   5.7334923\n",
      " -0.00694796 -0.31977457 -0.17872904 -0.24525854 -0.00942794] <class 'numpy.ndarray'>\n",
      "[ 1.43157541e+00  5.88907785e+00  6.35810595e+00  4.94128250e+00\n",
      "  3.35696293e+00  5.57402704e+00  1.04432697e-02 -2.99166742e-01\n",
      " -1.67691373e-01 -2.79115847e-01  2.99259805e-03] <class 'numpy.ndarray'>\n",
      "[ 1.42477238e+00  5.91295708e+00  6.04798171e+00  5.01187147e+00\n",
      "  3.29507247e+00  5.30400008e+00 -5.62126511e-03 -2.98607819e-01\n",
      " -1.50354348e-01 -2.56366080e-01  5.51825427e-03] <class 'numpy.ndarray'>\n",
      "[ 1.42757742e+00  5.69433772e+00  6.15765892e+00  4.98014896e+00\n",
      "  3.27693941e+00  5.06885911e+00  6.52961662e-03 -3.26772479e-01\n",
      " -1.64433813e-01 -2.51826282e-01  2.28155560e-03] <class 'numpy.ndarray'>\n",
      "[ 1.42861831e+00  5.79783080e+00  6.21480707e+00  4.98986453e+00\n",
      "  3.24917855e+00  5.18315732e+00 -1.05458079e-02 -3.19492071e-01\n",
      " -1.55667234e-01 -2.70099569e-01  4.55642079e-03] <class 'numpy.ndarray'>\n",
      "[ 1.41975671e+00  5.61155941e+00  6.49001443e+00  5.28952224e+00\n",
      "  3.14633236e+00  5.43420660e+00 -1.96139105e-03 -3.08442523e-01\n",
      " -1.58991900e-01 -2.82541475e-01  8.02748929e-03] <class 'numpy.ndarray'>\n",
      "[ 1.41634547e+00  5.75553204e+00  5.88882771e+00  5.07882824e+00\n",
      "  3.36043928e+00  5.32506283e+00 -1.14436490e-02 -3.03691462e-01\n",
      " -1.54397352e-01 -2.85854999e-01 -1.94665820e-04] <class 'numpy.ndarray'>\n",
      "[ 1.41790641e+00  5.98077346e+00  6.39103630e+00  5.41538404e+00\n",
      "  3.11680980e+00  5.36324963e+00  4.18658812e-03 -3.02980313e-01\n",
      " -1.60413300e-01 -2.93915373e-01 -8.60516449e-03] <class 'numpy.ndarray'>\n",
      "[ 1.42740575  5.9869324   5.7533262   4.99680747  3.02079899  4.98962222\n",
      " -0.01455689 -0.31165751 -0.15400377 -0.29653716 -0.00867984] <class 'numpy.ndarray'>\n",
      "[ 1.42423958e+00  5.60534906e+00  5.67846369e+00  5.01728800e+00\n",
      "  3.06195542e+00  4.98019358e+00  1.44602883e-03 -3.28972871e-01\n",
      " -1.60900046e-01 -2.66856142e-01 -1.53188490e-02] <class 'numpy.ndarray'>\n",
      "[ 1.41794059e+00  5.77325332e+00  5.84787837e+00  5.01405341e+00\n",
      "  3.32048654e+00  4.91766460e+00 -9.16926187e-03 -3.10432188e-01\n",
      " -1.44557866e-01 -2.54858408e-01 -4.72867026e-03] <class 'numpy.ndarray'>\n",
      "[ 1.42499943  5.67198803  6.12305517  5.13352975  3.44421027  4.90972095\n",
      "  0.00909011 -0.29630988 -0.14895696 -0.28320775  0.008985  ] <class 'numpy.ndarray'>\n",
      "[ 1.43772364  5.46390721  6.0384741   5.36392947  3.21446597  5.08100975\n",
      "  0.00879657 -0.30508523 -0.14983657 -0.26094142  0.01282573] <class 'numpy.ndarray'>\n",
      "[ 1.43472626  5.45606359  5.99954538  5.23295007  3.2415864   4.96469983\n",
      " -0.00930388 -0.30362807 -0.15508447 -0.27433514  0.01634672] <class 'numpy.ndarray'>\n",
      "[ 1.44224065  5.35460124  6.08742834  4.97341655  3.07804425  5.35242902\n",
      " -0.01543768 -0.32310882 -0.15520558 -0.27297284  0.01545799] <class 'numpy.ndarray'>\n",
      "[ 1.41122903e+00  5.93098816e+00  5.83900619e+00  4.77792792e+00\n",
      "  3.00506087e+00  5.64284399e+00 -9.16586307e-03 -3.25826764e-01\n",
      " -1.70293518e-01 -2.90859680e-01  2.17832467e-03] <class 'numpy.ndarray'>\n",
      "[ 1.42667585e+00  5.69064108e+00  5.80826121e+00  4.84989512e+00\n",
      "  3.20754539e+00  5.89190082e+00 -5.08902678e-03 -3.16953698e-01\n",
      " -1.64678903e-01 -3.13202945e-01  1.34755582e-02] <class 'numpy.ndarray'>\n",
      "[ 1.42671664e+00  5.36756598e+00  6.20134897e+00  5.14976772e+00\n",
      "  3.19351041e+00  5.76264780e+00 -1.33920570e-03 -3.27002608e-01\n",
      " -1.43447300e-01 -2.93007811e-01 -9.37296566e-03] <class 'numpy.ndarray'>\n",
      "[ 1.41667531e+00  5.87949626e+00  6.14532458e+00  5.19801479e+00\n",
      "  3.30533200e+00  5.13877291e+00 -4.59685042e-03 -3.12710650e-01\n",
      " -1.75127942e-01 -2.74177495e-01 -9.88536832e-03] <class 'numpy.ndarray'>\n",
      "[ 1.42648134e+00  5.70831189e+00  6.05499803e+00  4.91600136e+00\n",
      "  3.40891559e+00  5.21782152e+00  8.53569711e-03 -3.33501406e-01\n",
      " -1.36035289e-01 -2.89968835e-01  5.53716720e-03] <class 'numpy.ndarray'>\n",
      "[ 1.40596085  5.33751676  5.75123025  5.10686299  3.39408878  5.30630019\n",
      " -0.00599907 -0.32415663 -0.13971008 -0.25422244 -0.00681406] <class 'numpy.ndarray'>\n",
      "[ 1.41213080e+00  5.86079350e+00  5.25605901e+00  5.19881561e+00\n",
      "  3.23818781e+00  5.43786692e+00 -1.32512128e-02 -3.20689831e-01\n",
      " -1.71384034e-01 -2.65805292e-01 -1.81361494e-03] <class 'numpy.ndarray'>\n",
      "[ 1.41529414e+00  5.95152832e+00  5.26549952e+00  5.33369505e+00\n",
      "  3.23611568e+00  5.42506412e+00 -1.20347792e-02 -3.16276447e-01\n",
      " -1.73887090e-01 -2.60125091e-01 -2.13468495e-03] <class 'numpy.ndarray'>\n",
      "[ 1.40190063e+00  4.82507483e+00  4.75543232e+00  4.82841977e+00\n",
      "  2.97033568e+00  4.81450931e+00 -6.00096935e-03 -3.17259048e-01\n",
      " -1.64891358e-01 -2.35834094e-01  1.75173881e-03] <class 'numpy.ndarray'>\n",
      "[ 1.41530233  4.9495666   4.84472474  4.81351565  3.09171482  4.93849922\n",
      "  0.01468881 -0.34400383 -0.15933059 -0.27544911  0.01485749] <class 'numpy.ndarray'>\n",
      "[ 1.40748074e+00  5.36560318e+00  5.02194975e+00  5.04397584e+00\n",
      "  3.33302034e+00  4.83768238e+00 -4.32142074e-04 -3.28929149e-01\n",
      " -1.80935167e-01 -2.61153633e-01  2.88644431e-03] <class 'numpy.ndarray'>\n",
      "[ 1.41138484e+00  5.22930424e+00  5.41863118e+00  5.39508712e+00\n",
      "  3.28642050e+00  5.05238356e+00  1.53851905e-03 -3.38525361e-01\n",
      " -1.47430605e-01 -2.64029678e-01  1.06188403e-03] <class 'numpy.ndarray'>\n"
     ]
    },
    {
     "data": {
      "text/plain": [
       "array([[ 7.29936807e-02,  1.01534507e+02,  1.09545845e+02, ...,\n",
       "        -2.64130136e-04, -1.52355401e-03, -1.94369678e-03],\n",
       "       [ 8.36490856e-01,  1.00123392e+02,  1.05959358e+02, ...,\n",
       "         6.35869726e-04, -3.12144587e-03, -2.98777035e-03],\n",
       "       [ 1.02700665e+00,  3.23757929e+01,  1.01870475e+02, ...,\n",
       "         1.30186941e-03, -1.33292961e-03, -3.37801855e-03],\n",
       "       ...,\n",
       "       [ 1.41530233e+00,  4.94956660e+00,  4.84472474e+00, ...,\n",
       "        -1.59330595e-01, -2.75449109e-01,  1.48574867e-02],\n",
       "       [ 1.40748074e+00,  5.36560318e+00,  5.02194975e+00, ...,\n",
       "        -1.80935167e-01, -2.61153633e-01,  2.88644431e-03],\n",
       "       [ 1.41138484e+00,  5.22930424e+00,  5.41863118e+00, ...,\n",
       "        -1.47430605e-01, -2.64029678e-01,  1.06188403e-03]])"
      ]
     },
     "execution_count": 66,
     "metadata": {},
     "output_type": "execute_result"
    }
   ],
   "source": [
    "# 구현환경은 n_iter만큼 반복하면서 수행을 하겟다\n",
    "rmse_test = list()\n",
    "for nr, i in enumerate(range(1, n_iter)): # 0:1, 1:2, ... ~ 298:299\n",
    "    # 기준값 확인\n",
    "    #print( nr, i)\n",
    "    #break\n",
    "    # 난수 변경 (학습및 예측 수행시 훈련/검증 폴드의 성분이 바뀐다)\n",
    "    fm.random_state = i * seed # 1*123, 2*123 , .. 299*123\n",
    "    # 학습 및 예측\n",
    "    y_pred = fm.fit_predict(X_train, y_train, X_dev_test, n_more_iter=step_size )\n",
    "    # 손실함수 값 획득\n",
    "    loss_v = np.sqrt( mean_squared_error( y_pred, y_dev_test ) )\n",
    "    # 손실함수 값을 모은다\n",
    "    rmse_test.append( loss_v )\n",
    "    # fm.hyper_param_ <= 배열, 11개의 성분을 가진다\n",
    "    print(fm.hyper_param_, type(fm.hyper_param_))\n",
    "    # hyper_param_을 담기\n",
    "    # hyper_param는 300x11, hyper_param_은 11이다\n",
    "    hyper_param[ nr, :] = fm.hyper_param_\n",
    "    #break\n",
    "hyper_param"
   ]
  },
  {
   "cell_type": "code",
   "execution_count": 67,
   "metadata": {},
   "outputs": [
    {
     "name": "stdout",
     "output_type": "stream",
     "text": [
      "299\n",
      "(299, 11)\n"
     ]
    }
   ],
   "source": [
    "# 손실함수가 모여있는 자료구조\n",
    "print( len(rmse_test) )\n",
    "# fm.hyper_param_ 이 모여있는 자료구조\n",
    "print( hyper_param.shape )"
   ]
  },
  {
   "cell_type": "code",
   "execution_count": 68,
   "metadata": {},
   "outputs": [],
   "source": [
    "# 시각화를 통해 값의 수렴의 추이를 살펴본다\n",
    "from matplotlib import pyplot as plt"
   ]
  },
  {
   "cell_type": "code",
   "execution_count": 69,
   "metadata": {},
   "outputs": [
    {
     "data": {
      "text/plain": [
       "((299,), array([1]), array([299]))"
      ]
     },
     "execution_count": 69,
     "metadata": {},
     "output_type": "execute_result"
    }
   ],
   "source": [
    "x = np.arange( 1, n_iter )\n",
    "x.shape, x[:1], x[-1:]"
   ]
  },
  {
   "cell_type": "code",
   "execution_count": 70,
   "metadata": {},
   "outputs": [
    {
     "data": {
      "text/plain": [
       "<matplotlib.legend.Legend at 0x7f9fffb4c898>"
      ]
     },
     "execution_count": 70,
     "metadata": {},
     "output_type": "execute_result"
    },
    {
     "data": {
      "image/png": "[encoded data removed]",
      "text/plain": [
       "<Figure size 1080x576 with 4 Axes>"
      ]
     },
     "metadata": {},
     "output_type": "display_data"
    }
   ],
   "source": [
    "# 화면을 2x2 격자 모양으로 차트를 배치\n",
    "fig, axes =  plt.subplots( nrows=2, ncols=2, sharex=True, figsize=(15,8) )\n",
    "\n",
    "# x축은 1~299, 학습 수행횟수\n",
    "axes[0, 0].plot( x, rmse_test, label='dev test rmse', color='r' )\n",
    "axes[0, 0].legend()\n",
    "\n",
    "axes[0, 1].plot( x, hyper_param[:, 0], label='alpha', color='g' )\n",
    "axes[0, 1].legend()\n",
    "\n",
    "axes[1, 0].plot( x, hyper_param[:, 1], label='lamdba_w', color='b' )\n",
    "axes[1, 0].legend()\n",
    "\n",
    "axes[1, 1].plot( x, hyper_param[:, 3], label='mu_w', color='b' )\n",
    "axes[1, 1].legend()"
   ]
  },
  {
   "cell_type": "code",
   "execution_count": 71,
   "metadata": {},
   "outputs": [
    {
     "data": {
      "text/plain": [
       "<matplotlib.legend.Legend at 0x7f9ffe6cd3c8>"
      ]
     },
     "execution_count": 71,
     "metadata": {},
     "output_type": "execute_result"
    },
    {
     "data": {
      "image/png": "[encoded data removed]",
      "text/plain": [
       "<Figure size 1080x576 with 4 Axes>"
      ]
     },
     "metadata": {},
     "output_type": "display_data"
    }
   ],
   "source": [
    "# 초기는 성능이 않나오는 지점이라서, 그래프가 길게 보이고, 세부 변화가 보이지 않는다\n",
    "# 굳이 의미 없는 초기 수행 횟수는 제거하여서 차트를 좀더 상세하게 표현하겟다\n",
    "# 상위 5개 데이터는 누락해서 처리 (lamdba_w이 값이 10 정도에서 수렴하는 것으로 보인다)\n",
    "fig, axes =  plt.subplots( nrows=2, ncols=2, sharex=True, figsize=(15,8) )\n",
    "\n",
    "# x축은 1~299, 학습 수행횟수\n",
    "skip_idx = 5\n",
    "axes[0, 0].plot( x[skip_idx:], rmse_test[skip_idx:], label='dev test rmse', color='r' )\n",
    "axes[0, 0].legend()\n",
    "\n",
    "axes[0, 1].plot( x[skip_idx:], hyper_param[skip_idx:, 0], label='alpha', color='g' )\n",
    "axes[0, 1].legend()\n",
    "\n",
    "axes[1, 0].plot( x[skip_idx:], hyper_param[skip_idx:, 1], label='lamdba_w', color='b' )\n",
    "axes[1, 0].legend()\n",
    "\n",
    "axes[1, 1].plot( x[skip_idx:], hyper_param[skip_idx:, 3], label='mu_w', color='b' )\n",
    "axes[1, 1].legend()"
   ]
  },
  {
   "cell_type": "code",
   "execution_count": 72,
   "metadata": {},
   "outputs": [
    {
     "data": {
      "text/plain": [
       "0.8959692745565979"
      ]
     },
     "execution_count": 72,
     "metadata": {},
     "output_type": "execute_result"
    }
   ],
   "source": [
    "# 손실함수의 최소값 \n",
    "# 예측을 수행한후 획득한 값-> 최초 기준값으로보고, 이 수치보다 낮추면 성능을 향상\n",
    "np.min(rmse_test)"
   ]
  },
  {
   "cell_type": "markdown",
   "metadata": {},
   "source": [
    "- 반복횟수가 100~150번 사이로 진입을 하면 rmse값은 안정화 되간다(수렴한다)\n",
    "- 하이퍼파라미터들은 100, 150회를 넘으면서 안정화되가고 있다\n",
    "- 검증 데이터, 테스트 데이터등 표준편차가 회귀 문제의 손실함수값의 평가를 담당하는 잣대\n",
    "- 경향\n",
    "    - 평균제곱근 오차값의 제곱근(손실함수)는 표준 편차에 가까워질려는 경향이 있다\n",
    "    - 성능 향상은 반드시 값을 줄이는 방향이 아닌, 표준편차에 가까워지게 하는 방향으로 전개를 하면 된다"
   ]
  },
  {
   "cell_type": "code",
   "execution_count": 73,
   "metadata": {},
   "outputs": [
    {
     "data": {
      "text/plain": [
       "1.1189348256323237"
      ]
     },
     "execution_count": 73,
     "metadata": {},
     "output_type": "execute_result"
    }
   ],
   "source": [
    "# 검증 데이터의 표준편차\n",
    "np.std( y_dev_test )"
   ]
  },
  {
   "cell_type": "code",
   "execution_count": 74,
   "metadata": {},
   "outputs": [
    {
     "name": "stdout",
     "output_type": "stream",
     "text": [
      "rank:4\trmse:0.903\n",
      "rank:8\trmse:0.898\n",
      "rank:16\trmse:0.896\n",
      "rank:32\trmse:0.893\n",
      "rank:64\trmse:0.893\n"
     ]
    }
   ],
   "source": [
    "n_iter    = 100\n",
    "seed      = 333\n",
    "rmse_test = list()\n",
    "# 랭크값 나열 \n",
    "ranks     = [4, 8, 16, 32, 64]\n",
    "\n",
    "for rank in ranks:\n",
    "    # 다른 하이퍼파라미터는 모두 고정하고, rank만 바꿔가면서 rmse의 미치는 영향 확인\n",
    "    fm = mcmc.FMRegression( n_iter=n_iter, rank=rank, random_state=seed )\n",
    "    # 학습 후 예측\n",
    "    y_pred = fm.fit_predict(X_train, y_train, X_dev_test )\n",
    "    # 손실함수 계산\n",
    "    loss_v = np.sqrt( mean_squared_error( y_pred, y_dev_test ) )    \n",
    "    rmse_test.append( loss_v )\n",
    "    # 출력\n",
    "    print( 'rank:{}\\trmse:{:.3f}'.format( rank, loss_v) )      "
   ]
  },
  {
   "cell_type": "markdown",
   "metadata": {},
   "source": [
    "- rank 32부터 값을 수렴하고 있다 "
   ]
  },
  {
   "cell_type": "code",
   "execution_count": 75,
   "metadata": {},
   "outputs": [
    {
     "name": "stdout",
     "output_type": "stream",
     "text": [
      "0.8928263696287478\n"
     ]
    },
    {
     "data": {
      "image/png": "[encoded data removed]",
      "text/plain": [
       "<Figure size 432x288 with 1 Axes>"
      ]
     },
     "metadata": {},
     "output_type": "display_data"
    }
   ],
   "source": [
    "# 시각화 \n",
    "plt.plot(ranks, rmse_test, label='rank per rmse', color='r')\n",
    "plt.legend()\n",
    "print( np.min( rmse_test ) )\n",
    "# rank값 32에서 안정화가 되므로, rank값은 32를 추천(현 데이터에서)"
   ]
  },
  {
   "cell_type": "code",
   "execution_count": 76,
   "metadata": {},
   "outputs": [
    {
     "data": {
      "text/plain": [
       "333"
      ]
     },
     "execution_count": 76,
     "metadata": {},
     "output_type": "execute_result"
    }
   ],
   "source": [
    "seed"
   ]
  },
  {
   "cell_type": "code",
   "execution_count": 77,
   "metadata": {},
   "outputs": [
    {
     "data": {
      "text/plain": [
       "<9430x2623 sparse matrix of type '<class 'numpy.float64'>'\n",
       "\twith 18858 stored elements in Compressed Sparse Row format>"
      ]
     },
     "execution_count": 77,
     "metadata": {},
     "output_type": "execute_result"
    }
   ],
   "source": [
    "X_test"
   ]
  },
  {
   "cell_type": "code",
   "execution_count": 78,
   "metadata": {},
   "outputs": [],
   "source": [
    "# 훈련, 검증에 한번도 관여하지 않은 데이터 X_test, y_test를 위에서 만든 rank=32에\n",
    "# 대비하여 평가 \n",
    "fm     = mcmc.FMRegression( n_iter=300, rank=32, random_state=seed )"
   ]
  },
  {
   "cell_type": "code",
   "execution_count": 79,
   "metadata": {},
   "outputs": [],
   "source": [
    "y_pred = fm.fit_predict( X_train, y_train, X_test )"
   ]
  },
  {
   "cell_type": "code",
   "execution_count": 80,
   "metadata": {},
   "outputs": [
    {
     "data": {
      "text/plain": [
       "0.921496840062798"
      ]
     },
     "execution_count": 80,
     "metadata": {},
     "output_type": "execute_result"
    }
   ],
   "source": [
    "np.sqrt( mean_squared_error( y_pred, y_test ) )"
   ]
  },
  {
   "cell_type": "markdown",
   "metadata": {},
   "source": [
    "- 상위에서 획득한 0.89에 비해서는 0.92는 높은값이다\n",
    "- 하이퍼파라미터는 고정하고 나서, 최적화를 생각해본다면, 데이터쪽을 봐야하는데,\n",
    "- 편차가 크다고 느낄수 있는 파트가 y_train (1 ~ 5)를 0 ~ 1사이로 정규화 하여 성능향상을 확인 -> 평점 자체가 들쑥 날쑥하기 때문에, 0 ~ 1 사이 구간으로 데이터를 표현"
   ]
  },
  {
   "cell_type": "code",
   "execution_count": 81,
   "metadata": {},
   "outputs": [
    {
     "data": {
      "text/plain": [
       "(numpy.ndarray, (81513,), 1, 1)"
      ]
     },
     "execution_count": 81,
     "metadata": {},
     "output_type": "execute_result"
    }
   ],
   "source": [
    "type( y_train ),y_train.shape, y_train.ndim, len(y_train.shape)"
   ]
  },
  {
   "cell_type": "code",
   "execution_count": 82,
   "metadata": {},
   "outputs": [
    {
     "data": {
      "text/plain": [
       "array([[4.],\n",
       "       [5.],\n",
       "       [2.],\n",
       "       ...,\n",
       "       [4.],\n",
       "       [1.],\n",
       "       [1.]])"
      ]
     },
     "execution_count": 82,
     "metadata": {},
     "output_type": "execute_result"
    }
   ],
   "source": [
    "# 평점 정규화를 위해서 standardScaler를 사용하겠다\n",
    "# 데이터는 2차원 배열이 되야 한다\n",
    "# y_train => 2차 배열로 재구성\n",
    "y_train.reshape( -1, 1)"
   ]
  },
  {
   "cell_type": "code",
   "execution_count": 83,
   "metadata": {},
   "outputs": [],
   "source": [
    "from sklearn.preprocessing import StandardScaler, MinMaxScaler"
   ]
  },
  {
   "cell_type": "code",
   "execution_count": 84,
   "metadata": {},
   "outputs": [
    {
     "data": {
      "text/plain": [
       "(81513,)"
      ]
     },
     "execution_count": 84,
     "metadata": {},
     "output_type": "execute_result"
    }
   ],
   "source": [
    "scaler       = StandardScaler()\n",
    "y_train_norm = scaler.fit_transform( y_train.reshape( -1, 1) ).ravel()\n",
    "y_train_norm.shape"
   ]
  },
  {
   "cell_type": "code",
   "execution_count": 85,
   "metadata": {},
   "outputs": [
    {
     "data": {
      "text/plain": [
       "(81513,)"
      ]
     },
     "execution_count": 85,
     "metadata": {},
     "output_type": "execute_result"
    }
   ],
   "source": [
    "y_train_norm.shape"
   ]
  },
  {
   "cell_type": "code",
   "execution_count": 86,
   "metadata": {},
   "outputs": [
    {
     "data": {
      "text/plain": [
       "(1.3123995664191799, -2.2373992923481385)"
      ]
     },
     "execution_count": 86,
     "metadata": {},
     "output_type": "execute_result"
    }
   ],
   "source": [
    "np.max(y_train_norm), np.min(y_train_norm)"
   ]
  },
  {
   "cell_type": "code",
   "execution_count": 87,
   "metadata": {},
   "outputs": [
    {
     "data": {
      "text/plain": [
       "0.8167593559001377"
      ]
     },
     "execution_count": 87,
     "metadata": {},
     "output_type": "execute_result"
    }
   ],
   "source": [
    "# 다시 테스트\n",
    "fm     = mcmc.FMRegression( n_iter=300, rank=32, random_state=seed )\n",
    "y_pred = fm.fit_predict( X_train, y_train_norm, X_test )\n",
    "np.sqrt( mean_squared_error( y_pred, scaler.transform(y_test.reshape( -1, 1)) ) )"
   ]
  },
  {
   "cell_type": "code",
   "execution_count": 88,
   "metadata": {},
   "outputs": [],
   "source": [
    "# 평점 정규화전 0.921496840062798\n",
    "# 평점 정규화후 0.8167593559001377"
   ]
  },
  {
   "cell_type": "code",
   "execution_count": 89,
   "metadata": {},
   "outputs": [
    {
     "data": {
      "text/plain": [
       "<matplotlib.legend.Legend at 0x7f9fff4c7d68>"
      ]
     },
     "execution_count": 89,
     "metadata": {},
     "output_type": "execute_result"
    },
    {
     "data": {
      "image/png": "[encoded data removed]",
      "text/plain": [
       "<Figure size 1080x576 with 4 Axes>"
      ]
     },
     "metadata": {},
     "output_type": "display_data"
    }
   ],
   "source": [
    "# 하이퍼파라미터 고정, 평점 정규화후 수렴과정 확인\n",
    "n_iter    = 200\n",
    "step_size = 1\n",
    "seed      = 123\n",
    "rank      = 32\n",
    "# 알고리즘 생성 \n",
    "fm        = mcmc.FMRegression( n_iter=0, rank=rank, random_state=seed )\n",
    "# 훈련및 예측\n",
    "fm.fit_predict( X_train, y_train_norm, X_test )\n",
    "\n",
    "#손실함수 \n",
    "rmse_test = list()\n",
    "#하이퍼파람\n",
    "hyper_param=np.zeros( (n_iter-1, 2*rank + 3), dtype=np.float64 ) \n",
    "\n",
    "for nr, i in enumerate( range(1, n_iter) ): # 1~199\n",
    "    fm.random_state = i * seed\n",
    "    # 데이터가 작아서 조금식 범위를 이동해가면서 훈련및 예측 : step_size\n",
    "    y_pred = fm.fit_predict( X_train, y_train_norm, X_test, n_more_iter=step_size )\n",
    "    # 예측값을 되돌려서 y_test 원래값(1~5)에 들어오게 복원\n",
    "    rmse_test.append( np.sqrt( mean_squared_error( \n",
    "                                scaler.inverse_transform(y_pred), y_test ) ) )\n",
    "    hyper_param[ nr, :] = fm.hyper_param_\n",
    "    \n",
    "# 시각화\n",
    "# step_size가 1이여서 위에서는 표현을 않했을뿐, 실제로는 곱해줘야 한다\n",
    "x       = np.arange( 1, n_iter ) * step_size\n",
    "skip_idx= 5 # burn_in = 5 이런 변수명으로 주로 쓴다\n",
    "\n",
    "fig, axes =  plt.subplots( nrows=2, ncols=2, sharex=True, figsize=(15,8) )\n",
    "\n",
    "axes[0, 0].plot( x[skip_idx:], rmse_test[skip_idx:], label='dev test rmse', color='r' )\n",
    "axes[0, 0].legend()\n",
    "\n",
    "axes[0, 1].plot( x[skip_idx:], hyper_param[skip_idx:, 0], label='alpha', color='g' )\n",
    "axes[0, 1].legend()\n",
    "\n",
    "axes[1, 0].plot( x[skip_idx:], hyper_param[skip_idx:, 1], label='lamdba_w', color='b' )\n",
    "axes[1, 0].legend()\n",
    "\n",
    "axes[1, 1].plot( x[skip_idx:], hyper_param[skip_idx:, 3], label='mu_w', color='b' )\n",
    "axes[1, 1].legend()"
   ]
  },
  {
   "cell_type": "code",
   "execution_count": 90,
   "metadata": {},
   "outputs": [
    {
     "name": "stdout",
     "output_type": "stream",
     "text": [
      "0.9298262388322737\n"
     ]
    }
   ],
   "source": [
    "# 최저값\n",
    "print( np.min(rmse_test) )"
   ]
  },
  {
   "cell_type": "code",
   "execution_count": 91,
   "metadata": {},
   "outputs": [
    {
     "data": {
      "text/plain": [
       "91"
      ]
     },
     "execution_count": 91,
     "metadata": {},
     "output_type": "execute_result"
    }
   ],
   "source": [
    "# y값이 최저값일때의 x값\n",
    "x[np.argmin(rmse_test)]"
   ]
  },
  {
   "cell_type": "code",
   "execution_count": 92,
   "metadata": {},
   "outputs": [
    {
     "data": {
      "text/plain": [
       "(array([  3,   6,   9,  12,  15,  18,  21,  24,  27,  30,  33,  36,  39,\n",
       "         42,  45,  48,  51,  54,  57,  60,  63,  66,  69,  72,  75,  78,\n",
       "         81,  84,  87,  90,  93,  96,  99, 102, 105, 108, 111, 114, 117,\n",
       "        120, 123, 126, 129, 132, 135, 138, 141, 144, 147, 150, 153, 156,\n",
       "        159, 162, 165, 168, 171, 174, 177, 180, 183, 186, 189, 192, 195,\n",
       "        198, 201, 204, 207, 210, 213, 216, 219, 222, 225, 228, 231, 234,\n",
       "        237, 240, 243, 246, 249, 252, 255, 258, 261, 264, 267, 270, 273,\n",
       "        276, 279, 282, 285, 288, 291, 294, 297, 300, 303, 306, 309, 312,\n",
       "        315, 318, 321, 324, 327, 330, 333, 336, 339, 342, 345, 348, 351,\n",
       "        354, 357, 360, 363, 366, 369, 372, 375, 378, 381, 384, 387, 390,\n",
       "        393, 396, 399, 402, 405, 408, 411, 414, 417, 420, 423, 426, 429,\n",
       "        432, 435, 438, 441, 444, 447, 450, 453, 456, 459, 462, 465, 468,\n",
       "        471, 474, 477, 480, 483, 486, 489, 492, 495, 498, 501, 504, 507,\n",
       "        510, 513, 516, 519, 522, 525, 528, 531, 534, 537, 540, 543, 546,\n",
       "        549, 552, 555, 558, 561, 564, 567, 570, 573, 576, 579, 582, 585,\n",
       "        588, 591, 594, 597]), (199,))"
      ]
     },
     "execution_count": 92,
     "metadata": {},
     "output_type": "execute_result"
    }
   ],
   "source": [
    "n_iter    = 200\n",
    "x = np.arange( 1, n_iter ) * 3\n",
    "x, x.shape"
   ]
  },
  {
   "cell_type": "markdown",
   "metadata": {},
   "source": [
    "#### 정보 추가\n",
    "\n",
    "- 현재는 사용자ID, 영화id만 존재 \n",
    "- 개봉연도, 사용자 나이, 성별, 평가연도등 추가\n",
    "- 이런 특성의 조합(어떤 특성을 사용하는가? 어떤 순서로 사용하는가?)"
   ]
  },
  {
   "cell_type": "code",
   "execution_count": 93,
   "metadata": {},
   "outputs": [
    {
     "data": {
      "text/plain": [
       "mid                            int64\n",
       "title                         object\n",
       "release_date                  object\n",
       "video_release_date           float64\n",
       "imdb_url                      object\n",
       "uid                            int64\n",
       "rating                         int64\n",
       "unix_timestamp                 int64\n",
       "date                  datetime64[ns]\n",
       "age                            int64\n",
       "m                             object\n",
       "job                           object\n",
       "zip_code                      object\n",
       "dtype: object"
      ]
     },
     "execution_count": 93,
     "metadata": {},
     "output_type": "execute_result"
    }
   ],
   "source": [
    "movie_lens.columns\n",
    "movie_lens.dtypes"
   ]
  },
  {
   "cell_type": "code",
   "execution_count": 94,
   "metadata": {},
   "outputs": [
    {
     "data": {
      "text/plain": [
       "1998"
      ]
     },
     "execution_count": 94,
     "metadata": {},
     "output_type": "execute_result"
    }
   ],
   "source": [
    "# 'date' 컬럼값에서 년도 1998만 뽑아서 문자열로 다시 넣어라 'date1'으로 추가\n",
    "# 데이터 타입 자체가 datetime64즉 timestamp여서 시간의 성분을 직접 추출할수 있다\n",
    "movie_lens['date'][0].year"
   ]
  },
  {
   "cell_type": "code",
   "execution_count": 95,
   "metadata": {},
   "outputs": [
    {
     "data": {
      "text/plain": [
       "('1998', str)"
      ]
     },
     "execution_count": 95,
     "metadata": {},
     "output_type": "execute_result"
    }
   ],
   "source": [
    "a= movie_lens['date'].apply( lambda x: str(x.year) )[0]\n",
    "a, type(a)"
   ]
  },
  {
   "cell_type": "code",
   "execution_count": 96,
   "metadata": {},
   "outputs": [],
   "source": [
    "movie_lens['date1'] = movie_lens['date'].apply( lambda x: str(x.year) )"
   ]
  },
  {
   "cell_type": "code",
   "execution_count": 97,
   "metadata": {},
   "outputs": [
    {
     "data": {
      "text/plain": [
       "mid                           object\n",
       "title                         object\n",
       "release_date                  object\n",
       "video_release_date           float64\n",
       "imdb_url                      object\n",
       "uid                           object\n",
       "rating                         int64\n",
       "unix_timestamp                 int64\n",
       "date                  datetime64[ns]\n",
       "age                            int64\n",
       "m                             object\n",
       "job                           object\n",
       "zip_code                      object\n",
       "date1                         object\n",
       "dtype: object"
      ]
     },
     "execution_count": 97,
     "metadata": {},
     "output_type": "execute_result"
    }
   ],
   "source": [
    "# 데이터 추가를 위해 조정\n",
    "movie_lens['uid'] = movie_lens['uid'].astype(str)\n",
    "movie_lens['mid'] = movie_lens['mid'].astype(str)\n",
    "movie_lens.dtypes"
   ]
  },
  {
   "cell_type": "code",
   "execution_count": 98,
   "metadata": {},
   "outputs": [
    {
     "data": {
      "text/html": [
       "<div>\n",
       "<style scoped>\n",
       "    .dataframe tbody tr th:only-of-type {\n",
       "        vertical-align: middle;\n",
       "    }\n",
       "\n",
       "    .dataframe tbody tr th {\n",
       "        vertical-align: top;\n",
       "    }\n",
       "\n",
       "    .dataframe thead th {\n",
       "        text-align: right;\n",
       "    }\n",
       "</style>\n",
       "<table border=\"1\" class=\"dataframe\">\n",
       "  <thead>\n",
       "    <tr style=\"text-align: right;\">\n",
       "      <th></th>\n",
       "      <th>mid</th>\n",
       "      <th>title</th>\n",
       "      <th>release_date</th>\n",
       "      <th>video_release_date</th>\n",
       "      <th>imdb_url</th>\n",
       "      <th>uid</th>\n",
       "      <th>rating</th>\n",
       "      <th>unix_timestamp</th>\n",
       "      <th>date</th>\n",
       "      <th>age</th>\n",
       "      <th>m</th>\n",
       "      <th>job</th>\n",
       "      <th>zip_code</th>\n",
       "      <th>date1</th>\n",
       "    </tr>\n",
       "  </thead>\n",
       "  <tbody>\n",
       "    <tr>\n",
       "      <th>0</th>\n",
       "      <td>1</td>\n",
       "      <td>Toy Story (1995)</td>\n",
       "      <td>01-Jan-1995</td>\n",
       "      <td>NaN</td>\n",
       "      <td>http://us.imdb.com/M/title-exact?Toy%20Story%2...</td>\n",
       "      <td>308</td>\n",
       "      <td>4</td>\n",
       "      <td>887736532</td>\n",
       "      <td>1998-02-17 17:28:52</td>\n",
       "      <td>60</td>\n",
       "      <td>M</td>\n",
       "      <td>retired</td>\n",
       "      <td>95076</td>\n",
       "      <td>1998</td>\n",
       "    </tr>\n",
       "  </tbody>\n",
       "</table>\n",
       "</div>"
      ],
      "text/plain": [
       "  mid             title release_date  video_release_date  \\\n",
       "0   1  Toy Story (1995)  01-Jan-1995                 NaN   \n",
       "\n",
       "                                            imdb_url  uid  rating  \\\n",
       "0  http://us.imdb.com/M/title-exact?Toy%20Story%2...  308       4   \n",
       "\n",
       "   unix_timestamp                date  age  m      job zip_code date1  \n",
       "0       887736532 1998-02-17 17:28:52   60  M  retired    95076  1998  "
      ]
     },
     "execution_count": 98,
     "metadata": {},
     "output_type": "execute_result"
    }
   ],
   "source": [
    "movie_lens[:1]"
   ]
  },
  {
   "cell_type": "code",
   "execution_count": 99,
   "metadata": {},
   "outputs": [],
   "source": [
    "# 컬럼 조합 후보리스트\n",
    "candidate_columns = [\n",
    "    ['uid','mid','age','m','date1','rating'], # 6\n",
    "    ['uid','mid','m','date1','rating'], # 5\n",
    "    ['uid','mid','age','m','rating'], # 5\n",
    "    ['uid','mid','rating'], # 3\n",
    "]\n",
    "# 어떤 조합, 순서(다 구성한것은 아니다)이 성능이 좋게 나오는지 확인"
   ]
  },
  {
   "cell_type": "code",
   "execution_count": 100,
   "metadata": {},
   "outputs": [
    {
     "data": {
      "text/html": [
       "<div>\n",
       "<style scoped>\n",
       "    .dataframe tbody tr th:only-of-type {\n",
       "        vertical-align: middle;\n",
       "    }\n",
       "\n",
       "    .dataframe tbody tr th {\n",
       "        vertical-align: top;\n",
       "    }\n",
       "\n",
       "    .dataframe thead th {\n",
       "        text-align: right;\n",
       "    }\n",
       "</style>\n",
       "<table border=\"1\" class=\"dataframe\">\n",
       "  <thead>\n",
       "    <tr style=\"text-align: right;\">\n",
       "      <th></th>\n",
       "      <th>uid</th>\n",
       "      <th>mid</th>\n",
       "      <th>m</th>\n",
       "      <th>date1</th>\n",
       "      <th>rating</th>\n",
       "    </tr>\n",
       "  </thead>\n",
       "  <tbody>\n",
       "    <tr>\n",
       "      <th>0</th>\n",
       "      <td>308</td>\n",
       "      <td>1</td>\n",
       "      <td>M</td>\n",
       "      <td>1998</td>\n",
       "      <td>4</td>\n",
       "    </tr>\n",
       "    <tr>\n",
       "      <th>1</th>\n",
       "      <td>308</td>\n",
       "      <td>4</td>\n",
       "      <td>M</td>\n",
       "      <td>1998</td>\n",
       "      <td>5</td>\n",
       "    </tr>\n",
       "  </tbody>\n",
       "</table>\n",
       "</div>"
      ],
      "text/plain": [
       "   uid mid  m date1  rating\n",
       "0  308   1  M  1998       4\n",
       "1  308   4  M  1998       5"
      ]
     },
     "execution_count": 100,
     "metadata": {},
     "output_type": "execute_result"
    }
   ],
   "source": [
    "movie_lens[ candidate_columns[1] ].head(2)"
   ]
  },
  {
   "cell_type": "markdown",
   "metadata": {},
   "source": [
    "- 아래코드는 테스트 코드 (start) "
   ]
  },
  {
   "cell_type": "code",
   "execution_count": 101,
   "metadata": {},
   "outputs": [
    {
     "data": {
      "text/plain": [
       "(100000, 5)"
      ]
     },
     "execution_count": 101,
     "metadata": {},
     "output_type": "execute_result"
    }
   ],
   "source": [
    "movie_lens[ candidate_columns[1] ].shape"
   ]
  },
  {
   "cell_type": "code",
   "execution_count": 102,
   "metadata": {},
   "outputs": [
    {
     "data": {
      "text/plain": [
       "(0, 14)"
      ]
     },
     "execution_count": 102,
     "metadata": {},
     "output_type": "execute_result"
    }
   ],
   "source": [
    "movie_lens.dropna().shape"
   ]
  },
  {
   "cell_type": "code",
   "execution_count": 103,
   "metadata": {},
   "outputs": [
    {
     "data": {
      "text/plain": [
       "(100000, 5)"
      ]
     },
     "execution_count": 103,
     "metadata": {},
     "output_type": "execute_result"
    }
   ],
   "source": [
    "# 누락값 제거 \n",
    "movie_lens[ candidate_columns[1] ].dropna().shape"
   ]
  },
  {
   "cell_type": "code",
   "execution_count": 106,
   "metadata": {},
   "outputs": [
    {
     "data": {
      "text/html": [
       "<div>\n",
       "<style scoped>\n",
       "    .dataframe tbody tr th:only-of-type {\n",
       "        vertical-align: middle;\n",
       "    }\n",
       "\n",
       "    .dataframe tbody tr th {\n",
       "        vertical-align: top;\n",
       "    }\n",
       "\n",
       "    .dataframe thead th {\n",
       "        text-align: right;\n",
       "    }\n",
       "</style>\n",
       "<table border=\"1\" class=\"dataframe\">\n",
       "  <thead>\n",
       "    <tr style=\"text-align: right;\">\n",
       "      <th></th>\n",
       "      <th>uid</th>\n",
       "      <th>mid</th>\n",
       "      <th>m</th>\n",
       "      <th>date1</th>\n",
       "    </tr>\n",
       "  </thead>\n",
       "  <tbody>\n",
       "    <tr>\n",
       "      <th>0</th>\n",
       "      <td>308</td>\n",
       "      <td>1</td>\n",
       "      <td>M</td>\n",
       "      <td>1998</td>\n",
       "    </tr>\n",
       "    <tr>\n",
       "      <th>1</th>\n",
       "      <td>308</td>\n",
       "      <td>4</td>\n",
       "      <td>M</td>\n",
       "      <td>1998</td>\n",
       "    </tr>\n",
       "  </tbody>\n",
       "</table>\n",
       "</div>"
      ],
      "text/plain": [
       "   uid mid  m date1\n",
       "0  308   1  M  1998\n",
       "1  308   4  M  1998"
      ]
     },
     "execution_count": 106,
     "metadata": {},
     "output_type": "execute_result"
    }
   ],
   "source": [
    "filtedNaN_lens = movie_lens[ candidate_columns[1] ].dropna() \n",
    "filtedNaN_lens.drop('rating', axis=1)[:2]"
   ]
  },
  {
   "cell_type": "code",
   "execution_count": 107,
   "metadata": {},
   "outputs": [
    {
     "data": {
      "text/html": [
       "<div>\n",
       "<style scoped>\n",
       "    .dataframe tbody tr th:only-of-type {\n",
       "        vertical-align: middle;\n",
       "    }\n",
       "\n",
       "    .dataframe tbody tr th {\n",
       "        vertical-align: top;\n",
       "    }\n",
       "\n",
       "    .dataframe thead th {\n",
       "        text-align: right;\n",
       "    }\n",
       "</style>\n",
       "<table border=\"1\" class=\"dataframe\">\n",
       "  <thead>\n",
       "    <tr style=\"text-align: right;\">\n",
       "      <th></th>\n",
       "      <th>0</th>\n",
       "      <th>1</th>\n",
       "      <th>2</th>\n",
       "      <th>3</th>\n",
       "      <th>4</th>\n",
       "      <th>5</th>\n",
       "      <th>6</th>\n",
       "      <th>7</th>\n",
       "      <th>8</th>\n",
       "      <th>9</th>\n",
       "      <th>...</th>\n",
       "      <th>99990</th>\n",
       "      <th>99991</th>\n",
       "      <th>99992</th>\n",
       "      <th>99993</th>\n",
       "      <th>99994</th>\n",
       "      <th>99995</th>\n",
       "      <th>99996</th>\n",
       "      <th>99997</th>\n",
       "      <th>99998</th>\n",
       "      <th>99999</th>\n",
       "    </tr>\n",
       "  </thead>\n",
       "  <tbody>\n",
       "    <tr>\n",
       "      <th>uid</th>\n",
       "      <td>308</td>\n",
       "      <td>308</td>\n",
       "      <td>308</td>\n",
       "      <td>308</td>\n",
       "      <td>308</td>\n",
       "      <td>308</td>\n",
       "      <td>308</td>\n",
       "      <td>308</td>\n",
       "      <td>308</td>\n",
       "      <td>308</td>\n",
       "      <td>...</td>\n",
       "      <td>729</td>\n",
       "      <td>729</td>\n",
       "      <td>729</td>\n",
       "      <td>729</td>\n",
       "      <td>729</td>\n",
       "      <td>729</td>\n",
       "      <td>729</td>\n",
       "      <td>729</td>\n",
       "      <td>729</td>\n",
       "      <td>729</td>\n",
       "    </tr>\n",
       "    <tr>\n",
       "      <th>mid</th>\n",
       "      <td>1</td>\n",
       "      <td>4</td>\n",
       "      <td>5</td>\n",
       "      <td>7</td>\n",
       "      <td>8</td>\n",
       "      <td>9</td>\n",
       "      <td>11</td>\n",
       "      <td>12</td>\n",
       "      <td>15</td>\n",
       "      <td>17</td>\n",
       "      <td>...</td>\n",
       "      <td>354</td>\n",
       "      <td>362</td>\n",
       "      <td>683</td>\n",
       "      <td>689</td>\n",
       "      <td>690</td>\n",
       "      <td>748</td>\n",
       "      <td>751</td>\n",
       "      <td>879</td>\n",
       "      <td>894</td>\n",
       "      <td>901</td>\n",
       "    </tr>\n",
       "    <tr>\n",
       "      <th>m</th>\n",
       "      <td>M</td>\n",
       "      <td>M</td>\n",
       "      <td>M</td>\n",
       "      <td>M</td>\n",
       "      <td>M</td>\n",
       "      <td>M</td>\n",
       "      <td>M</td>\n",
       "      <td>M</td>\n",
       "      <td>M</td>\n",
       "      <td>M</td>\n",
       "      <td>...</td>\n",
       "      <td>M</td>\n",
       "      <td>M</td>\n",
       "      <td>M</td>\n",
       "      <td>M</td>\n",
       "      <td>M</td>\n",
       "      <td>M</td>\n",
       "      <td>M</td>\n",
       "      <td>M</td>\n",
       "      <td>M</td>\n",
       "      <td>M</td>\n",
       "    </tr>\n",
       "    <tr>\n",
       "      <th>date1</th>\n",
       "      <td>1998</td>\n",
       "      <td>1998</td>\n",
       "      <td>1998</td>\n",
       "      <td>1998</td>\n",
       "      <td>1998</td>\n",
       "      <td>1998</td>\n",
       "      <td>1998</td>\n",
       "      <td>1998</td>\n",
       "      <td>1998</td>\n",
       "      <td>1998</td>\n",
       "      <td>...</td>\n",
       "      <td>1998</td>\n",
       "      <td>1998</td>\n",
       "      <td>1998</td>\n",
       "      <td>1998</td>\n",
       "      <td>1998</td>\n",
       "      <td>1998</td>\n",
       "      <td>1998</td>\n",
       "      <td>1998</td>\n",
       "      <td>1998</td>\n",
       "      <td>1998</td>\n",
       "    </tr>\n",
       "  </tbody>\n",
       "</table>\n",
       "<p>4 rows × 100000 columns</p>\n",
       "</div>"
      ],
      "text/plain": [
       "      0     1     2     3     4     5     6     7     8     9      ... 99990  \\\n",
       "uid     308   308   308   308   308   308   308   308   308   308  ...   729   \n",
       "mid       1     4     5     7     8     9    11    12    15    17  ...   354   \n",
       "m         M     M     M     M     M     M     M     M     M     M  ...     M   \n",
       "date1  1998  1998  1998  1998  1998  1998  1998  1998  1998  1998  ...  1998   \n",
       "\n",
       "      99991 99992 99993 99994 99995 99996 99997 99998 99999  \n",
       "uid     729   729   729   729   729   729   729   729   729  \n",
       "mid     362   683   689   690   748   751   879   894   901  \n",
       "m         M     M     M     M     M     M     M     M     M  \n",
       "date1  1998  1998  1998  1998  1998  1998  1998  1998  1998  \n",
       "\n",
       "[4 rows x 100000 columns]"
      ]
     },
     "execution_count": 107,
     "metadata": {},
     "output_type": "execute_result"
    }
   ],
   "source": [
    "filtedNaN_lens.drop('rating', axis=1).T"
   ]
  },
  {
   "cell_type": "code",
   "execution_count": 108,
   "metadata": {},
   "outputs": [
    {
     "data": {
      "text/plain": [
       "{0: {'uid': '308', 'mid': '1', 'm': 'M', 'date1': '1998'},\n",
       " 1: {'uid': '308', 'mid': '4', 'm': 'M', 'date1': '1998'},\n",
       " 2: {'uid': '308', 'mid': '5', 'm': 'M', 'date1': '1998'},\n",
       " 3: {'uid': '308', 'mid': '7', 'm': 'M', 'date1': '1998'},\n",
       " 4: {'uid': '308', 'mid': '8', 'm': 'M', 'date1': '1998'},\n",
       " 5: {'uid': '308', 'mid': '9', 'm': 'M', 'date1': '1998'},\n",
       " 6: {'uid': '308', 'mid': '11', 'm': 'M', 'date1': '1998'},\n",
       " 7: {'uid': '308', 'mid': '12', 'm': 'M', 'date1': '1998'},\n",
       " 8: {'uid': '308', 'mid': '15', 'm': 'M', 'date1': '1998'},\n",
       " 9: {'uid': '308', 'mid': '17', 'm': 'M', 'date1': '1998'},\n",
       " 10: {'uid': '308', 'mid': '19', 'm': 'M', 'date1': '1998'},\n",
       " 11: {'uid': '308', 'mid': '21', 'm': 'M', 'date1': '1998'},\n",
       " 12: {'uid': '308', 'mid': '22', 'm': 'M', 'date1': '1998'},\n",
       " 13: {'uid': '308', 'mid': '23', 'm': 'M', 'date1': '1998'},\n",
       " 14: {'uid': '308', 'mid': '24', 'm': 'M', 'date1': '1998'},\n",
       " 15: {'uid': '308', 'mid': '25', 'm': 'M', 'date1': '1998'},\n",
       " 16: {'uid': '308', 'mid': '28', 'm': 'M', 'date1': '1998'},\n",
       " 17: {'uid': '308', 'mid': '30', 'm': 'M', 'date1': '1998'},\n",
       " 18: {'uid': '308', 'mid': '31', 'm': 'M', 'date1': '1998'},\n",
       " 19: {'uid': '308', 'mid': '32', 'm': 'M', 'date1': '1998'},\n",
       " 20: {'uid': '308', 'mid': '42', 'm': 'M', 'date1': '1998'},\n",
       " 21: {'uid': '308', 'mid': '44', 'm': 'M', 'date1': '1998'},\n",
       " 22: {'uid': '308', 'mid': '45', 'm': 'M', 'date1': '1998'},\n",
       " 23: {'uid': '308', 'mid': '47', 'm': 'M', 'date1': '1998'},\n",
       " 24: {'uid': '308', 'mid': '48', 'm': 'M', 'date1': '1998'},\n",
       " 25: {'uid': '308', 'mid': '49', 'm': 'M', 'date1': '1998'},\n",
       " 26: {'uid': '308', 'mid': '50', 'm': 'M', 'date1': '1998'},\n",
       " 27: {'uid': '308', 'mid': '54', 'm': 'M', 'date1': '1998'},\n",
       " 28: {'uid': '308', 'mid': '55', 'm': 'M', 'date1': '1998'},\n",
       " 29: {'uid': '308', 'mid': '56', 'm': 'M', 'date1': '1998'},\n",
       " 30: {'uid': '308', 'mid': '58', 'm': 'M', 'date1': '1998'},\n",
       " 31: {'uid': '308', 'mid': '59', 'm': 'M', 'date1': '1998'},\n",
       " 32: {'uid': '308', 'mid': '60', 'm': 'M', 'date1': '1998'},\n",
       " 33: {'uid': '308', 'mid': '61', 'm': 'M', 'date1': '1998'},\n",
       " 34: {'uid': '308', 'mid': '64', 'm': 'M', 'date1': '1998'},\n",
       " 35: {'uid': '308', 'mid': '65', 'm': 'M', 'date1': '1998'},\n",
       " 36: {'uid': '308', 'mid': '66', 'm': 'M', 'date1': '1998'},\n",
       " 37: {'uid': '308', 'mid': '68', 'm': 'M', 'date1': '1998'},\n",
       " 38: {'uid': '308', 'mid': '69', 'm': 'M', 'date1': '1998'},\n",
       " 39: {'uid': '308', 'mid': '70', 'm': 'M', 'date1': '1998'},\n",
       " 40: {'uid': '308', 'mid': '71', 'm': 'M', 'date1': '1998'},\n",
       " 41: {'uid': '308', 'mid': '72', 'm': 'M', 'date1': '1998'},\n",
       " 42: {'uid': '308', 'mid': '73', 'm': 'M', 'date1': '1998'},\n",
       " 43: {'uid': '308', 'mid': '74', 'm': 'M', 'date1': '1998'},\n",
       " 44: {'uid': '308', 'mid': '77', 'm': 'M', 'date1': '1998'},\n",
       " 45: {'uid': '308', 'mid': '79', 'm': 'M', 'date1': '1998'},\n",
       " 46: {'uid': '308', 'mid': '81', 'm': 'M', 'date1': '1998'},\n",
       " 47: {'uid': '308', 'mid': '82', 'm': 'M', 'date1': '1998'},\n",
       " 48: {'uid': '308', 'mid': '85', 'm': 'M', 'date1': '1998'},\n",
       " 49: {'uid': '308', 'mid': '87', 'm': 'M', 'date1': '1998'},\n",
       " 50: {'uid': '308', 'mid': '88', 'm': 'M', 'date1': '1998'},\n",
       " 51: {'uid': '308', 'mid': '89', 'm': 'M', 'date1': '1998'},\n",
       " 52: {'uid': '308', 'mid': '91', 'm': 'M', 'date1': '1998'},\n",
       " 53: {'uid': '308', 'mid': '92', 'm': 'M', 'date1': '1998'},\n",
       " 54: {'uid': '308', 'mid': '95', 'm': 'M', 'date1': '1998'},\n",
       " 55: {'uid': '308', 'mid': '96', 'm': 'M', 'date1': '1998'},\n",
       " 56: {'uid': '308', 'mid': '97', 'm': 'M', 'date1': '1998'},\n",
       " 57: {'uid': '308', 'mid': '98', 'm': 'M', 'date1': '1998'},\n",
       " 58: {'uid': '308', 'mid': '99', 'm': 'M', 'date1': '1998'},\n",
       " 59: {'uid': '308', 'mid': '100', 'm': 'M', 'date1': '1998'},\n",
       " 60: {'uid': '308', 'mid': '107', 'm': 'M', 'date1': '1998'},\n",
       " 61: {'uid': '308', 'mid': '109', 'm': 'M', 'date1': '1998'},\n",
       " 62: {'uid': '308', 'mid': '116', 'm': 'M', 'date1': '1998'},\n",
       " 63: {'uid': '308', 'mid': '117', 'm': 'M', 'date1': '1998'},\n",
       " 64: {'uid': '308', 'mid': '118', 'm': 'M', 'date1': '1998'},\n",
       " 65: {'uid': '308', 'mid': '121', 'm': 'M', 'date1': '1998'},\n",
       " 66: {'uid': '308', 'mid': '122', 'm': 'M', 'date1': '1998'},\n",
       " 67: {'uid': '308', 'mid': '123', 'm': 'M', 'date1': '1998'},\n",
       " 68: {'uid': '308', 'mid': '124', 'm': 'M', 'date1': '1998'},\n",
       " 69: {'uid': '308', 'mid': '127', 'm': 'M', 'date1': '1998'},\n",
       " 70: {'uid': '308', 'mid': '129', 'm': 'M', 'date1': '1998'},\n",
       " 71: {'uid': '308', 'mid': '131', 'm': 'M', 'date1': '1998'},\n",
       " 72: {'uid': '308', 'mid': '132', 'm': 'M', 'date1': '1998'},\n",
       " 73: {'uid': '308', 'mid': '133', 'm': 'M', 'date1': '1998'},\n",
       " 74: {'uid': '308', 'mid': '134', 'm': 'M', 'date1': '1998'},\n",
       " 75: {'uid': '308', 'mid': '135', 'm': 'M', 'date1': '1998'},\n",
       " 76: {'uid': '308', 'mid': '139', 'm': 'M', 'date1': '1998'},\n",
       " 77: {'uid': '308', 'mid': '141', 'm': 'M', 'date1': '1998'},\n",
       " 78: {'uid': '308', 'mid': '143', 'm': 'M', 'date1': '1998'},\n",
       " 79: {'uid': '308', 'mid': '144', 'm': 'M', 'date1': '1998'},\n",
       " 80: {'uid': '308', 'mid': '147', 'm': 'M', 'date1': '1998'},\n",
       " 81: {'uid': '308', 'mid': '148', 'm': 'M', 'date1': '1998'},\n",
       " 82: {'uid': '308', 'mid': '151', 'm': 'M', 'date1': '1998'},\n",
       " 83: {'uid': '308', 'mid': '152', 'm': 'M', 'date1': '1998'},\n",
       " 84: {'uid': '308', 'mid': '153', 'm': 'M', 'date1': '1998'},\n",
       " 85: {'uid': '308', 'mid': '154', 'm': 'M', 'date1': '1998'},\n",
       " 86: {'uid': '308', 'mid': '156', 'm': 'M', 'date1': '1998'},\n",
       " 87: {'uid': '308', 'mid': '157', 'm': 'M', 'date1': '1998'},\n",
       " 88: {'uid': '308', 'mid': '160', 'm': 'M', 'date1': '1998'},\n",
       " 89: {'uid': '308', 'mid': '161', 'm': 'M', 'date1': '1998'},\n",
       " 90: {'uid': '308', 'mid': '162', 'm': 'M', 'date1': '1998'},\n",
       " 91: {'uid': '308', 'mid': '163', 'm': 'M', 'date1': '1998'},\n",
       " 92: {'uid': '308', 'mid': '164', 'm': 'M', 'date1': '1998'},\n",
       " 93: {'uid': '308', 'mid': '165', 'm': 'M', 'date1': '1998'},\n",
       " 94: {'uid': '308', 'mid': '166', 'm': 'M', 'date1': '1998'},\n",
       " 95: {'uid': '308', 'mid': '168', 'm': 'M', 'date1': '1998'},\n",
       " 96: {'uid': '308', 'mid': '169', 'm': 'M', 'date1': '1998'},\n",
       " 97: {'uid': '308', 'mid': '170', 'm': 'M', 'date1': '1998'},\n",
       " 98: {'uid': '308', 'mid': '171', 'm': 'M', 'date1': '1998'},\n",
       " 99: {'uid': '308', 'mid': '172', 'm': 'M', 'date1': '1998'},\n",
       " 100: {'uid': '308', 'mid': '174', 'm': 'M', 'date1': '1998'},\n",
       " 101: {'uid': '308', 'mid': '175', 'm': 'M', 'date1': '1998'},\n",
       " 102: {'uid': '308', 'mid': '176', 'm': 'M', 'date1': '1998'},\n",
       " 103: {'uid': '308', 'mid': '177', 'm': 'M', 'date1': '1998'},\n",
       " 104: {'uid': '308', 'mid': '178', 'm': 'M', 'date1': '1998'},\n",
       " 105: {'uid': '308', 'mid': '179', 'm': 'M', 'date1': '1998'},\n",
       " 106: {'uid': '308', 'mid': '180', 'm': 'M', 'date1': '1998'},\n",
       " 107: {'uid': '308', 'mid': '181', 'm': 'M', 'date1': '1998'},\n",
       " 108: {'uid': '308', 'mid': '182', 'm': 'M', 'date1': '1998'},\n",
       " 109: {'uid': '308', 'mid': '183', 'm': 'M', 'date1': '1998'},\n",
       " 110: {'uid': '308', 'mid': '184', 'm': 'M', 'date1': '1998'},\n",
       " 111: {'uid': '308', 'mid': '185', 'm': 'M', 'date1': '1998'},\n",
       " 112: {'uid': '308', 'mid': '186', 'm': 'M', 'date1': '1998'},\n",
       " 113: {'uid': '308', 'mid': '187', 'm': 'M', 'date1': '1998'},\n",
       " 114: {'uid': '308', 'mid': '191', 'm': 'M', 'date1': '1998'},\n",
       " 115: {'uid': '308', 'mid': '192', 'm': 'M', 'date1': '1998'},\n",
       " 116: {'uid': '308', 'mid': '193', 'm': 'M', 'date1': '1998'},\n",
       " 117: {'uid': '308', 'mid': '194', 'm': 'M', 'date1': '1998'},\n",
       " 118: {'uid': '308', 'mid': '195', 'm': 'M', 'date1': '1998'},\n",
       " 119: {'uid': '308', 'mid': '196', 'm': 'M', 'date1': '1998'},\n",
       " 120: {'uid': '308', 'mid': '197', 'm': 'M', 'date1': '1998'},\n",
       " 121: {'uid': '308', 'mid': '198', 'm': 'M', 'date1': '1998'},\n",
       " 122: {'uid': '308', 'mid': '199', 'm': 'M', 'date1': '1998'},\n",
       " 123: {'uid': '308', 'mid': '200', 'm': 'M', 'date1': '1998'},\n",
       " 124: {'uid': '308', 'mid': '201', 'm': 'M', 'date1': '1998'},\n",
       " 125: {'uid': '308', 'mid': '202', 'm': 'M', 'date1': '1998'},\n",
       " 126: {'uid': '308', 'mid': '203', 'm': 'M', 'date1': '1998'},\n",
       " 127: {'uid': '308', 'mid': '204', 'm': 'M', 'date1': '1998'},\n",
       " 128: {'uid': '308', 'mid': '205', 'm': 'M', 'date1': '1998'},\n",
       " 129: {'uid': '308', 'mid': '208', 'm': 'M', 'date1': '1998'},\n",
       " 130: {'uid': '308', 'mid': '209', 'm': 'M', 'date1': '1998'},\n",
       " 131: {'uid': '308', 'mid': '210', 'm': 'M', 'date1': '1998'},\n",
       " 132: {'uid': '308', 'mid': '211', 'm': 'M', 'date1': '1998'},\n",
       " 133: {'uid': '308', 'mid': '213', 'm': 'M', 'date1': '1998'},\n",
       " 134: {'uid': '308', 'mid': '214', 'm': 'M', 'date1': '1998'},\n",
       " 135: {'uid': '308', 'mid': '215', 'm': 'M', 'date1': '1998'},\n",
       " 136: {'uid': '308', 'mid': '216', 'm': 'M', 'date1': '1998'},\n",
       " 137: {'uid': '308', 'mid': '218', 'm': 'M', 'date1': '1998'},\n",
       " 138: {'uid': '308', 'mid': '219', 'm': 'M', 'date1': '1998'},\n",
       " 139: {'uid': '308', 'mid': '223', 'm': 'M', 'date1': '1998'},\n",
       " 140: {'uid': '308', 'mid': '226', 'm': 'M', 'date1': '1998'},\n",
       " 141: {'uid': '308', 'mid': '230', 'm': 'M', 'date1': '1998'},\n",
       " 142: {'uid': '308', 'mid': '231', 'm': 'M', 'date1': '1998'},\n",
       " 143: {'uid': '308', 'mid': '233', 'm': 'M', 'date1': '1998'},\n",
       " 144: {'uid': '308', 'mid': '234', 'm': 'M', 'date1': '1998'},\n",
       " 145: {'uid': '308', 'mid': '235', 'm': 'M', 'date1': '1998'},\n",
       " 146: {'uid': '308', 'mid': '237', 'm': 'M', 'date1': '1998'},\n",
       " 147: {'uid': '308', 'mid': '238', 'm': 'M', 'date1': '1998'},\n",
       " 148: {'uid': '308', 'mid': '239', 'm': 'M', 'date1': '1998'},\n",
       " 149: {'uid': '308', 'mid': '241', 'm': 'M', 'date1': '1998'},\n",
       " 150: {'uid': '308', 'mid': '248', 'm': 'M', 'date1': '1998'},\n",
       " 151: {'uid': '308', 'mid': '254', 'm': 'M', 'date1': '1998'},\n",
       " 152: {'uid': '308', 'mid': '255', 'm': 'M', 'date1': '1998'},\n",
       " 153: {'uid': '308', 'mid': '257', 'm': 'M', 'date1': '1998'},\n",
       " 154: {'uid': '308', 'mid': '259', 'm': 'M', 'date1': '1998'},\n",
       " 155: {'uid': '308', 'mid': '264', 'm': 'M', 'date1': '1998'},\n",
       " 156: {'uid': '308', 'mid': '265', 'm': 'M', 'date1': '1998'},\n",
       " 157: {'uid': '308', 'mid': '273', 'm': 'M', 'date1': '1998'},\n",
       " 158: {'uid': '308', 'mid': '274', 'm': 'M', 'date1': '1998'},\n",
       " 159: {'uid': '308', 'mid': '275', 'm': 'M', 'date1': '1998'},\n",
       " 160: {'uid': '308', 'mid': '276', 'm': 'M', 'date1': '1998'},\n",
       " 161: {'uid': '308', 'mid': '283', 'm': 'M', 'date1': '1998'},\n",
       " 162: {'uid': '308', 'mid': '284', 'm': 'M', 'date1': '1998'},\n",
       " 163: {'uid': '308', 'mid': '285', 'm': 'M', 'date1': '1998'},\n",
       " 164: {'uid': '308', 'mid': '288', 'm': 'M', 'date1': '1998'},\n",
       " 165: {'uid': '308', 'mid': '291', 'm': 'M', 'date1': '1998'},\n",
       " 166: {'uid': '308', 'mid': '293', 'm': 'M', 'date1': '1998'},\n",
       " 167: {'uid': '308', 'mid': '294', 'm': 'M', 'date1': '1998'},\n",
       " 168: {'uid': '308', 'mid': '295', 'm': 'M', 'date1': '1998'},\n",
       " 169: {'uid': '308', 'mid': '298', 'm': 'M', 'date1': '1998'},\n",
       " 170: {'uid': '308', 'mid': '309', 'm': 'M', 'date1': '1998'},\n",
       " 171: {'uid': '308', 'mid': '313', 'm': 'M', 'date1': '1998'},\n",
       " 172: {'uid': '308', 'mid': '318', 'm': 'M', 'date1': '1998'},\n",
       " 173: {'uid': '308', 'mid': '319', 'm': 'M', 'date1': '1998'},\n",
       " 174: {'uid': '308', 'mid': '321', 'm': 'M', 'date1': '1998'},\n",
       " 175: {'uid': '308', 'mid': '322', 'm': 'M', 'date1': '1998'},\n",
       " 176: {'uid': '308', 'mid': '356', 'm': 'M', 'date1': '1998'},\n",
       " 177: {'uid': '308', 'mid': '357', 'm': 'M', 'date1': '1998'},\n",
       " 178: {'uid': '308', 'mid': '365', 'm': 'M', 'date1': '1998'},\n",
       " 179: {'uid': '308', 'mid': '367', 'm': 'M', 'date1': '1998'},\n",
       " 180: {'uid': '308', 'mid': '371', 'm': 'M', 'date1': '1998'},\n",
       " 181: {'uid': '308', 'mid': '378', 'm': 'M', 'date1': '1998'},\n",
       " 182: {'uid': '308', 'mid': '382', 'm': 'M', 'date1': '1998'},\n",
       " 183: {'uid': '308', 'mid': '385', 'm': 'M', 'date1': '1998'},\n",
       " 184: {'uid': '308', 'mid': '392', 'm': 'M', 'date1': '1998'},\n",
       " 185: {'uid': '308', 'mid': '393', 'm': 'M', 'date1': '1998'},\n",
       " 186: {'uid': '308', 'mid': '396', 'm': 'M', 'date1': '1998'},\n",
       " 187: {'uid': '308', 'mid': '402', 'm': 'M', 'date1': '1998'},\n",
       " 188: {'uid': '308', 'mid': '403', 'm': 'M', 'date1': '1998'},\n",
       " 189: {'uid': '308', 'mid': '404', 'm': 'M', 'date1': '1998'},\n",
       " 190: {'uid': '308', 'mid': '408', 'm': 'M', 'date1': '1998'},\n",
       " 191: {'uid': '308', 'mid': '410', 'm': 'M', 'date1': '1998'},\n",
       " 192: {'uid': '308', 'mid': '411', 'm': 'M', 'date1': '1998'},\n",
       " 193: {'uid': '308', 'mid': '417', 'm': 'M', 'date1': '1998'},\n",
       " 194: {'uid': '308', 'mid': '419', 'm': 'M', 'date1': '1998'},\n",
       " 195: {'uid': '308', 'mid': '420', 'm': 'M', 'date1': '1998'},\n",
       " 196: {'uid': '308', 'mid': '423', 'm': 'M', 'date1': '1998'},\n",
       " 197: {'uid': '308', 'mid': '425', 'm': 'M', 'date1': '1998'},\n",
       " 198: {'uid': '308', 'mid': '427', 'm': 'M', 'date1': '1998'},\n",
       " 199: {'uid': '308', 'mid': '428', 'm': 'M', 'date1': '1998'},\n",
       " 200: {'uid': '308', 'mid': '429', 'm': 'M', 'date1': '1998'},\n",
       " 201: {'uid': '308', 'mid': '430', 'm': 'M', 'date1': '1998'},\n",
       " 202: {'uid': '308', 'mid': '432', 'm': 'M', 'date1': '1998'},\n",
       " 203: {'uid': '308', 'mid': '433', 'm': 'M', 'date1': '1998'},\n",
       " 204: {'uid': '308', 'mid': '434', 'm': 'M', 'date1': '1998'},\n",
       " 205: {'uid': '308', 'mid': '435', 'm': 'M', 'date1': '1998'},\n",
       " 206: {'uid': '308', 'mid': '436', 'm': 'M', 'date1': '1998'},\n",
       " 207: {'uid': '308', 'mid': '443', 'm': 'M', 'date1': '1998'},\n",
       " 208: {'uid': '308', 'mid': '447', 'm': 'M', 'date1': '1998'},\n",
       " 209: {'uid': '308', 'mid': '448', 'm': 'M', 'date1': '1998'},\n",
       " 210: {'uid': '308', 'mid': '449', 'm': 'M', 'date1': '1998'},\n",
       " 211: {'uid': '308', 'mid': '452', 'm': 'M', 'date1': '1998'},\n",
       " 212: {'uid': '308', 'mid': '455', 'm': 'M', 'date1': '1998'},\n",
       " 213: {'uid': '308', 'mid': '461', 'm': 'M', 'date1': '1998'},\n",
       " 214: {'uid': '308', 'mid': '463', 'm': 'M', 'date1': '1998'},\n",
       " 215: {'uid': '308', 'mid': '466', 'm': 'M', 'date1': '1998'},\n",
       " 216: {'uid': '308', 'mid': '467', 'm': 'M', 'date1': '1998'},\n",
       " 217: {'uid': '308', 'mid': '469', 'm': 'M', 'date1': '1998'},\n",
       " 218: {'uid': '308', 'mid': '471', 'm': 'M', 'date1': '1998'},\n",
       " 219: {'uid': '308', 'mid': '472', 'm': 'M', 'date1': '1998'},\n",
       " 220: {'uid': '308', 'mid': '473', 'm': 'M', 'date1': '1998'},\n",
       " 221: {'uid': '308', 'mid': '475', 'm': 'M', 'date1': '1998'},\n",
       " 222: {'uid': '308', 'mid': '477', 'm': 'M', 'date1': '1998'},\n",
       " 223: {'uid': '308', 'mid': '479', 'm': 'M', 'date1': '1998'},\n",
       " 224: {'uid': '308', 'mid': '480', 'm': 'M', 'date1': '1998'},\n",
       " 225: {'uid': '308', 'mid': '481', 'm': 'M', 'date1': '1998'},\n",
       " 226: {'uid': '308', 'mid': '482', 'm': 'M', 'date1': '1998'},\n",
       " 227: {'uid': '308', 'mid': '483', 'm': 'M', 'date1': '1998'},\n",
       " 228: {'uid': '308', 'mid': '484', 'm': 'M', 'date1': '1998'},\n",
       " 229: {'uid': '308', 'mid': '485', 'm': 'M', 'date1': '1998'},\n",
       " 230: {'uid': '308', 'mid': '486', 'm': 'M', 'date1': '1998'},\n",
       " 231: {'uid': '308', 'mid': '487', 'm': 'M', 'date1': '1998'},\n",
       " 232: {'uid': '308', 'mid': '488', 'm': 'M', 'date1': '1998'},\n",
       " 233: {'uid': '308', 'mid': '490', 'm': 'M', 'date1': '1998'},\n",
       " 234: {'uid': '308', 'mid': '492', 'm': 'M', 'date1': '1998'},\n",
       " 235: {'uid': '308', 'mid': '493', 'm': 'M', 'date1': '1998'},\n",
       " 236: {'uid': '308', 'mid': '494', 'm': 'M', 'date1': '1998'},\n",
       " 237: {'uid': '308', 'mid': '495', 'm': 'M', 'date1': '1998'},\n",
       " 238: {'uid': '308', 'mid': '496', 'm': 'M', 'date1': '1998'},\n",
       " 239: {'uid': '308', 'mid': '498', 'm': 'M', 'date1': '1998'},\n",
       " 240: {'uid': '308', 'mid': '499', 'm': 'M', 'date1': '1998'},\n",
       " 241: {'uid': '308', 'mid': '501', 'm': 'M', 'date1': '1998'},\n",
       " 242: {'uid': '308', 'mid': '502', 'm': 'M', 'date1': '1998'},\n",
       " 243: {'uid': '308', 'mid': '504', 'm': 'M', 'date1': '1998'},\n",
       " 244: {'uid': '308', 'mid': '505', 'm': 'M', 'date1': '1998'},\n",
       " 245: {'uid': '308', 'mid': '506', 'm': 'M', 'date1': '1998'},\n",
       " 246: {'uid': '308', 'mid': '507', 'm': 'M', 'date1': '1998'},\n",
       " 247: {'uid': '308', 'mid': '509', 'm': 'M', 'date1': '1998'},\n",
       " 248: {'uid': '308', 'mid': '510', 'm': 'M', 'date1': '1998'},\n",
       " 249: {'uid': '308', 'mid': '511', 'm': 'M', 'date1': '1998'},\n",
       " 250: {'uid': '308', 'mid': '512', 'm': 'M', 'date1': '1998'},\n",
       " 251: {'uid': '308', 'mid': '513', 'm': 'M', 'date1': '1998'},\n",
       " 252: {'uid': '308', 'mid': '514', 'm': 'M', 'date1': '1998'},\n",
       " 253: {'uid': '308', 'mid': '515', 'm': 'M', 'date1': '1998'},\n",
       " 254: {'uid': '308', 'mid': '516', 'm': 'M', 'date1': '1998'},\n",
       " 255: {'uid': '308', 'mid': '517', 'm': 'M', 'date1': '1998'},\n",
       " 256: {'uid': '308', 'mid': '519', 'm': 'M', 'date1': '1998'},\n",
       " 257: {'uid': '308', 'mid': '520', 'm': 'M', 'date1': '1998'},\n",
       " 258: {'uid': '308', 'mid': '521', 'm': 'M', 'date1': '1998'},\n",
       " 259: {'uid': '308', 'mid': '522', 'm': 'M', 'date1': '1998'},\n",
       " 260: {'uid': '308', 'mid': '523', 'm': 'M', 'date1': '1998'},\n",
       " 261: {'uid': '308', 'mid': '525', 'm': 'M', 'date1': '1998'},\n",
       " 262: {'uid': '308', 'mid': '526', 'm': 'M', 'date1': '1998'},\n",
       " 263: {'uid': '308', 'mid': '528', 'm': 'M', 'date1': '1998'},\n",
       " 264: {'uid': '308', 'mid': '530', 'm': 'M', 'date1': '1998'},\n",
       " 265: {'uid': '308', 'mid': '531', 'm': 'M', 'date1': '1998'},\n",
       " 266: {'uid': '308', 'mid': '537', 'm': 'M', 'date1': '1998'},\n",
       " 267: {'uid': '308', 'mid': '546', 'm': 'M', 'date1': '1998'},\n",
       " 268: {'uid': '308', 'mid': '550', 'm': 'M', 'date1': '1998'},\n",
       " 269: {'uid': '308', 'mid': '558', 'm': 'M', 'date1': '1998'},\n",
       " 270: {'uid': '308', 'mid': '559', 'm': 'M', 'date1': '1998'},\n",
       " 271: {'uid': '308', 'mid': '566', 'm': 'M', 'date1': '1998'},\n",
       " 272: {'uid': '308', 'mid': '567', 'm': 'M', 'date1': '1998'},\n",
       " 273: {'uid': '308', 'mid': '568', 'm': 'M', 'date1': '1998'},\n",
       " 274: {'uid': '308', 'mid': '569', 'm': 'M', 'date1': '1998'},\n",
       " 275: {'uid': '308', 'mid': '578', 'm': 'M', 'date1': '1998'},\n",
       " 276: {'uid': '308', 'mid': '579', 'm': 'M', 'date1': '1998'},\n",
       " 277: {'uid': '308', 'mid': '581', 'm': 'M', 'date1': '1998'},\n",
       " 278: {'uid': '308', 'mid': '582', 'm': 'M', 'date1': '1998'},\n",
       " 279: {'uid': '308', 'mid': '583', 'm': 'M', 'date1': '1998'},\n",
       " 280: {'uid': '308', 'mid': '584', 'm': 'M', 'date1': '1998'},\n",
       " 281: {'uid': '308', 'mid': '588', 'm': 'M', 'date1': '1998'},\n",
       " 282: {'uid': '308', 'mid': '589', 'm': 'M', 'date1': '1998'},\n",
       " 283: {'uid': '308', 'mid': '591', 'm': 'M', 'date1': '1998'},\n",
       " 284: {'uid': '308', 'mid': '597', 'm': 'M', 'date1': '1998'},\n",
       " 285: {'uid': '308', 'mid': '602', 'm': 'M', 'date1': '1998'},\n",
       " 286: {'uid': '308', 'mid': '603', 'm': 'M', 'date1': '1998'},\n",
       " 287: {'uid': '308', 'mid': '605', 'm': 'M', 'date1': '1998'},\n",
       " 288: {'uid': '308', 'mid': '607', 'm': 'M', 'date1': '1998'},\n",
       " 289: {'uid': '308', 'mid': '609', 'm': 'M', 'date1': '1998'},\n",
       " 290: {'uid': '308', 'mid': '610', 'm': 'M', 'date1': '1998'},\n",
       " 291: {'uid': '308', 'mid': '611', 'm': 'M', 'date1': '1998'},\n",
       " 292: {'uid': '308', 'mid': '613', 'm': 'M', 'date1': '1998'},\n",
       " 293: {'uid': '308', 'mid': '614', 'm': 'M', 'date1': '1998'},\n",
       " 294: {'uid': '308', 'mid': '615', 'm': 'M', 'date1': '1998'},\n",
       " 295: {'uid': '308', 'mid': '616', 'm': 'M', 'date1': '1998'},\n",
       " 296: {'uid': '308', 'mid': '618', 'm': 'M', 'date1': '1998'},\n",
       " 297: {'uid': '308', 'mid': '628', 'm': 'M', 'date1': '1998'},\n",
       " 298: {'uid': '308', 'mid': '629', 'm': 'M', 'date1': '1998'},\n",
       " 299: {'uid': '308', 'mid': '632', 'm': 'M', 'date1': '1998'},\n",
       " 300: {'uid': '308', 'mid': '633', 'm': 'M', 'date1': '1998'},\n",
       " 301: {'uid': '308', 'mid': '634', 'm': 'M', 'date1': '1998'},\n",
       " 302: {'uid': '308', 'mid': '637', 'm': 'M', 'date1': '1998'},\n",
       " 303: {'uid': '308', 'mid': '640', 'm': 'M', 'date1': '1998'},\n",
       " 304: {'uid': '308', 'mid': '641', 'm': 'M', 'date1': '1998'},\n",
       " 305: {'uid': '308', 'mid': '642', 'm': 'M', 'date1': '1998'},\n",
       " 306: {'uid': '308', 'mid': '646', 'm': 'M', 'date1': '1998'},\n",
       " 307: {'uid': '308', 'mid': '648', 'm': 'M', 'date1': '1998'},\n",
       " 308: {'uid': '308', 'mid': '649', 'm': 'M', 'date1': '1998'},\n",
       " 309: {'uid': '308', 'mid': '653', 'm': 'M', 'date1': '1998'},\n",
       " 310: {'uid': '308', 'mid': '654', 'm': 'M', 'date1': '1998'},\n",
       " 311: {'uid': '308', 'mid': '655', 'm': 'M', 'date1': '1998'},\n",
       " 312: {'uid': '308', 'mid': '656', 'm': 'M', 'date1': '1998'},\n",
       " 313: {'uid': '308', 'mid': '657', 'm': 'M', 'date1': '1998'},\n",
       " 314: {'uid': '308', 'mid': '659', 'm': 'M', 'date1': '1998'},\n",
       " 315: {'uid': '308', 'mid': '660', 'm': 'M', 'date1': '1998'},\n",
       " 316: {'uid': '308', 'mid': '661', 'm': 'M', 'date1': '1998'},\n",
       " 317: {'uid': '308', 'mid': '663', 'm': 'M', 'date1': '1998'},\n",
       " 318: {'uid': '308', 'mid': '664', 'm': 'M', 'date1': '1998'},\n",
       " 319: {'uid': '308', 'mid': '665', 'm': 'M', 'date1': '1998'},\n",
       " 320: {'uid': '308', 'mid': '671', 'm': 'M', 'date1': '1998'},\n",
       " 321: {'uid': '308', 'mid': '673', 'm': 'M', 'date1': '1998'},\n",
       " 322: {'uid': '308', 'mid': '675', 'm': 'M', 'date1': '1998'},\n",
       " 323: {'uid': '308', 'mid': '678', 'm': 'M', 'date1': '1998'},\n",
       " 324: {'uid': '308', 'mid': '679', 'm': 'M', 'date1': '1998'},\n",
       " 325: {'uid': '308', 'mid': '684', 'm': 'M', 'date1': '1998'},\n",
       " 326: {'uid': '308', 'mid': '686', 'm': 'M', 'date1': '1998'},\n",
       " 327: {'uid': '308', 'mid': '692', 'm': 'M', 'date1': '1998'},\n",
       " 328: {'uid': '308', 'mid': '693', 'm': 'M', 'date1': '1998'},\n",
       " 329: {'uid': '308', 'mid': '699', 'm': 'M', 'date1': '1998'},\n",
       " 330: {'uid': '308', 'mid': '705', 'm': 'M', 'date1': '1998'},\n",
       " 331: {'uid': '308', 'mid': '708', 'm': 'M', 'date1': '1998'},\n",
       " 332: {'uid': '308', 'mid': '709', 'm': 'M', 'date1': '1998'},\n",
       " 333: {'uid': '308', 'mid': '712', 'm': 'M', 'date1': '1998'},\n",
       " 334: {'uid': '308', 'mid': '715', 'm': 'M', 'date1': '1998'},\n",
       " 335: {'uid': '308', 'mid': '729', 'm': 'M', 'date1': '1998'},\n",
       " 336: {'uid': '308', 'mid': '732', 'm': 'M', 'date1': '1998'},\n",
       " 337: {'uid': '308', 'mid': '736', 'm': 'M', 'date1': '1998'},\n",
       " 338: {'uid': '308', 'mid': '739', 'm': 'M', 'date1': '1998'},\n",
       " 339: {'uid': '308', 'mid': '741', 'm': 'M', 'date1': '1998'},\n",
       " 340: {'uid': '308', 'mid': '742', 'm': 'M', 'date1': '1998'},\n",
       " 341: {'uid': '308', 'mid': '746', 'm': 'M', 'date1': '1998'},\n",
       " 342: {'uid': '308', 'mid': '747', 'm': 'M', 'date1': '1998'},\n",
       " 343: {'uid': '308', 'mid': '755', 'm': 'M', 'date1': '1998'},\n",
       " 344: {'uid': '308', 'mid': '770', 'm': 'M', 'date1': '1998'},\n",
       " 345: {'uid': '308', 'mid': '778', 'm': 'M', 'date1': '1998'},\n",
       " 346: {'uid': '308', 'mid': '792', 'm': 'M', 'date1': '1998'},\n",
       " 347: {'uid': '308', 'mid': '802', 'm': 'M', 'date1': '1998'},\n",
       " 348: {'uid': '308', 'mid': '805', 'm': 'M', 'date1': '1998'},\n",
       " 349: {'uid': '308', 'mid': '806', 'm': 'M', 'date1': '1998'},\n",
       " 350: {'uid': '308', 'mid': '811', 'm': 'M', 'date1': '1998'},\n",
       " 351: {'uid': '308', 'mid': '822', 'm': 'M', 'date1': '1998'},\n",
       " 352: {'uid': '308', 'mid': '824', 'm': 'M', 'date1': '1998'},\n",
       " 353: {'uid': '308', 'mid': '825', 'm': 'M', 'date1': '1998'},\n",
       " 354: {'uid': '308', 'mid': '826', 'm': 'M', 'date1': '1998'},\n",
       " 355: {'uid': '308', 'mid': '842', 'm': 'M', 'date1': '1998'},\n",
       " 356: {'uid': '308', 'mid': '843', 'm': 'M', 'date1': '1998'},\n",
       " 357: {'uid': '308', 'mid': '848', 'm': 'M', 'date1': '1998'},\n",
       " 358: {'uid': '308', 'mid': '853', 'm': 'M', 'date1': '1998'},\n",
       " 359: {'uid': '308', 'mid': '856', 'm': 'M', 'date1': '1998'},\n",
       " 360: {'uid': '308', 'mid': '863', 'm': 'M', 'date1': '1998'},\n",
       " 361: {'uid': '308', 'mid': '921', 'm': 'M', 'date1': '1998'},\n",
       " 362: {'uid': '308', 'mid': '928', 'm': 'M', 'date1': '1998'},\n",
       " 363: {'uid': '308', 'mid': '942', 'm': 'M', 'date1': '1998'},\n",
       " 364: {'uid': '308', 'mid': '945', 'm': 'M', 'date1': '1998'},\n",
       " 365: {'uid': '308', 'mid': '959', 'm': 'M', 'date1': '1998'},\n",
       " 366: {'uid': '308', 'mid': '962', 'm': 'M', 'date1': '1998'},\n",
       " 367: {'uid': '308', 'mid': '965', 'm': 'M', 'date1': '1998'},\n",
       " 368: {'uid': '308', 'mid': '966', 'm': 'M', 'date1': '1998'},\n",
       " 369: {'uid': '308', 'mid': '968', 'm': 'M', 'date1': '1998'},\n",
       " 370: {'uid': '308', 'mid': '1006', 'm': 'M', 'date1': '1998'},\n",
       " 371: {'uid': '308', 'mid': '1019', 'm': 'M', 'date1': '1998'},\n",
       " 372: {'uid': '308', 'mid': '1021', 'm': 'M', 'date1': '1998'},\n",
       " 373: {'uid': '308', 'mid': '1028', 'm': 'M', 'date1': '1998'},\n",
       " 374: {'uid': '308', 'mid': '1045', 'm': 'M', 'date1': '1998'},\n",
       " 375: {'uid': '308', 'mid': '1046', 'm': 'M', 'date1': '1998'},\n",
       " 376: {'uid': '308', 'mid': '1047', 'm': 'M', 'date1': '1998'},\n",
       " 377: {'uid': '308', 'mid': '1065', 'm': 'M', 'date1': '1998'},\n",
       " 378: {'uid': '308', 'mid': '1073', 'm': 'M', 'date1': '1998'},\n",
       " 379: {'uid': '308', 'mid': '1074', 'm': 'M', 'date1': '1998'},\n",
       " 380: {'uid': '308', 'mid': '1118', 'm': 'M', 'date1': '1998'},\n",
       " 381: {'uid': '308', 'mid': '1121', 'm': 'M', 'date1': '1998'},\n",
       " 382: {'uid': '308', 'mid': '1126', 'm': 'M', 'date1': '1998'},\n",
       " 383: {'uid': '308', 'mid': '1135', 'm': 'M', 'date1': '1998'},\n",
       " 384: {'uid': '308', 'mid': '1140', 'm': 'M', 'date1': '1998'},\n",
       " 385: {'uid': '308', 'mid': '1147', 'm': 'M', 'date1': '1998'},\n",
       " 386: {'uid': '308', 'mid': '1154', 'm': 'M', 'date1': '1998'},\n",
       " 387: {'uid': '308', 'mid': '1169', 'm': 'M', 'date1': '1998'},\n",
       " 388: {'uid': '308', 'mid': '1197', 'm': 'M', 'date1': '1998'},\n",
       " 389: {'uid': '308', 'mid': '1211', 'm': 'M', 'date1': '1998'},\n",
       " 390: {'uid': '308', 'mid': '1252', 'm': 'M', 'date1': '1998'},\n",
       " 391: {'uid': '308', 'mid': '1286', 'm': 'M', 'date1': '1998'},\n",
       " 392: {'uid': '308', 'mid': '1404', 'm': 'M', 'date1': '1998'},\n",
       " 393: {'uid': '308', 'mid': '1411', 'm': 'M', 'date1': '1998'},\n",
       " 394: {'uid': '308', 'mid': '1421', 'm': 'M', 'date1': '1998'},\n",
       " 395: {'uid': '308', 'mid': '1456', 'm': 'M', 'date1': '1998'},\n",
       " 396: {'uid': '308', 'mid': '1515', 'm': 'M', 'date1': '1998'},\n",
       " 397: {'uid': '287', 'mid': '1', 'm': 'M', 'date1': '1997'},\n",
       " 398: {'uid': '287', 'mid': '4', 'm': 'M', 'date1': '1997'},\n",
       " 399: {'uid': '287', 'mid': '9', 'm': 'M', 'date1': '1997'},\n",
       " 400: {'uid': '287', 'mid': '11', 'm': 'M', 'date1': '1997'},\n",
       " 401: {'uid': '287', 'mid': '28', 'm': 'M', 'date1': '1997'},\n",
       " 402: {'uid': '287', 'mid': '39', 'm': 'M', 'date1': '1997'},\n",
       " 403: {'uid': '287', 'mid': '50', 'm': 'M', 'date1': '1997'},\n",
       " 404: {'uid': '287', 'mid': '56', 'm': 'M', 'date1': '1997'},\n",
       " 405: {'uid': '287', 'mid': '64', 'm': 'M', 'date1': '1997'},\n",
       " 406: {'uid': '287', 'mid': '92', 'm': 'M', 'date1': '1997'},\n",
       " 407: {'uid': '287', 'mid': '98', 'm': 'M', 'date1': '1997'},\n",
       " 408: {'uid': '287', 'mid': '100', 'm': 'M', 'date1': '1998'},\n",
       " 409: {'uid': '287', 'mid': '108', 'm': 'M', 'date1': '1997'},\n",
       " 410: {'uid': '287', 'mid': '111', 'm': 'M', 'date1': '1997'},\n",
       " 411: {'uid': '287', 'mid': '117', 'm': 'M', 'date1': '1997'},\n",
       " 412: {'uid': '287', 'mid': '121', 'm': 'M', 'date1': '1997'},\n",
       " 413: {'uid': '287', 'mid': '156', 'm': 'M', 'date1': '1997'},\n",
       " 414: {'uid': '287', 'mid': '168', 'm': 'M', 'date1': '1997'},\n",
       " 415: {'uid': '287', 'mid': '181', 'm': 'M', 'date1': '1997'},\n",
       " 416: {'uid': '287', 'mid': '200', 'm': 'M', 'date1': '1997'},\n",
       " 417: {'uid': '287', 'mid': '201', 'm': 'M', 'date1': '1997'},\n",
       " 418: {'uid': '287', 'mid': '208', 'm': 'M', 'date1': '1997'},\n",
       " 419: {'uid': '287', 'mid': '218', 'm': 'M', 'date1': '1997'},\n",
       " 420: {'uid': '287', 'mid': '222', 'm': 'M', 'date1': '1997'},\n",
       " 421: {'uid': '287', 'mid': '235', 'm': 'M', 'date1': '1997'},\n",
       " 422: {'uid': '287', 'mid': '237', 'm': 'M', 'date1': '1997'},\n",
       " 423: {'uid': '287', 'mid': '240', 'm': 'M', 'date1': '1997'},\n",
       " 424: {'uid': '287', 'mid': '246', 'm': 'M', 'date1': '1997'},\n",
       " 425: {'uid': '287', 'mid': '248', 'm': 'M', 'date1': '1997'},\n",
       " 426: {'uid': '287', 'mid': '249', 'm': 'M', 'date1': '1997'},\n",
       " 427: {'uid': '287', 'mid': '250', 'm': 'M', 'date1': '1997'},\n",
       " 428: {'uid': '287', 'mid': '252', 'm': 'M', 'date1': '1997'},\n",
       " 429: {'uid': '287', 'mid': '257', 'm': 'M', 'date1': '1997'},\n",
       " 430: {'uid': '287', 'mid': '268', 'm': 'M', 'date1': '1998'},\n",
       " 431: {'uid': '287', 'mid': '276', 'm': 'M', 'date1': '1997'},\n",
       " 432: {'uid': '287', 'mid': '291', 'm': 'M', 'date1': '1998'},\n",
       " 433: {'uid': '287', 'mid': '294', 'm': 'M', 'date1': '1997'},\n",
       " 434: {'uid': '287', 'mid': '298', 'm': 'M', 'date1': '1997'},\n",
       " 435: {'uid': '287', 'mid': '301', 'm': 'M', 'date1': '1997'},\n",
       " 436: {'uid': '287', 'mid': '313', 'm': 'M', 'date1': '1998'},\n",
       " 437: {'uid': '287', 'mid': '327', 'm': 'M', 'date1': '1997'},\n",
       " 438: {'uid': '287', 'mid': '340', 'm': 'M', 'date1': '1998'},\n",
       " 439: {'uid': '287', 'mid': '346', 'm': 'M', 'date1': '1998'},\n",
       " 440: {'uid': '287', 'mid': '347', 'm': 'M', 'date1': '1998'},\n",
       " 441: {'uid': '287', 'mid': '426', 'm': 'M', 'date1': '1997'},\n",
       " 442: {'uid': '287', 'mid': '461', 'm': 'M', 'date1': '1997'},\n",
       " 443: {'uid': '287', 'mid': '476', 'm': 'M', 'date1': '1997'},\n",
       " 444: {'uid': '287', 'mid': '546', 'm': 'M', 'date1': '1997'},\n",
       " 445: {'uid': '287', 'mid': '591', 'm': 'M', 'date1': '1997'},\n",
       " 446: {'uid': '287', 'mid': '652', 'm': 'M', 'date1': '1997'},\n",
       " 447: {'uid': '287', 'mid': '682', 'm': 'M', 'date1': '1998'},\n",
       " 448: {'uid': '287', 'mid': '710', 'm': 'M', 'date1': '1997'},\n",
       " 449: {'uid': '287', 'mid': '742', 'm': 'M', 'date1': '1997'},\n",
       " 450: {'uid': '287', 'mid': '748', 'm': 'M', 'date1': '1997'},\n",
       " 451: {'uid': '287', 'mid': '815', 'm': 'M', 'date1': '1997'},\n",
       " 452: {'uid': '287', 'mid': '845', 'm': 'M', 'date1': '1997'},\n",
       " 453: {'uid': '287', 'mid': '895', 'm': 'M', 'date1': '1998'},\n",
       " 454: {'uid': '287', 'mid': '926', 'm': 'M', 'date1': '1997'},\n",
       " 455: {'uid': '287', 'mid': '941', 'm': 'M', 'date1': '1997'},\n",
       " 456: {'uid': '287', 'mid': '952', 'm': 'M', 'date1': '1997'},\n",
       " 457: {'uid': '287', 'mid': '1016', 'm': 'M', 'date1': '1997'},\n",
       " 458: {'uid': '287', 'mid': '1067', 'm': 'M', 'date1': '1997'},\n",
       " 459: {'uid': '148', 'mid': '1', 'm': 'M', 'date1': '1997'},\n",
       " 460: {'uid': '148', 'mid': '7', 'm': 'M', 'date1': '1997'},\n",
       " 461: {'uid': '148', 'mid': '8', 'm': 'M', 'date1': '1997'},\n",
       " 462: {'uid': '148', 'mid': '50', 'm': 'M', 'date1': '1997'},\n",
       " 463: {'uid': '148', 'mid': '56', 'm': 'M', 'date1': '1997'},\n",
       " 464: {'uid': '148', 'mid': '69', 'm': 'M', 'date1': '1997'},\n",
       " 465: {'uid': '148', 'mid': '70', 'm': 'M', 'date1': '1997'},\n",
       " 466: {'uid': '148', 'mid': '71', 'm': 'M', 'date1': '1997'},\n",
       " 467: {'uid': '148', 'mid': '78', 'm': 'M', 'date1': '1997'},\n",
       " 468: {'uid': '148', 'mid': '89', 'm': 'M', 'date1': '1997'},\n",
       " 469: {'uid': '148', 'mid': '98', 'm': 'M', 'date1': '1997'},\n",
       " 470: {'uid': '148', 'mid': '114', 'm': 'M', 'date1': '1997'},\n",
       " 471: {'uid': '148', 'mid': '116', 'm': 'M', 'date1': '1997'},\n",
       " 472: {'uid': '148', 'mid': '127', 'm': 'M', 'date1': '1997'},\n",
       " 473: {'uid': '148', 'mid': '132', 'm': 'M', 'date1': '1997'},\n",
       " 474: {'uid': '148', 'mid': '133', 'm': 'M', 'date1': '1997'},\n",
       " 475: {'uid': '148', 'mid': '135', 'm': 'M', 'date1': '1997'},\n",
       " 476: {'uid': '148', 'mid': '140', 'm': 'M', 'date1': '1997'},\n",
       " 477: {'uid': '148', 'mid': '151', 'm': 'M', 'date1': '1997'},\n",
       " 478: {'uid': '148', 'mid': '163', 'm': 'M', 'date1': '1997'},\n",
       " 479: {'uid': '148', 'mid': '164', 'm': 'M', 'date1': '1997'},\n",
       " 480: {'uid': '148', 'mid': '168', 'm': 'M', 'date1': '1997'},\n",
       " 481: {'uid': '148', 'mid': '169', 'm': 'M', 'date1': '1997'},\n",
       " 482: {'uid': '148', 'mid': '172', 'm': 'M', 'date1': '1997'},\n",
       " 483: {'uid': '148', 'mid': '173', 'm': 'M', 'date1': '1997'},\n",
       " 484: {'uid': '148', 'mid': '174', 'm': 'M', 'date1': '1997'},\n",
       " 485: {'uid': '148', 'mid': '175', 'm': 'M', 'date1': '1997'},\n",
       " 486: {'uid': '148', 'mid': '177', 'm': 'M', 'date1': '1997'},\n",
       " 487: {'uid': '148', 'mid': '181', 'm': 'M', 'date1': '1997'},\n",
       " 488: {'uid': '148', 'mid': '185', 'm': 'M', 'date1': '1997'},\n",
       " 489: {'uid': '148', 'mid': '189', 'm': 'M', 'date1': '1997'},\n",
       " 490: {'uid': '148', 'mid': '190', 'm': 'M', 'date1': '1997'},\n",
       " 491: {'uid': '148', 'mid': '191', 'm': 'M', 'date1': '1997'},\n",
       " 492: {'uid': '148', 'mid': '194', 'm': 'M', 'date1': '1997'},\n",
       " 493: {'uid': '148', 'mid': '204', 'm': 'M', 'date1': '1997'},\n",
       " 494: {'uid': '148', 'mid': '209', 'm': 'M', 'date1': '1997'},\n",
       " 495: {'uid': '148', 'mid': '214', 'm': 'M', 'date1': '1997'},\n",
       " 496: {'uid': '148', 'mid': '222', 'm': 'M', 'date1': '1997'},\n",
       " 497: {'uid': '148', 'mid': '227', 'm': 'M', 'date1': '1997'},\n",
       " 498: {'uid': '148', 'mid': '228', 'm': 'M', 'date1': '1997'},\n",
       " 499: {'uid': '148', 'mid': '234', 'm': 'M', 'date1': '1997'},\n",
       " 500: {'uid': '148', 'mid': '238', 'm': 'M', 'date1': '1997'},\n",
       " 501: {'uid': '148', 'mid': '357', 'm': 'M', 'date1': '1997'},\n",
       " 502: {'uid': '148', 'mid': '408', 'm': 'M', 'date1': '1997'},\n",
       " 503: {'uid': '148', 'mid': '418', 'm': 'M', 'date1': '1997'},\n",
       " 504: {'uid': '148', 'mid': '432', 'm': 'M', 'date1': '1997'},\n",
       " 505: {'uid': '148', 'mid': '473', 'm': 'M', 'date1': '1997'},\n",
       " 506: {'uid': '148', 'mid': '474', 'm': 'M', 'date1': '1997'},\n",
       " 507: {'uid': '148', 'mid': '495', 'm': 'M', 'date1': '1997'},\n",
       " 508: {'uid': '148', 'mid': '496', 'm': 'M', 'date1': '1997'},\n",
       " 509: {'uid': '148', 'mid': '501', 'm': 'M', 'date1': '1997'},\n",
       " 510: {'uid': '148', 'mid': '507', 'm': 'M', 'date1': '1997'},\n",
       " 511: {'uid': '148', 'mid': '509', 'm': 'M', 'date1': '1997'},\n",
       " 512: {'uid': '148', 'mid': '521', 'm': 'M', 'date1': '1997'},\n",
       " 513: {'uid': '148', 'mid': '529', 'm': 'M', 'date1': '1997'},\n",
       " 514: {'uid': '148', 'mid': '549', 'm': 'M', 'date1': '1997'},\n",
       " 515: {'uid': '148', 'mid': '588', 'm': 'M', 'date1': '1997'},\n",
       " 516: {'uid': '148', 'mid': '596', 'm': 'M', 'date1': '1997'},\n",
       " 517: {'uid': '148', 'mid': '663', 'm': 'M', 'date1': '1997'},\n",
       " 518: {'uid': '148', 'mid': '713', 'm': 'M', 'date1': '1997'},\n",
       " 519: {'uid': '148', 'mid': '969', 'm': 'M', 'date1': '1997'},\n",
       " 520: {'uid': '148', 'mid': '993', 'm': 'M', 'date1': '1997'},\n",
       " 521: {'uid': '148', 'mid': '1012', 'm': 'M', 'date1': '1997'},\n",
       " 522: {'uid': '148', 'mid': '1039', 'm': 'M', 'date1': '1997'},\n",
       " 523: {'uid': '148', 'mid': '1149', 'm': 'M', 'date1': '1997'},\n",
       " 524: {'uid': '280', 'mid': '1', 'm': 'F', 'date1': '1998'},\n",
       " 525: {'uid': '280', 'mid': '2', 'm': 'F', 'date1': '1998'},\n",
       " 526: {'uid': '280', 'mid': '3', 'm': 'F', 'date1': '1998'},\n",
       " 527: {'uid': '280', 'mid': '4', 'm': 'F', 'date1': '1998'},\n",
       " 528: {'uid': '280', 'mid': '5', 'm': 'F', 'date1': '1998'},\n",
       " 529: {'uid': '280', 'mid': '7', 'm': 'F', 'date1': '1998'},\n",
       " 530: {'uid': '280', 'mid': '8', 'm': 'F', 'date1': '1998'},\n",
       " 531: {'uid': '280', 'mid': '9', 'm': 'F', 'date1': '1998'},\n",
       " 532: {'uid': '280', 'mid': '11', 'm': 'F', 'date1': '1998'},\n",
       " 533: {'uid': '280', 'mid': '12', 'm': 'F', 'date1': '1998'},\n",
       " 534: {'uid': '280', 'mid': '13', 'm': 'F', 'date1': '1998'},\n",
       " 535: {'uid': '280', 'mid': '22', 'm': 'F', 'date1': '1998'},\n",
       " 536: {'uid': '280', 'mid': '29', 'm': 'F', 'date1': '1998'},\n",
       " 537: {'uid': '280', 'mid': '31', 'm': 'F', 'date1': '1998'},\n",
       " 538: {'uid': '280', 'mid': '33', 'm': 'F', 'date1': '1998'},\n",
       " 539: {'uid': '280', 'mid': '38', 'm': 'F', 'date1': '1998'},\n",
       " 540: {'uid': '280', 'mid': '40', 'm': 'F', 'date1': '1998'},\n",
       " 541: {'uid': '280', 'mid': '50', 'm': 'F', 'date1': '1998'},\n",
       " 542: {'uid': '280', 'mid': '53', 'm': 'F', 'date1': '1998'},\n",
       " 543: {'uid': '280', 'mid': '54', 'm': 'F', 'date1': '1998'},\n",
       " 544: {'uid': '280', 'mid': '56', 'm': 'F', 'date1': '1998'},\n",
       " 545: {'uid': '280', 'mid': '58', 'm': 'F', 'date1': '1998'},\n",
       " 546: {'uid': '280', 'mid': '62', 'm': 'F', 'date1': '1998'},\n",
       " 547: {'uid': '280', 'mid': '66', 'm': 'F', 'date1': '1998'},\n",
       " 548: {'uid': '280', 'mid': '67', 'm': 'F', 'date1': '1998'},\n",
       " 549: {'uid': '280', 'mid': '68', 'm': 'F', 'date1': '1998'},\n",
       " 550: {'uid': '280', 'mid': '69', 'm': 'F', 'date1': '1998'},\n",
       " 551: {'uid': '280', 'mid': '70', 'm': 'F', 'date1': '1998'},\n",
       " 552: {'uid': '280', 'mid': '71', 'm': 'F', 'date1': '1998'},\n",
       " 553: {'uid': '280', 'mid': '72', 'm': 'F', 'date1': '1998'},\n",
       " 554: {'uid': '280', 'mid': '73', 'm': 'F', 'date1': '1998'},\n",
       " 555: {'uid': '280', 'mid': '76', 'm': 'F', 'date1': '1998'},\n",
       " 556: {'uid': '280', 'mid': '77', 'm': 'F', 'date1': '1998'},\n",
       " 557: {'uid': '280', 'mid': '79', 'm': 'F', 'date1': '1998'},\n",
       " 558: {'uid': '280', 'mid': '80', 'm': 'F', 'date1': '1998'},\n",
       " 559: {'uid': '280', 'mid': '82', 'm': 'F', 'date1': '1998'},\n",
       " 560: {'uid': '280', 'mid': '86', 'm': 'F', 'date1': '1998'},\n",
       " 561: {'uid': '280', 'mid': '88', 'm': 'F', 'date1': '1998'},\n",
       " 562: {'uid': '280', 'mid': '90', 'm': 'F', 'date1': '1998'},\n",
       " 563: {'uid': '280', 'mid': '92', 'm': 'F', 'date1': '1998'},\n",
       " 564: {'uid': '280', 'mid': '94', 'm': 'F', 'date1': '1998'},\n",
       " 565: {'uid': '280', 'mid': '95', 'm': 'F', 'date1': '1998'},\n",
       " 566: {'uid': '280', 'mid': '96', 'm': 'F', 'date1': '1998'},\n",
       " 567: {'uid': '280', 'mid': '98', 'm': 'F', 'date1': '1998'},\n",
       " 568: {'uid': '280', 'mid': '99', 'm': 'F', 'date1': '1998'},\n",
       " 569: {'uid': '280', 'mid': '100', 'm': 'F', 'date1': '1998'},\n",
       " 570: {'uid': '280', 'mid': '102', 'm': 'F', 'date1': '1998'},\n",
       " 571: {'uid': '280', 'mid': '103', 'm': 'F', 'date1': '1998'},\n",
       " 572: {'uid': '280', 'mid': '111', 'm': 'F', 'date1': '1998'},\n",
       " 573: {'uid': '280', 'mid': '112', 'm': 'F', 'date1': '1998'},\n",
       " 574: {'uid': '280', 'mid': '117', 'm': 'F', 'date1': '1998'},\n",
       " 575: {'uid': '280', 'mid': '118', 'm': 'F', 'date1': '1998'},\n",
       " 576: {'uid': '280', 'mid': '125', 'm': 'F', 'date1': '1998'},\n",
       " 577: {'uid': '280', 'mid': '126', 'm': 'F', 'date1': '1998'},\n",
       " 578: {'uid': '280', 'mid': '127', 'm': 'F', 'date1': '1998'},\n",
       " 579: {'uid': '280', 'mid': '128', 'm': 'F', 'date1': '1998'},\n",
       " 580: {'uid': '280', 'mid': '132', 'm': 'F', 'date1': '1998'},\n",
       " 581: {'uid': '280', 'mid': '135', 'm': 'F', 'date1': '1998'},\n",
       " 582: {'uid': '280', 'mid': '140', 'm': 'F', 'date1': '1998'},\n",
       " 583: {'uid': '280', 'mid': '142', 'm': 'F', 'date1': '1998'},\n",
       " 584: {'uid': '280', 'mid': '144', 'm': 'F', 'date1': '1998'},\n",
       " 585: {'uid': '280', 'mid': '145', 'm': 'F', 'date1': '1998'},\n",
       " 586: {'uid': '280', 'mid': '153', 'm': 'F', 'date1': '1998'},\n",
       " 587: {'uid': '280', 'mid': '155', 'm': 'F', 'date1': '1998'},\n",
       " 588: {'uid': '280', 'mid': '156', 'm': 'F', 'date1': '1998'},\n",
       " 589: {'uid': '280', 'mid': '157', 'm': 'F', 'date1': '1998'},\n",
       " 590: {'uid': '280', 'mid': '158', 'm': 'F', 'date1': '1998'},\n",
       " 591: {'uid': '280', 'mid': '159', 'm': 'F', 'date1': '1998'},\n",
       " 592: {'uid': '280', 'mid': '161', 'm': 'F', 'date1': '1998'},\n",
       " 593: {'uid': '280', 'mid': '162', 'm': 'F', 'date1': '1998'},\n",
       " 594: {'uid': '280', 'mid': '167', 'm': 'F', 'date1': '1998'},\n",
       " 595: {'uid': '280', 'mid': '172', 'm': 'F', 'date1': '1998'},\n",
       " 596: {'uid': '280', 'mid': '173', 'm': 'F', 'date1': '1998'},\n",
       " 597: {'uid': '280', 'mid': '174', 'm': 'F', 'date1': '1998'},\n",
       " 598: {'uid': '280', 'mid': '176', 'm': 'F', 'date1': '1998'},\n",
       " 599: {'uid': '280', 'mid': '180', 'm': 'F', 'date1': '1998'},\n",
       " 600: {'uid': '280', 'mid': '181', 'm': 'F', 'date1': '1998'},\n",
       " 601: {'uid': '280', 'mid': '182', 'm': 'F', 'date1': '1998'},\n",
       " 602: {'uid': '280', 'mid': '183', 'm': 'F', 'date1': '1998'},\n",
       " 603: {'uid': '280', 'mid': '195', 'm': 'F', 'date1': '1998'},\n",
       " 604: {'uid': '280', 'mid': '197', 'm': 'F', 'date1': '1998'},\n",
       " 605: {'uid': '280', 'mid': '200', 'm': 'F', 'date1': '1998'},\n",
       " 606: {'uid': '280', 'mid': '202', 'm': 'F', 'date1': '1998'},\n",
       " 607: {'uid': '280', 'mid': '203', 'm': 'F', 'date1': '1998'},\n",
       " 608: {'uid': '280', 'mid': '204', 'm': 'F', 'date1': '1998'},\n",
       " 609: {'uid': '280', 'mid': '210', 'm': 'F', 'date1': '1998'},\n",
       " 610: {'uid': '280', 'mid': '215', 'm': 'F', 'date1': '1998'},\n",
       " 611: {'uid': '280', 'mid': '216', 'm': 'F', 'date1': '1998'},\n",
       " 612: {'uid': '280', 'mid': '217', 'm': 'F', 'date1': '1998'},\n",
       " 613: {'uid': '280', 'mid': '218', 'm': 'F', 'date1': '1998'},\n",
       " 614: {'uid': '280', 'mid': '219', 'm': 'F', 'date1': '1998'},\n",
       " 615: {'uid': '280', 'mid': '220', 'm': 'F', 'date1': '1998'},\n",
       " 616: {'uid': '280', 'mid': '222', 'm': 'F', 'date1': '1998'},\n",
       " 617: {'uid': '280', 'mid': '225', 'm': 'F', 'date1': '1998'},\n",
       " 618: {'uid': '280', 'mid': '226', 'm': 'F', 'date1': '1998'},\n",
       " 619: {'uid': '280', 'mid': '227', 'm': 'F', 'date1': '1998'},\n",
       " 620: {'uid': '280', 'mid': '228', 'm': 'F', 'date1': '1998'},\n",
       " 621: {'uid': '280', 'mid': '229', 'm': 'F', 'date1': '1998'},\n",
       " 622: {'uid': '280', 'mid': '230', 'm': 'F', 'date1': '1998'},\n",
       " 623: {'uid': '280', 'mid': '231', 'm': 'F', 'date1': '1998'},\n",
       " 624: {'uid': '280', 'mid': '232', 'm': 'F', 'date1': '1998'},\n",
       " 625: {'uid': '280', 'mid': '233', 'm': 'F', 'date1': '1998'},\n",
       " 626: {'uid': '280', 'mid': '234', 'm': 'F', 'date1': '1998'},\n",
       " 627: {'uid': '280', 'mid': '235', 'm': 'F', 'date1': '1998'},\n",
       " 628: {'uid': '280', 'mid': '237', 'm': 'F', 'date1': '1998'},\n",
       " 629: {'uid': '280', 'mid': '239', 'm': 'F', 'date1': '1998'},\n",
       " 630: {'uid': '280', 'mid': '241', 'm': 'F', 'date1': '1998'},\n",
       " 631: {'uid': '280', 'mid': '245', 'm': 'F', 'date1': '1998'},\n",
       " 632: {'uid': '280', 'mid': '265', 'm': 'F', 'date1': '1998'},\n",
       " 633: {'uid': '280', 'mid': '274', 'm': 'F', 'date1': '1998'},\n",
       " 634: {'uid': '280', 'mid': '276', 'm': 'F', 'date1': '1998'},\n",
       " 635: {'uid': '280', 'mid': '282', 'm': 'F', 'date1': '1998'},\n",
       " 636: {'uid': '280', 'mid': '284', 'm': 'F', 'date1': '1998'},\n",
       " 637: {'uid': '280', 'mid': '286', 'm': 'F', 'date1': '1998'},\n",
       " 638: {'uid': '280', 'mid': '288', 'm': 'F', 'date1': '1998'},\n",
       " 639: {'uid': '280', 'mid': '294', 'm': 'F', 'date1': '1998'},\n",
       " 640: {'uid': '280', 'mid': '313', 'm': 'F', 'date1': '1998'},\n",
       " 641: {'uid': '280', 'mid': '315', 'm': 'F', 'date1': '1998'},\n",
       " 642: {'uid': '280', 'mid': '316', 'm': 'F', 'date1': '1998'},\n",
       " 643: {'uid': '280', 'mid': '318', 'm': 'F', 'date1': '1998'},\n",
       " 644: {'uid': '280', 'mid': '322', 'm': 'F', 'date1': '1998'},\n",
       " 645: {'uid': '280', 'mid': '323', 'm': 'F', 'date1': '1998'},\n",
       " 646: {'uid': '280', 'mid': '324', 'm': 'F', 'date1': '1998'},\n",
       " 647: {'uid': '280', 'mid': '364', 'm': 'F', 'date1': '1998'},\n",
       " 648: {'uid': '280', 'mid': '367', 'm': 'F', 'date1': '1998'},\n",
       " 649: {'uid': '280', 'mid': '379', 'm': 'F', 'date1': '1998'},\n",
       " 650: {'uid': '280', 'mid': '380', 'm': 'F', 'date1': '1998'},\n",
       " 651: {'uid': '280', 'mid': '381', 'm': 'F', 'date1': '1998'},\n",
       " 652: {'uid': '280', 'mid': '384', 'm': 'F', 'date1': '1998'},\n",
       " 653: {'uid': '280', 'mid': '385', 'm': 'F', 'date1': '1998'},\n",
       " 654: {'uid': '280', 'mid': '387', 'm': 'F', 'date1': '1998'},\n",
       " 655: {'uid': '280', 'mid': '388', 'm': 'F', 'date1': '1998'},\n",
       " 656: {'uid': '280', 'mid': '389', 'm': 'F', 'date1': '1998'},\n",
       " 657: {'uid': '280', 'mid': '392', 'm': 'F', 'date1': '1998'},\n",
       " 658: {'uid': '280', 'mid': '393', 'm': 'F', 'date1': '1998'},\n",
       " 659: {'uid': '280', 'mid': '402', 'm': 'F', 'date1': '1998'},\n",
       " 660: {'uid': '280', 'mid': '403', 'm': 'F', 'date1': '1998'},\n",
       " 661: {'uid': '280', 'mid': '404', 'm': 'F', 'date1': '1998'},\n",
       " 662: {'uid': '280', 'mid': '405', 'm': 'F', 'date1': '1998'},\n",
       " 663: {'uid': '280', 'mid': '409', 'm': 'F', 'date1': '1998'},\n",
       " 664: {'uid': '280', 'mid': '411', 'm': 'F', 'date1': '1998'},\n",
       " 665: {'uid': '280', 'mid': '416', 'm': 'F', 'date1': '1998'},\n",
       " 666: {'uid': '280', 'mid': '419', 'm': 'F', 'date1': '1998'},\n",
       " 667: {'uid': '280', 'mid': '420', 'm': 'F', 'date1': '1998'},\n",
       " 668: {'uid': '280', 'mid': '423', 'm': 'F', 'date1': '1998'},\n",
       " 669: {'uid': '280', 'mid': '431', 'm': 'F', 'date1': '1998'},\n",
       " 670: {'uid': '280', 'mid': '448', 'm': 'F', 'date1': '1998'},\n",
       " 671: {'uid': '280', 'mid': '449', 'm': 'F', 'date1': '1998'},\n",
       " 672: {'uid': '280', 'mid': '451', 'm': 'F', 'date1': '1998'},\n",
       " 673: {'uid': '280', 'mid': '452', 'm': 'F', 'date1': '1998'},\n",
       " 674: {'uid': '280', 'mid': '465', 'm': 'F', 'date1': '1998'},\n",
       " 675: {'uid': '280', 'mid': '468', 'm': 'F', 'date1': '1998'},\n",
       " 676: {'uid': '280', 'mid': '471', 'm': 'F', 'date1': '1998'},\n",
       " 677: {'uid': '280', 'mid': '472', 'm': 'F', 'date1': '1998'},\n",
       " 678: {'uid': '280', 'mid': '476', 'm': 'F', 'date1': '1998'},\n",
       " 679: {'uid': '280', 'mid': '483', 'm': 'F', 'date1': '1998'},\n",
       " 680: {'uid': '280', 'mid': '486', 'm': 'F', 'date1': '1998'},\n",
       " 681: {'uid': '280', 'mid': '496', 'm': 'F', 'date1': '1998'},\n",
       " 682: {'uid': '280', 'mid': '499', 'm': 'F', 'date1': '1998'},\n",
       " 683: {'uid': '280', 'mid': '507', 'm': 'F', 'date1': '1998'},\n",
       " 684: {'uid': '280', 'mid': '508', 'm': 'F', 'date1': '1998'},\n",
       " 685: {'uid': '280', 'mid': '527', 'm': 'F', 'date1': '1998'},\n",
       " 686: {'uid': '280', 'mid': '528', 'm': 'F', 'date1': '1998'},\n",
       " 687: {'uid': '280', 'mid': '538', 'm': 'F', 'date1': '1998'},\n",
       " 688: {'uid': '280', 'mid': '540', 'm': 'F', 'date1': '1998'},\n",
       " 689: {'uid': '280', 'mid': '542', 'm': 'F', 'date1': '1998'},\n",
       " 690: {'uid': '280', 'mid': '544', 'm': 'F', 'date1': '1998'},\n",
       " 691: {'uid': '280', 'mid': '546', 'm': 'F', 'date1': '1998'},\n",
       " 692: {'uid': '280', 'mid': '550', 'm': 'F', 'date1': '1998'},\n",
       " 693: {'uid': '280', 'mid': '554', 'm': 'F', 'date1': '1998'},\n",
       " 694: {'uid': '280', 'mid': '559', 'm': 'F', 'date1': '1998'},\n",
       " 695: {'uid': '280', 'mid': '566', 'm': 'F', 'date1': '1998'},\n",
       " 696: {'uid': '280', 'mid': '568', 'm': 'F', 'date1': '1998'},\n",
       " 697: {'uid': '280', 'mid': '571', 'm': 'F', 'date1': '1998'},\n",
       " 698: {'uid': '280', 'mid': '575', 'm': 'F', 'date1': '1998'},\n",
       " 699: {'uid': '280', 'mid': '576', 'm': 'F', 'date1': '1998'},\n",
       " 700: {'uid': '280', 'mid': '584', 'm': 'F', 'date1': '1998'},\n",
       " 701: {'uid': '280', 'mid': '585', 'm': 'F', 'date1': '1998'},\n",
       " 702: {'uid': '280', 'mid': '586', 'm': 'F', 'date1': '1998'},\n",
       " 703: {'uid': '280', 'mid': '588', 'm': 'F', 'date1': '1998'},\n",
       " 704: {'uid': '280', 'mid': '595', 'm': 'F', 'date1': '1998'},\n",
       " 705: {'uid': '280', 'mid': '609', 'm': 'F', 'date1': '1998'},\n",
       " 706: {'uid': '280', 'mid': '619', 'm': 'F', 'date1': '1998'},\n",
       " 707: {'uid': '280', 'mid': '629', 'm': 'F', 'date1': '1998'},\n",
       " 708: {'uid': '280', 'mid': '631', 'm': 'F', 'date1': '1998'},\n",
       " 709: {'uid': '280', 'mid': '655', 'm': 'F', 'date1': '1998'},\n",
       " 710: {'uid': '280', 'mid': '660', 'm': 'F', 'date1': '1998'},\n",
       " 711: {'uid': '280', 'mid': '663', 'm': 'F', 'date1': '1998'},\n",
       " 712: {'uid': '280', 'mid': '670', 'm': 'F', 'date1': '1998'},\n",
       " 713: {'uid': '280', 'mid': '673', 'm': 'F', 'date1': '1998'},\n",
       " 714: {'uid': '280', 'mid': '678', 'm': 'F', 'date1': '1998'},\n",
       " 715: {'uid': '280', 'mid': '690', 'm': 'F', 'date1': '1998'},\n",
       " 716: {'uid': '280', 'mid': '692', 'm': 'F', 'date1': '1998'},\n",
       " 717: {'uid': '280', 'mid': '693', 'm': 'F', 'date1': '1998'},\n",
       " 718: {'uid': '280', 'mid': '697', 'm': 'F', 'date1': '1998'},\n",
       " 719: {'uid': '280', 'mid': '699', 'm': 'F', 'date1': '1998'},\n",
       " 720: {'uid': '280', 'mid': '715', 'm': 'F', 'date1': '1998'},\n",
       " 721: {'uid': '280', 'mid': '722', 'm': 'F', 'date1': '1998'},\n",
       " 722: {'uid': '280', 'mid': '723', 'm': 'F', 'date1': '1998'},\n",
       " 723: {'uid': '280', 'mid': '725', 'm': 'F', 'date1': '1998'},\n",
       " 724: {'uid': '280', 'mid': '728', 'm': 'F', 'date1': '1998'},\n",
       " 725: {'uid': '280', 'mid': '729', 'm': 'F', 'date1': '1998'},\n",
       " 726: {'uid': '280', 'mid': '731', 'm': 'F', 'date1': '1998'},\n",
       " 727: {'uid': '280', 'mid': '735', 'm': 'F', 'date1': '1998'},\n",
       " 728: {'uid': '280', 'mid': '736', 'm': 'F', 'date1': '1998'},\n",
       " 729: {'uid': '280', 'mid': '739', 'm': 'F', 'date1': '1998'},\n",
       " 730: {'uid': '280', 'mid': '742', 'm': 'F', 'date1': '1998'},\n",
       " 731: {'uid': '280', 'mid': '746', 'm': 'F', 'date1': '1998'},\n",
       " 732: {'uid': '280', 'mid': '748', 'm': 'F', 'date1': '1998'},\n",
       " 733: {'uid': '280', 'mid': '750', 'm': 'F', 'date1': '1998'},\n",
       " 734: {'uid': '280', 'mid': '751', 'm': 'F', 'date1': '1998'},\n",
       " 735: {'uid': '280', 'mid': '755', 'm': 'F', 'date1': '1998'},\n",
       " 736: {'uid': '280', 'mid': '756', 'm': 'F', 'date1': '1998'},\n",
       " 737: {'uid': '280', 'mid': '764', 'm': 'F', 'date1': '1998'},\n",
       " 738: {'uid': '280', 'mid': '765', 'm': 'F', 'date1': '1998'},\n",
       " 739: {'uid': '280', 'mid': '769', 'm': 'F', 'date1': '1998'},\n",
       " 740: {'uid': '280', 'mid': '771', 'm': 'F', 'date1': '1998'},\n",
       " 741: {'uid': '280', 'mid': '780', 'm': 'F', 'date1': '1998'},\n",
       " 742: {'uid': '280', 'mid': '781', 'm': 'F', 'date1': '1998'},\n",
       " 743: {'uid': '280', 'mid': '790', 'm': 'F', 'date1': '1998'},\n",
       " 744: {'uid': '280', 'mid': '845', 'm': 'F', 'date1': '1998'},\n",
       " 745: {'uid': '280', 'mid': '866', 'm': 'F', 'date1': '1998'},\n",
       " 746: {'uid': '280', 'mid': '925', 'm': 'F', 'date1': '1998'},\n",
       " 747: {'uid': '280', 'mid': '928', 'm': 'F', 'date1': '1998'},\n",
       " 748: {'uid': '280', 'mid': '934', 'm': 'F', 'date1': '1998'},\n",
       " 749: {'uid': '280', 'mid': '942', 'm': 'F', 'date1': '1998'},\n",
       " 750: {'uid': '280', 'mid': '946', 'm': 'F', 'date1': '1998'},\n",
       " 751: {'uid': '280', 'mid': '975', 'm': 'F', 'date1': '1998'},\n",
       " 752: {'uid': '280', 'mid': '977', 'm': 'F', 'date1': '1998'},\n",
       " 753: {'uid': '280', 'mid': '1015', 'm': 'F', 'date1': '1998'},\n",
       " 754: {'uid': '280', 'mid': '1028', 'm': 'F', 'date1': '1998'},\n",
       " 755: {'uid': '280', 'mid': '1035', 'm': 'F', 'date1': '1998'},\n",
       " 756: {'uid': '280', 'mid': '1041', 'm': 'F', 'date1': '1998'},\n",
       " 757: {'uid': '280', 'mid': '1047', 'm': 'F', 'date1': '1998'},\n",
       " 758: {'uid': '280', 'mid': '1048', 'm': 'F', 'date1': '1998'},\n",
       " 759: {'uid': '280', 'mid': '1049', 'm': 'F', 'date1': '1998'},\n",
       " 760: {'uid': '280', 'mid': '1051', 'm': 'F', 'date1': '1998'},\n",
       " 761: {'uid': '280', 'mid': '1060', 'm': 'F', 'date1': '1998'},\n",
       " 762: {'uid': '280', 'mid': '1063', 'm': 'F', 'date1': '1998'},\n",
       " 763: {'uid': '280', 'mid': '1066', 'm': 'F', 'date1': '1998'},\n",
       " 764: {'uid': '280', 'mid': '1099', 'm': 'F', 'date1': '1998'},\n",
       " 765: {'uid': '280', 'mid': '1112', 'm': 'F', 'date1': '1998'},\n",
       " 766: {'uid': '280', 'mid': '1114', 'm': 'F', 'date1': '1998'},\n",
       " 767: {'uid': '280', 'mid': '1133', 'm': 'F', 'date1': '1998'},\n",
       " 768: {'uid': '280', 'mid': '1168', 'm': 'F', 'date1': '1998'},\n",
       " 769: {'uid': '280', 'mid': '1181', 'm': 'F', 'date1': '1998'},\n",
       " 770: {'uid': '280', 'mid': '1182', 'm': 'F', 'date1': '1998'},\n",
       " 771: {'uid': '280', 'mid': '1207', 'm': 'F', 'date1': '1998'},\n",
       " 772: {'uid': '280', 'mid': '1217', 'm': 'F', 'date1': '1998'},\n",
       " 773: {'uid': '280', 'mid': '1221', 'm': 'F', 'date1': '1998'},\n",
       " 774: {'uid': '280', 'mid': '1297', 'm': 'F', 'date1': '1998'},\n",
       " 775: {'uid': '280', 'mid': '1313', 'm': 'F', 'date1': '1998'},\n",
       " 776: {'uid': '280', 'mid': '1401', 'm': 'F', 'date1': '1998'},\n",
       " 777: {'uid': '280', 'mid': '1459', 'm': 'F', 'date1': '1998'},\n",
       " 778: {'uid': '280', 'mid': '1466', 'm': 'F', 'date1': '1998'},\n",
       " 779: {'uid': '280', 'mid': '1473', 'm': 'F', 'date1': '1998'},\n",
       " 780: {'uid': '280', 'mid': '1478', 'm': 'F', 'date1': '1998'},\n",
       " 781: {'uid': '280', 'mid': '1479', 'm': 'F', 'date1': '1998'},\n",
       " 782: {'uid': '66', 'mid': '1', 'm': 'M', 'date1': '1997'},\n",
       " 783: {'uid': '66', 'mid': '7', 'm': 'M', 'date1': '1997'},\n",
       " 784: {'uid': '66', 'mid': '9', 'm': 'M', 'date1': '1997'},\n",
       " 785: {'uid': '66', 'mid': '15', 'm': 'M', 'date1': '1997'},\n",
       " 786: {'uid': '66', 'mid': '21', 'm': 'M', 'date1': '1997'},\n",
       " 787: {'uid': '66', 'mid': '24', 'm': 'M', 'date1': '1997'},\n",
       " 788: {'uid': '66', 'mid': '50', 'm': 'M', 'date1': '1997'},\n",
       " 789: {'uid': '66', 'mid': '117', 'm': 'M', 'date1': '1997'},\n",
       " 790: {'uid': '66', 'mid': '121', 'm': 'M', 'date1': '1997'},\n",
       " 791: {'uid': '66', 'mid': '127', 'm': 'M', 'date1': '1997'},\n",
       " 792: {'uid': '66', 'mid': '181', 'm': 'M', 'date1': '1997'},\n",
       " 793: {'uid': '66', 'mid': '237', 'm': 'M', 'date1': '1997'},\n",
       " 794: {'uid': '66', 'mid': '248', 'm': 'M', 'date1': '1997'},\n",
       " 795: {'uid': '66', 'mid': '249', 'm': 'M', 'date1': '1997'},\n",
       " 796: {'uid': '66', 'mid': '257', 'm': 'M', 'date1': '1997'},\n",
       " 797: {'uid': '66', 'mid': '258', 'm': 'M', 'date1': '1997'},\n",
       " 798: {'uid': '66', 'mid': '280', 'm': 'M', 'date1': '1997'},\n",
       " 799: {'uid': '66', 'mid': '281', 'm': 'M', 'date1': '1997'},\n",
       " 800: {'uid': '66', 'mid': '282', 'm': 'M', 'date1': '1997'},\n",
       " 801: {'uid': '66', 'mid': '284', 'm': 'M', 'date1': '1997'},\n",
       " 802: {'uid': '66', 'mid': '286', 'm': 'M', 'date1': '1997'},\n",
       " 803: {'uid': '66', 'mid': '288', 'm': 'M', 'date1': '1997'},\n",
       " 804: {'uid': '66', 'mid': '294', 'm': 'M', 'date1': '1997'},\n",
       " 805: {'uid': '66', 'mid': '295', 'm': 'M', 'date1': '1997'},\n",
       " 806: {'uid': '66', 'mid': '298', 'm': 'M', 'date1': '1997'},\n",
       " 807: {'uid': '66', 'mid': '300', 'm': 'M', 'date1': '1997'},\n",
       " 808: {'uid': '66', 'mid': '405', 'm': 'M', 'date1': '1997'},\n",
       " 809: {'uid': '66', 'mid': '471', 'm': 'M', 'date1': '1997'},\n",
       " 810: {'uid': '66', 'mid': '475', 'm': 'M', 'date1': '1997'},\n",
       " 811: {'uid': '66', 'mid': '508', 'm': 'M', 'date1': '1997'},\n",
       " 812: {'uid': '66', 'mid': '535', 'm': 'M', 'date1': '1997'},\n",
       " 813: {'uid': '66', 'mid': '597', 'm': 'M', 'date1': '1997'},\n",
       " 814: {'uid': '66', 'mid': '741', 'm': 'M', 'date1': '1997'},\n",
       " 815: {'uid': '66', 'mid': '742', 'm': 'M', 'date1': '1997'},\n",
       " 816: {'uid': '66', 'mid': '763', 'm': 'M', 'date1': '1997'},\n",
       " 817: {'uid': '66', 'mid': '825', 'm': 'M', 'date1': '1997'},\n",
       " 818: {'uid': '66', 'mid': '877', 'm': 'M', 'date1': '1997'},\n",
       " 819: {'uid': '66', 'mid': '1016', 'm': 'M', 'date1': '1997'},\n",
       " 820: {'uid': '5', 'mid': '1', 'm': 'F', 'date1': '1997'},\n",
       " 821: {'uid': '5', 'mid': '2', 'm': 'F', 'date1': '1997'},\n",
       " 822: {'uid': '5', 'mid': '17', 'm': 'F', 'date1': '1997'},\n",
       " 823: {'uid': '5', 'mid': '21', 'm': 'F', 'date1': '1997'},\n",
       " 824: {'uid': '5', 'mid': '24', 'm': 'F', 'date1': '1997'},\n",
       " 825: {'uid': '5', 'mid': '25', 'm': 'F', 'date1': '1997'},\n",
       " 826: {'uid': '5', 'mid': '29', 'm': 'F', 'date1': '1997'},\n",
       " 827: {'uid': '5', 'mid': '40', 'm': 'F', 'date1': '1997'},\n",
       " 828: {'uid': '5', 'mid': '42', 'm': 'F', 'date1': '1997'},\n",
       " 829: {'uid': '5', 'mid': '50', 'm': 'F', 'date1': '1997'},\n",
       " 830: {'uid': '5', 'mid': '62', 'm': 'F', 'date1': '1997'},\n",
       " 831: {'uid': '5', 'mid': '63', 'm': 'F', 'date1': '1997'},\n",
       " 832: {'uid': '5', 'mid': '66', 'm': 'F', 'date1': '1997'},\n",
       " 833: {'uid': '5', 'mid': '69', 'm': 'F', 'date1': '1997'},\n",
       " 834: {'uid': '5', 'mid': '70', 'm': 'F', 'date1': '1997'},\n",
       " 835: {'uid': '5', 'mid': '79', 'm': 'F', 'date1': '1997'},\n",
       " 836: {'uid': '5', 'mid': '80', 'm': 'F', 'date1': '1997'},\n",
       " 837: {'uid': '5', 'mid': '89', 'm': 'F', 'date1': '1997'},\n",
       " 838: {'uid': '5', 'mid': '90', 'm': 'F', 'date1': '1997'},\n",
       " 839: {'uid': '5', 'mid': '94', 'm': 'F', 'date1': '1997'},\n",
       " 840: {'uid': '5', 'mid': '95', 'm': 'F', 'date1': '1997'},\n",
       " 841: {'uid': '5', 'mid': '98', 'm': 'F', 'date1': '1997'},\n",
       " 842: {'uid': '5', 'mid': '99', 'm': 'F', 'date1': '1997'},\n",
       " 843: {'uid': '5', 'mid': '100', 'm': 'F', 'date1': '1997'},\n",
       " 844: {'uid': '5', 'mid': '101', 'm': 'F', 'date1': '1997'},\n",
       " 845: {'uid': '5', 'mid': '102', 'm': 'F', 'date1': '1997'},\n",
       " 846: {'uid': '5', 'mid': '105', 'm': 'F', 'date1': '1997'},\n",
       " 847: {'uid': '5', 'mid': '109', 'm': 'F', 'date1': '1997'},\n",
       " 848: {'uid': '5', 'mid': '110', 'm': 'F', 'date1': '1997'},\n",
       " 849: {'uid': '5', 'mid': '121', 'm': 'F', 'date1': '1997'},\n",
       " 850: {'uid': '5', 'mid': '135', 'm': 'F', 'date1': '1997'},\n",
       " 851: {'uid': '5', 'mid': '139', 'm': 'F', 'date1': '1997'},\n",
       " 852: {'uid': '5', 'mid': '143', 'm': 'F', 'date1': '1997'},\n",
       " 853: {'uid': '5', 'mid': '144', 'm': 'F', 'date1': '1997'},\n",
       " 854: {'uid': '5', 'mid': '145', 'm': 'F', 'date1': '1997'},\n",
       " 855: {'uid': '5', 'mid': '151', 'm': 'F', 'date1': '1997'},\n",
       " 856: {'uid': '5', 'mid': '153', 'm': 'F', 'date1': '1997'},\n",
       " 857: {'uid': '5', 'mid': '154', 'm': 'F', 'date1': '1997'},\n",
       " 858: {'uid': '5', 'mid': '162', 'm': 'F', 'date1': '1997'},\n",
       " 859: {'uid': '5', 'mid': '163', 'm': 'F', 'date1': '1997'},\n",
       " 860: {'uid': '5', 'mid': '167', 'm': 'F', 'date1': '1997'},\n",
       " 861: {'uid': '5', 'mid': '168', 'm': 'F', 'date1': '1997'},\n",
       " 862: {'uid': '5', 'mid': '169', 'm': 'F', 'date1': '1997'},\n",
       " 863: {'uid': '5', 'mid': '172', 'm': 'F', 'date1': '1997'},\n",
       " 864: {'uid': '5', 'mid': '173', 'm': 'F', 'date1': '1997'},\n",
       " 865: {'uid': '5', 'mid': '174', 'm': 'F', 'date1': '1997'},\n",
       " 866: {'uid': '5', 'mid': '176', 'm': 'F', 'date1': '1997'},\n",
       " 867: {'uid': '5', 'mid': '181', 'm': 'F', 'date1': '1997'},\n",
       " 868: {'uid': '5', 'mid': '183', 'm': 'F', 'date1': '1997'},\n",
       " 869: {'uid': '5', 'mid': '185', 'm': 'F', 'date1': '1997'},\n",
       " 870: {'uid': '5', 'mid': '186', 'm': 'F', 'date1': '1997'},\n",
       " 871: {'uid': '5', 'mid': '189', 'm': 'F', 'date1': '1997'},\n",
       " 872: {'uid': '5', 'mid': '194', 'm': 'F', 'date1': '1997'},\n",
       " 873: {'uid': '5', 'mid': '200', 'm': 'F', 'date1': '1997'},\n",
       " 874: {'uid': '5', 'mid': '204', 'm': 'F', 'date1': '1997'},\n",
       " 875: {'uid': '5', 'mid': '208', 'm': 'F', 'date1': '1997'},\n",
       " 876: {'uid': '5', 'mid': '209', 'm': 'F', 'date1': '1997'},\n",
       " 877: {'uid': '5', 'mid': '210', 'm': 'F', 'date1': '1997'},\n",
       " 878: {'uid': '5', 'mid': '211', 'm': 'F', 'date1': '1997'},\n",
       " 879: {'uid': '5', 'mid': '214', 'm': 'F', 'date1': '1997'},\n",
       " 880: {'uid': '5', 'mid': '216', 'm': 'F', 'date1': '1997'},\n",
       " 881: {'uid': '5', 'mid': '219', 'm': 'F', 'date1': '1997'},\n",
       " 882: {'uid': '5', 'mid': '222', 'm': 'F', 'date1': '1997'},\n",
       " 883: {'uid': '5', 'mid': '225', 'm': 'F', 'date1': '1997'},\n",
       " 884: {'uid': '5', 'mid': '226', 'm': 'F', 'date1': '1997'},\n",
       " 885: {'uid': '5', 'mid': '227', 'm': 'F', 'date1': '1997'},\n",
       " 886: {'uid': '5', 'mid': '228', 'm': 'F', 'date1': '1997'},\n",
       " 887: {'uid': '5', 'mid': '229', 'm': 'F', 'date1': '1997'},\n",
       " 888: {'uid': '5', 'mid': '230', 'm': 'F', 'date1': '1997'},\n",
       " 889: {'uid': '5', 'mid': '231', 'm': 'F', 'date1': '1997'},\n",
       " 890: {'uid': '5', 'mid': '233', 'm': 'F', 'date1': '1997'},\n",
       " 891: {'uid': '5', 'mid': '234', 'm': 'F', 'date1': '1997'},\n",
       " 892: {'uid': '5', 'mid': '235', 'm': 'F', 'date1': '1997'},\n",
       " 893: {'uid': '5', 'mid': '239', 'm': 'F', 'date1': '1997'},\n",
       " 894: {'uid': '5', 'mid': '241', 'm': 'F', 'date1': '1997'},\n",
       " 895: {'uid': '5', 'mid': '243', 'm': 'F', 'date1': '1997'},\n",
       " 896: {'uid': '5', 'mid': '250', 'm': 'F', 'date1': '1997'},\n",
       " 897: {'uid': '5', 'mid': '257', 'm': 'F', 'date1': '1997'},\n",
       " 898: {'uid': '5', 'mid': '259', 'm': 'F', 'date1': '1997'},\n",
       " 899: {'uid': '5', 'mid': '267', 'm': 'F', 'date1': '1997'},\n",
       " 900: {'uid': '5', 'mid': '363', 'm': 'F', 'date1': '1997'},\n",
       " 901: {'uid': '5', 'mid': '364', 'm': 'F', 'date1': '1997'},\n",
       " 902: {'uid': '5', 'mid': '365', 'm': 'F', 'date1': '1997'},\n",
       " 903: {'uid': '5', 'mid': '366', 'm': 'F', 'date1': '1997'},\n",
       " 904: {'uid': '5', 'mid': '367', 'm': 'F', 'date1': '1997'},\n",
       " 905: {'uid': '5', 'mid': '368', 'm': 'F', 'date1': '1997'},\n",
       " 906: {'uid': '5', 'mid': '369', 'm': 'F', 'date1': '1997'},\n",
       " 907: {'uid': '5', 'mid': '370', 'm': 'F', 'date1': '1997'},\n",
       " 908: {'uid': '5', 'mid': '371', 'm': 'F', 'date1': '1997'},\n",
       " 909: {'uid': '5', 'mid': '372', 'm': 'F', 'date1': '1997'},\n",
       " 910: {'uid': '5', 'mid': '373', 'm': 'F', 'date1': '1997'},\n",
       " 911: {'uid': '5', 'mid': '374', 'm': 'F', 'date1': '1997'},\n",
       " 912: {'uid': '5', 'mid': '375', 'm': 'F', 'date1': '1997'},\n",
       " 913: {'uid': '5', 'mid': '376', 'm': 'F', 'date1': '1997'},\n",
       " 914: {'uid': '5', 'mid': '377', 'm': 'F', 'date1': '1997'},\n",
       " 915: {'uid': '5', 'mid': '378', 'm': 'F', 'date1': '1997'},\n",
       " 916: {'uid': '5', 'mid': '379', 'm': 'F', 'date1': '1997'},\n",
       " 917: {'uid': '5', 'mid': '380', 'm': 'F', 'date1': '1997'},\n",
       " 918: {'uid': '5', 'mid': '381', 'm': 'F', 'date1': '1997'},\n",
       " 919: {'uid': '5', 'mid': '382', 'm': 'F', 'date1': '1997'},\n",
       " 920: {'uid': '5', 'mid': '383', 'm': 'F', 'date1': '1997'},\n",
       " 921: {'uid': '5', 'mid': '384', 'm': 'F', 'date1': '1997'},\n",
       " 922: {'uid': '5', 'mid': '385', 'm': 'F', 'date1': '1997'},\n",
       " 923: {'uid': '5', 'mid': '386', 'm': 'F', 'date1': '1997'},\n",
       " 924: {'uid': '5', 'mid': '387', 'm': 'F', 'date1': '1997'},\n",
       " 925: {'uid': '5', 'mid': '388', 'm': 'F', 'date1': '1997'},\n",
       " 926: {'uid': '5', 'mid': '389', 'm': 'F', 'date1': '1997'},\n",
       " 927: {'uid': '5', 'mid': '390', 'm': 'F', 'date1': '1997'},\n",
       " 928: {'uid': '5', 'mid': '391', 'm': 'F', 'date1': '1997'},\n",
       " 929: {'uid': '5', 'mid': '392', 'm': 'F', 'date1': '1997'},\n",
       " 930: {'uid': '5', 'mid': '393', 'm': 'F', 'date1': '1997'},\n",
       " 931: {'uid': '5', 'mid': '394', 'm': 'F', 'date1': '1997'},\n",
       " 932: {'uid': '5', 'mid': '395', 'm': 'F', 'date1': '1997'},\n",
       " 933: {'uid': '5', 'mid': '396', 'm': 'F', 'date1': '1997'},\n",
       " 934: {'uid': '5', 'mid': '397', 'm': 'F', 'date1': '1997'},\n",
       " 935: {'uid': '5', 'mid': '398', 'm': 'F', 'date1': '1997'},\n",
       " 936: {'uid': '5', 'mid': '399', 'm': 'F', 'date1': '1997'},\n",
       " 937: {'uid': '5', 'mid': '400', 'm': 'F', 'date1': '1997'},\n",
       " 938: {'uid': '5', 'mid': '401', 'm': 'F', 'date1': '1997'},\n",
       " 939: {'uid': '5', 'mid': '402', 'm': 'F', 'date1': '1997'},\n",
       " 940: {'uid': '5', 'mid': '403', 'm': 'F', 'date1': '1997'},\n",
       " 941: {'uid': '5', 'mid': '404', 'm': 'F', 'date1': '1997'},\n",
       " 942: {'uid': '5', 'mid': '405', 'm': 'F', 'date1': '1997'},\n",
       " 943: {'uid': '5', 'mid': '406', 'm': 'F', 'date1': '1997'},\n",
       " 944: {'uid': '5', 'mid': '407', 'm': 'F', 'date1': '1997'},\n",
       " 945: {'uid': '5', 'mid': '408', 'm': 'F', 'date1': '1997'},\n",
       " 946: {'uid': '5', 'mid': '409', 'm': 'F', 'date1': '1997'},\n",
       " 947: {'uid': '5', 'mid': '410', 'm': 'F', 'date1': '1997'},\n",
       " 948: {'uid': '5', 'mid': '411', 'm': 'F', 'date1': '1997'},\n",
       " 949: {'uid': '5', 'mid': '412', 'm': 'F', 'date1': '1997'},\n",
       " 950: {'uid': '5', 'mid': '413', 'm': 'F', 'date1': '1997'},\n",
       " 951: {'uid': '5', 'mid': '414', 'm': 'F', 'date1': '1997'},\n",
       " 952: {'uid': '5', 'mid': '415', 'm': 'F', 'date1': '1997'},\n",
       " 953: {'uid': '5', 'mid': '416', 'm': 'F', 'date1': '1997'},\n",
       " 954: {'uid': '5', 'mid': '417', 'm': 'F', 'date1': '1997'},\n",
       " 955: {'uid': '5', 'mid': '418', 'm': 'F', 'date1': '1997'},\n",
       " 956: {'uid': '5', 'mid': '419', 'm': 'F', 'date1': '1997'},\n",
       " 957: {'uid': '5', 'mid': '420', 'm': 'F', 'date1': '1997'},\n",
       " 958: {'uid': '5', 'mid': '421', 'm': 'F', 'date1': '1997'},\n",
       " 959: {'uid': '5', 'mid': '422', 'm': 'F', 'date1': '1997'},\n",
       " 960: {'uid': '5', 'mid': '423', 'm': 'F', 'date1': '1997'},\n",
       " 961: {'uid': '5', 'mid': '424', 'm': 'F', 'date1': '1997'},\n",
       " 962: {'uid': '5', 'mid': '425', 'm': 'F', 'date1': '1997'},\n",
       " 963: {'uid': '5', 'mid': '426', 'm': 'F', 'date1': '1997'},\n",
       " 964: {'uid': '5', 'mid': '427', 'm': 'F', 'date1': '1997'},\n",
       " 965: {'uid': '5', 'mid': '428', 'm': 'F', 'date1': '1997'},\n",
       " 966: {'uid': '5', 'mid': '429', 'm': 'F', 'date1': '1997'},\n",
       " 967: {'uid': '5', 'mid': '430', 'm': 'F', 'date1': '1997'},\n",
       " 968: {'uid': '5', 'mid': '431', 'm': 'F', 'date1': '1997'},\n",
       " 969: {'uid': '5', 'mid': '432', 'm': 'F', 'date1': '1997'},\n",
       " 970: {'uid': '5', 'mid': '433', 'm': 'F', 'date1': '1997'},\n",
       " 971: {'uid': '5', 'mid': '434', 'm': 'F', 'date1': '1997'},\n",
       " 972: {'uid': '5', 'mid': '435', 'm': 'F', 'date1': '1997'},\n",
       " 973: {'uid': '5', 'mid': '436', 'm': 'F', 'date1': '1997'},\n",
       " 974: {'uid': '5', 'mid': '437', 'm': 'F', 'date1': '1997'},\n",
       " 975: {'uid': '5', 'mid': '438', 'm': 'F', 'date1': '1997'},\n",
       " 976: {'uid': '5', 'mid': '439', 'm': 'F', 'date1': '1997'},\n",
       " 977: {'uid': '5', 'mid': '440', 'm': 'F', 'date1': '1997'},\n",
       " 978: {'uid': '5', 'mid': '441', 'm': 'F', 'date1': '1997'},\n",
       " 979: {'uid': '5', 'mid': '442', 'm': 'F', 'date1': '1997'},\n",
       " 980: {'uid': '5', 'mid': '443', 'm': 'F', 'date1': '1997'},\n",
       " 981: {'uid': '5', 'mid': '444', 'm': 'F', 'date1': '1997'},\n",
       " 982: {'uid': '5', 'mid': '445', 'm': 'F', 'date1': '1997'},\n",
       " 983: {'uid': '5', 'mid': '446', 'm': 'F', 'date1': '1997'},\n",
       " 984: {'uid': '5', 'mid': '447', 'm': 'F', 'date1': '1997'},\n",
       " 985: {'uid': '5', 'mid': '448', 'm': 'F', 'date1': '1997'},\n",
       " 986: {'uid': '5', 'mid': '449', 'm': 'F', 'date1': '1997'},\n",
       " 987: {'uid': '5', 'mid': '450', 'm': 'F', 'date1': '1997'},\n",
       " 988: {'uid': '5', 'mid': '451', 'm': 'F', 'date1': '1997'},\n",
       " 989: {'uid': '5', 'mid': '452', 'm': 'F', 'date1': '1997'},\n",
       " 990: {'uid': '5', 'mid': '453', 'm': 'F', 'date1': '1997'},\n",
       " 991: {'uid': '5', 'mid': '454', 'm': 'F', 'date1': '1997'},\n",
       " 992: {'uid': '5', 'mid': '455', 'm': 'F', 'date1': '1997'},\n",
       " 993: {'uid': '5', 'mid': '456', 'm': 'F', 'date1': '1997'},\n",
       " 994: {'uid': '5', 'mid': '457', 'm': 'F', 'date1': '1997'},\n",
       " 995: {'uid': '109', 'mid': '1', 'm': 'M', 'date1': '1997'},\n",
       " 996: {'uid': '109', 'mid': '4', 'm': 'M', 'date1': '1997'},\n",
       " 997: {'uid': '109', 'mid': '5', 'm': 'M', 'date1': '1997'},\n",
       " 998: {'uid': '109', 'mid': '7', 'm': 'M', 'date1': '1997'},\n",
       " 999: {'uid': '109', 'mid': '8', 'm': 'M', 'date1': '1997'},\n",
       " ...}"
      ]
     },
     "execution_count": 108,
     "metadata": {},
     "output_type": "execute_result"
    }
   ],
   "source": [
    "filtedNaN_lens.drop('rating', axis=1).T.to_dict()"
   ]
  },
  {
   "cell_type": "code",
   "execution_count": 110,
   "metadata": {},
   "outputs": [
    {
     "data": {
      "text/plain": [
       "[{'uid': '308', 'mid': '1', 'm': 'M', 'date1': '1998'},\n",
       " {'uid': '308', 'mid': '4', 'm': 'M', 'date1': '1998'}]"
      ]
     },
     "execution_count": 110,
     "metadata": {},
     "output_type": "execute_result"
    }
   ],
   "source": [
    "'''\n",
    "[ {'uid': '308', 'mid': '1'}, {'uid': '308', 'mid': '31'}, ... ]\n",
    "'''\n",
    "list( filtedNaN_lens[:2].drop('rating', axis=1).T.to_dict().values() )"
   ]
  },
  {
   "cell_type": "markdown",
   "metadata": {},
   "source": [
    "- 위코드는 테스트 코드 (end)"
   ]
  },
  {
   "cell_type": "code",
   "execution_count": 127,
   "metadata": {},
   "outputs": [
    {
     "name": "stdout",
     "output_type": "stream",
     "text": [
      "(90000, 2630) (90000,) (10000, 2630)\n",
      "(90000, 2629) (90000,) (10000, 2629)\n",
      "(90000, 2628) (90000,) (10000, 2628)\n",
      "(90000, 2625) (90000,) (10000, 2625)\n",
      "[0.8932954994137019, 0.8856376107037375, 0.8925456956173278, 0.887744557428427]\n"
     ]
    }
   ],
   "source": [
    "# 실험 임계값\n",
    "rmse_test = list()\n",
    "n_iter    = 500\n",
    "seed      = 123\n",
    "rank      = 8\n",
    "split_seed= 42\n",
    "\n",
    "# 조합별 반복 훈련 및 검증\n",
    "for column in candidate_columns:\n",
    "    # 누락값 제거\n",
    "    filtedNaN_lens = movie_lens[ column ].dropna()   \n",
    "    \n",
    "    # 백터화처리(평점 부분 고려)\n",
    "    v         = DictVectorizer()  \n",
    "    # 위에서 살펴 봤던 더미 데이터와 동일 구조\n",
    "    tmp       = list( filtedNaN_lens.drop('rating', axis=1).T.to_dict().values() )\n",
    "    #print( len(tmp) )\n",
    "    X_feature =  v.fit_transform( tmp )\n",
    "    #print( X_feature.shape )\n",
    "    # 정답\n",
    "    y_featue  = filtedNaN_lens['rating'].tolist()\n",
    "    #print( len(y_featue) )\n",
    "    \n",
    "    # 데이터 분류(훈련, 테스트)  \n",
    "    X_mc_train, X_mc_test, y_mc_train, y_mc_test = train_test_split( X_feature, \n",
    "                                y_featue, test_size=0.1, random_state=split_seed )\n",
    "    #print( type(X_mc_train) )\n",
    "    #print( '-'*10)\n",
    "    #print( type(X_mc_test)  )\n",
    "    \n",
    "    \n",
    "    #print( X_mc_train.shape )\n",
    "    #print( X_mc_test.shape )\n",
    "    \n",
    "    \n",
    "    # 평점 정규화\n",
    "    scaler = StandardScaler()\n",
    "    # 리스트 y_mc_train을 입력형태에 맞게 2차 배열로 변환\n",
    "    # ravel() 다차원 배열을 1차원 배열로 평평하게 펴준다\n",
    "    y_mc_train_norm = scaler.fit_transform( np.array(y_mc_train).reshape(-1,1) ).ravel()\n",
    "    #print( y_mc_train_norm.shape )\n",
    "    \n",
    "    \n",
    "    # 알고리즘 생성\n",
    "    fm     = mcmc.FMRegression( n_iter=n_iter, rank=rank, random_state=seed )\n",
    "    # 훈련 및예측\n",
    "    print( X_mc_train.shape, y_mc_train_norm.shape, X_mc_test.shape )\n",
    "    y_pred = fm.fit_predict( X_mc_train, y_mc_train_norm, X_mc_test )\n",
    "    #break\n",
    "    \n",
    "    # RMSE값 계산\n",
    "    tmp2   = scaler.inverse_transform( y_pred.reshape(-1, 1) )\n",
    "    rmse_test.append( np.sqrt( mean_squared_error( tmp2, y_mc_test) ) )\n",
    "\n",
    "# 시각화 (성능 조합 대비 RMSE 비교)\n",
    "print( rmse_test )"
   ]
  },
  {
   "cell_type": "code",
   "execution_count": 130,
   "metadata": {},
   "outputs": [
    {
     "data": {
      "text/plain": [
       "(0.88, 0.9)"
      ]
     },
     "execution_count": 130,
     "metadata": {},
     "output_type": "execute_result"
    },
    {
     "data": {
      "image/png": "[encoded data removed]",
      "text/plain": [
       "<Figure size 432x288 with 1 Axes>"
      ]
     },
     "metadata": {},
     "output_type": "display_data"
    }
   ],
   "source": [
    "# 시각화\n",
    "x_incre = np.arange( len(candidate_columns) )\n",
    "bar     = plt.bar( x_incre, height=rmse_test )\n",
    "plt.xticks( x_incre, list('ABCD') )\n",
    "plt.ylim( 0.88, 0.90 )"
   ]
  },
  {
   "cell_type": "code",
   "execution_count": 131,
   "metadata": {},
   "outputs": [
    {
     "data": {
      "text/plain": [
       "['uid', 'mid', 'm', 'date1', 'rating']"
      ]
     },
     "execution_count": 131,
     "metadata": {},
     "output_type": "execute_result"
    }
   ],
   "source": [
    "# 평가\n",
    "# 어떤 특성을 추가하면 혹은 배치하면 성능을 높일수 있는지 검증이 가능\n",
    "# 이렇게 사용자 정보(uid)와 영화 정보(mid)이외의 정보를 활용하여\n",
    "# 추천같은 상황을 인지할수 있는 방식 => 인지 추천이라고 한다"
   ]
  },
  {
   "cell_type": "code",
   "execution_count": null,
   "metadata": {},
   "outputs": [],
   "source": []
  },
  {
   "cell_type": "code",
   "execution_count": null,
   "metadata": {},
   "outputs": [],
   "source": []
  },
  {
   "cell_type": "code",
   "execution_count": null,
   "metadata": {},
   "outputs": [],
   "source": [
    "# 6. 시스템통합 (서비스에 반영, OTT, 쇼핑몰 등등 대상)"
   ]
  },
  {
   "cell_type": "code",
   "execution_count": null,
   "metadata": {},
   "outputs": [],
   "source": [
    "y_train"
   ]
  },
  {
   "cell_type": "code",
   "execution_count": null,
   "metadata": {},
   "outputs": [],
   "source": []
  },
  {
   "cell_type": "code",
   "execution_count": null,
   "metadata": {},
   "outputs": [],
   "source": []
  },
  {
   "cell_type": "code",
   "execution_count": null,
   "metadata": {},
   "outputs": [],
   "source": []
  },
  {
   "cell_type": "code",
   "execution_count": null,
   "metadata": {},
   "outputs": [],
   "source": []
  },
  {
   "cell_type": "code",
   "execution_count": null,
   "metadata": {},
   "outputs": [],
   "source": []
  }
 ],
 "metadata": {
  "kernelspec": {
   "display_name": "Python 3",
   "language": "python",
   "name": "python3"
  },
  "language_info": {
   "codemirror_mode": {
    "name": "ipython",
    "version": 3
   },
   "file_extension": ".py",
   "mimetype": "text/x-python",
   "name": "python",
   "nbconvert_exporter": "python",
   "pygments_lexer": "ipython3",
   "version": "3.6.9"
  }
 },
 "nbformat": 4,
 "nbformat_minor": 2
}
